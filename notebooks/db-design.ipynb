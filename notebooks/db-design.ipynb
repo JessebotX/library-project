{
 "cells": [
  {
   "cell_type": "code",
   "execution_count": null,
   "id": "c594a217",
   "metadata": {},
   "outputs": [],
   "source": [
    "import pandas as pd\n",
    "import numpy as np\n",
    "import names\n",
    "from IPython.display import display, HTML\n",
    "from sqlalchemy import create_engine\n",
    "\n",
    "display(HTML(\"<style>.container { width:100% !important; }</style>\"))"
   ]
  },
  {
   "cell_type": "markdown",
   "id": "6c0735fe",
   "metadata": {},
   "source": [
    "# Creating a db"
   ]
  },
  {
   "cell_type": "code",
   "execution_count": 2,
   "id": "fc19b1e4",
   "metadata": {},
   "outputs": [],
   "source": [
    "%load_ext sql"
   ]
  },
  {
   "cell_type": "code",
   "execution_count": 3,
   "id": "50408cc4",
   "metadata": {},
   "outputs": [
    {
     "data": {
      "text/plain": [
       "'Connected: @library.db'"
      ]
     },
     "execution_count": 3,
     "metadata": {},
     "output_type": "execute_result"
    }
   ],
   "source": [
    "%sql sqlite:///library.db"
   ]
  },
  {
   "cell_type": "markdown",
   "id": "41d19221",
   "metadata": {},
   "source": [
    "# Creating tables"
   ]
  },
  {
   "cell_type": "code",
   "execution_count": 80,
   "id": "c59a3130",
   "metadata": {},
   "outputs": [
    {
     "name": "stdout",
     "output_type": "stream",
     "text": [
      " * sqlite:///library.db\n",
      "Done.\n"
     ]
    },
    {
     "data": {
      "text/plain": [
       "[]"
      ]
     },
     "execution_count": 80,
     "metadata": {},
     "output_type": "execute_result"
    }
   ],
   "source": [
    "%%sql\n",
    "CREATE TABLE User(\n",
    "    userID INTEGER PRIMARY KEY,\n",
    "    firstName VARCHAR(30) NOT NULL,\n",
    "    lastName VARCHAR(30) NOT NULL,\n",
    "    age INTEGER NOT NULL,\n",
    "    fines NUMERIC(5,2) DEFAULT 0,\n",
    "    CHECK (age >= 7),\n",
    "    CHECK (fines >= 0)\n",
    ");"
   ]
  },
  {
   "cell_type": "code",
   "execution_count": 81,
   "id": "03ba5524",
   "metadata": {},
   "outputs": [
    {
     "name": "stdout",
     "output_type": "stream",
     "text": [
      " * sqlite:///library.db\n",
      "Done.\n"
     ]
    },
    {
     "data": {
      "text/plain": [
       "[]"
      ]
     },
     "execution_count": 81,
     "metadata": {},
     "output_type": "execute_result"
    }
   ],
   "source": [
    "%%sql\n",
    "CREATE TABLE Librarian(\n",
    "    librarianID INTEGER PRIMARY KEY,\n",
    "    firstName VARCHAR(30) NOT NULL,\n",
    "    lastName VARCHAR(30) NOT NULL,\n",
    "    salary NUMERIC(6,2) DEFAULT 0,\n",
    "    department VARCHAR(20) NOT NULL,\n",
    "    CHECK (salary >= 0)\n",
    ");"
   ]
  },
  {
   "cell_type": "code",
   "execution_count": 82,
   "id": "4815a915",
   "metadata": {},
   "outputs": [
    {
     "name": "stdout",
     "output_type": "stream",
     "text": [
      " * sqlite:///library.db\n",
      "Done.\n"
     ]
    },
    {
     "data": {
      "text/plain": [
       "[]"
      ]
     },
     "execution_count": 82,
     "metadata": {},
     "output_type": "execute_result"
    }
   ],
   "source": [
    "%%sql\n",
    "CREATE TABLE BorrowedItem(\n",
    "    userID REFERENCES User(userID) NOT NULL,\n",
    "    libraryItemID REFERENCES LibraryItem(libraryItemID) NOT NULL,\n",
    "    dueDate DATETIME DEFAULT (date(CURRENT_TIMESTAMP, '+14 day')) NOT NULL,\n",
    "    returnedDate DATETIME DEFAULT NULL,\n",
    "    PRIMARY KEY (userID, libraryItemID, dueDate)\n",
    ");"
   ]
  },
  {
   "cell_type": "code",
   "execution_count": 83,
   "id": "b0394a73",
   "metadata": {},
   "outputs": [
    {
     "name": "stdout",
     "output_type": "stream",
     "text": [
      " * sqlite:///library.db\n",
      "Done.\n"
     ]
    },
    {
     "data": {
      "text/plain": [
       "[]"
      ]
     },
     "execution_count": 83,
     "metadata": {},
     "output_type": "execute_result"
    }
   ],
   "source": [
    "%%sql\n",
    "CREATE TABLE LibraryItem(\n",
    "    libraryItemID INTEGER PRIMARY KEY,\n",
    "    itemID REFERENCES Item(itemID) NOT NULL,\n",
    "    toBeAdded BOOLEAN\n",
    ");"
   ]
  },
  {
   "cell_type": "code",
   "execution_count": 84,
   "id": "33c89757",
   "metadata": {},
   "outputs": [
    {
     "name": "stdout",
     "output_type": "stream",
     "text": [
      " * sqlite:///library.db\n",
      "Done.\n"
     ]
    },
    {
     "data": {
      "text/plain": [
       "[]"
      ]
     },
     "execution_count": 84,
     "metadata": {},
     "output_type": "execute_result"
    }
   ],
   "source": [
    "%%sql\n",
    "CREATE TABLE Item(\n",
    "    itemID INTEGER PRIMARY KEY,\n",
    "    author VARCHAR(30),\n",
    "    itemName VARCHAR(30) NOT NULL,\n",
    "    type VARCHAR(15) NOT NULL\n",
    ");"
   ]
  },
  {
   "cell_type": "code",
   "execution_count": 85,
   "id": "77fc8fac",
   "metadata": {},
   "outputs": [
    {
     "name": "stdout",
     "output_type": "stream",
     "text": [
      " * sqlite:///library.db\n",
      "Done.\n"
     ]
    },
    {
     "data": {
      "text/plain": [
       "[]"
      ]
     },
     "execution_count": 85,
     "metadata": {},
     "output_type": "execute_result"
    }
   ],
   "source": [
    "%%sql\n",
    "CREATE TABLE Event(\n",
    "    startTS DATETIME NOT NULL,\n",
    "    endTS DATETIME NOT NULL,\n",
    "    room VARCHAR(10) NOT NULL,\n",
    "    eventName VARCHAR(30) NOT NULL,\n",
    "    audience VARCHAR(20),\n",
    "    maxRegistrations INTEGER DEFAULT 0,\n",
    "    artist VARCHAR(30),\n",
    "    itemID REFERENCES Item(itemID),\n",
    "    PRIMARY KEY (startTS, room),\n",
    "    CHECK (maxRegistrations >= 0)\n",
    ");"
   ]
  },
  {
   "cell_type": "code",
   "execution_count": 86,
   "id": "41799755",
   "metadata": {},
   "outputs": [
    {
     "name": "stdout",
     "output_type": "stream",
     "text": [
      " * sqlite:///library.db\n",
      "Done.\n"
     ]
    },
    {
     "data": {
      "text/plain": [
       "[]"
      ]
     },
     "execution_count": 86,
     "metadata": {},
     "output_type": "execute_result"
    }
   ],
   "source": [
    "%%sql\n",
    "CREATE TABLE EventRegistration(\n",
    "    startTS REFERENCES Event(startTS) NOT NULL,\n",
    "    room REFERENCES Event(room) NOT NULL,\n",
    "    userID REFERENCES User(userID) NOT NULL,\n",
    "    PRIMARY KEY (startTS, room)\n",
    ");"
   ]
  },
  {
   "cell_type": "markdown",
   "id": "fc64bc76",
   "metadata": {},
   "source": [
    "# ASSERTIONS AND TRIGGERS"
   ]
  },
  {
   "cell_type": "markdown",
   "id": "1d22d6c7",
   "metadata": {},
   "source": [
    "## List of Assertions\n",
    "\n",
    " - Maximum possible users <= some constant\n",
    " - Maximum employee salary <= budget"
   ]
  },
  {
   "cell_type": "markdown",
   "id": "f64db765",
   "metadata": {},
   "source": [
    "## List of Triggers\n",
    "\n",
    " - Users with fines cannot borrow items\n",
    " - Users cannot take items that are already checked out\n",
    " - Users cannot return items that have already been returned\n",
    " - Users cannot register for events at max capacity\n",
    " - Users cannot register multiple times for the same event\n",
    " - Users cannot register for past events"
   ]
  },
  {
   "cell_type": "code",
   "execution_count": 87,
   "id": "9f614223",
   "metadata": {},
   "outputs": [
    {
     "name": "stdout",
     "output_type": "stream",
     "text": [
      " * sqlite:///library.db\n",
      "Done.\n"
     ]
    },
    {
     "data": {
      "text/plain": [
       "[]"
      ]
     },
     "execution_count": 87,
     "metadata": {},
     "output_type": "execute_result"
    }
   ],
   "source": [
    "%%sql\n",
    "CREATE TRIGGER prevent_multiple_returns\n",
    "BEFORE UPDATE OF returnedDate ON BorrowedItem\n",
    "FOR EACH ROW\n",
    "WHEN NEW.returnedDate IS NOT NULL AND OLD.returnedDate IS NOT NULL\n",
    "BEGIN\n",
    "    SELECT RAISE(ABORT, 'The item has already been returned.');\n",
    "END;"
   ]
  },
  {
   "cell_type": "code",
   "execution_count": 88,
   "id": "5112d6ab",
   "metadata": {},
   "outputs": [
    {
     "name": "stdout",
     "output_type": "stream",
     "text": [
      " * sqlite:///library.db\n",
      "Done.\n"
     ]
    },
    {
     "data": {
      "text/plain": [
       "[]"
      ]
     },
     "execution_count": 88,
     "metadata": {},
     "output_type": "execute_result"
    }
   ],
   "source": [
    "%%sql\n",
    "CREATE TRIGGER prevent_max_registrations\n",
    "BEFORE INSERT ON EventRegistration\n",
    "FOR EACH ROW\n",
    "WHEN (\n",
    "    SELECT COUNT(*) FROM EventRegistration WHERE startTS = NEW.startTS AND room = NEW.room\n",
    ") >= (\n",
    "    SELECT maxRegistrations FROM Event WHERE startTS = NEW.startTS AND room = NEW.room\n",
    ")\n",
    "BEGIN\n",
    "    SELECT RAISE(ABORT, 'Event is at max capacity.');\n",
    "END;"
   ]
  },
  {
   "cell_type": "code",
   "execution_count": 89,
   "id": "d142c360",
   "metadata": {},
   "outputs": [
    {
     "name": "stdout",
     "output_type": "stream",
     "text": [
      " * sqlite:///library.db\n",
      "Done.\n"
     ]
    },
    {
     "data": {
      "text/plain": [
       "[]"
      ]
     },
     "execution_count": 89,
     "metadata": {},
     "output_type": "execute_result"
    }
   ],
   "source": [
    "%%sql\n",
    "CREATE TRIGGER prevent_duplicate_event_registration\n",
    "BEFORE INSERT ON EventRegistration\n",
    "FOR EACH ROW\n",
    "WHEN (\n",
    "    SELECT COUNT(*) FROM EventRegistration\n",
    "    WHERE startTS = NEW.startTS AND room = NEW.room AND userID = NEW.userID\n",
    ") > 0\n",
    "BEGIN\n",
    "    SELECT RAISE(ABORT, 'The user has already registered for this event.');\n",
    "END;"
   ]
  },
  {
   "cell_type": "code",
   "execution_count": 5,
   "id": "6e366d73",
   "metadata": {},
   "outputs": [
    {
     "name": "stdout",
     "output_type": "stream",
     "text": [
      " * sqlite:///library.db\n",
      "Done.\n"
     ]
    },
    {
     "data": {
      "text/plain": [
       "[]"
      ]
     },
     "execution_count": 5,
     "metadata": {},
     "output_type": "execute_result"
    }
   ],
   "source": [
    "%%sql\n",
    "CREATE TRIGGER prevent_past_event_registration\n",
    "BEFORE INSERT ON EventRegistration\n",
    "FOR EACH ROW\n",
    "WHEN (\n",
    "    SELECT datetime(startTS) FROM Event WHERE startTS = NEW.startTS AND room = NEW.room\n",
    ") < datetime('now')\n",
    "BEGIN\n",
    "    SELECT RAISE(ABORT, 'Cannot register for past events.');\n",
    "END;"
   ]
  },
  {
   "cell_type": "code",
   "execution_count": 7,
   "id": "f8179ae1",
   "metadata": {},
   "outputs": [
    {
     "name": "stdout",
     "output_type": "stream",
     "text": [
      " * sqlite:///library.db\n",
      "Done.\n"
     ]
    },
    {
     "data": {
      "text/plain": [
       "[]"
      ]
     },
     "execution_count": 7,
     "metadata": {},
     "output_type": "execute_result"
    }
   ],
   "source": [
    "%%sql\n",
    "CREATE TRIGGER prevent_borrow_unavailable_item\n",
    "BEFORE INSERT ON BorrowedItem\n",
    "FOR EACH ROW\n",
    "WHEN (\n",
    "    SELECT COUNT(*) FROM BorrowedItem \n",
    "    WHERE libraryItemID = NEW.libraryItemID \n",
    "    AND returnedDate IS NULL\n",
    ") > 0\n",
    "BEGIN\n",
    "    SELECT RAISE(ABORT, 'The item is not available for borrowing.');\n",
    "END;"
   ]
  },
  {
   "cell_type": "code",
   "execution_count": 11,
   "id": "47fb7579",
   "metadata": {},
   "outputs": [
    {
     "name": "stdout",
     "output_type": "stream",
     "text": [
      " * sqlite:///library.db\n",
      "Done.\n"
     ]
    },
    {
     "data": {
      "text/plain": [
       "[]"
      ]
     },
     "execution_count": 11,
     "metadata": {},
     "output_type": "execute_result"
    }
   ],
   "source": [
    "%%sql\n",
    "CREATE TRIGGER prevent_borrow_unavailable_item_tba\n",
    "BEFORE INSERT ON BorrowedItem\n",
    "FOR EACH ROW\n",
    "WHEN (\n",
    "    SELECT toBeAdded FROM LibraryItem WHERE libraryItemID = NEW.libraryItemID\n",
    ") = 1\n",
    "BEGIN\n",
    "    SELECT RAISE(ABORT, 'The item is not available for borrowing.');\n",
    "END;"
   ]
  },
  {
   "cell_type": "code",
   "execution_count": 12,
   "id": "c81f117a",
   "metadata": {},
   "outputs": [
    {
     "name": "stdout",
     "output_type": "stream",
     "text": [
      " * sqlite:///library.db\n",
      "Done.\n"
     ]
    },
    {
     "data": {
      "text/html": [
       "<table>\n",
       "    <thead>\n",
       "        <tr>\n",
       "            <th>type</th>\n",
       "            <th>name</th>\n",
       "            <th>tbl_name</th>\n",
       "            <th>rootpage</th>\n",
       "            <th>sql</th>\n",
       "        </tr>\n",
       "    </thead>\n",
       "    <tbody>\n",
       "        <tr>\n",
       "            <td>trigger</td>\n",
       "            <td>prevent_multiple_returns</td>\n",
       "            <td>BorrowedItem</td>\n",
       "            <td>0</td>\n",
       "            <td>CREATE TRIGGER prevent_multiple_returns<br>BEFORE UPDATE OF returnedDate ON BorrowedItem<br>FOR EACH ROW<br>WHEN NEW.returnedDate IS NOT NULL AND OLD.returnedDate IS NOT NULL<br>BEGIN<br>    SELECT RAISE(ABORT, &#x27;The item has already been returned.&#x27;);<br>END</td>\n",
       "        </tr>\n",
       "        <tr>\n",
       "            <td>trigger</td>\n",
       "            <td>prevent_max_registrations</td>\n",
       "            <td>EventRegistration</td>\n",
       "            <td>0</td>\n",
       "            <td>CREATE TRIGGER prevent_max_registrations<br>BEFORE INSERT ON EventRegistration<br>FOR EACH ROW<br>WHEN (<br>    SELECT COUNT(*) FROM EventRegistration WHERE startTS = NEW.startTS AND room = NEW.room<br>) &gt;= (<br>    SELECT maxRegistrations FROM Event WHERE startTS = NEW.startTS AND room = NEW.room<br>)<br>BEGIN<br>    SELECT RAISE(ABORT, &#x27;Event is at max capacity.&#x27;);<br>END</td>\n",
       "        </tr>\n",
       "        <tr>\n",
       "            <td>trigger</td>\n",
       "            <td>prevent_duplicate_event_registration</td>\n",
       "            <td>EventRegistration</td>\n",
       "            <td>0</td>\n",
       "            <td>CREATE TRIGGER prevent_duplicate_event_registration<br>BEFORE INSERT ON EventRegistration<br>FOR EACH ROW<br>WHEN (<br>    SELECT COUNT(*) FROM EventRegistration<br>    WHERE startTS = NEW.startTS AND room = NEW.room AND userID = NEW.userID<br>) &gt; 0<br>BEGIN<br>    SELECT RAISE(ABORT, &#x27;The user has already registered for this event.&#x27;);<br>END</td>\n",
       "        </tr>\n",
       "        <tr>\n",
       "            <td>trigger</td>\n",
       "            <td>prevent_past_event_registration</td>\n",
       "            <td>EventRegistration</td>\n",
       "            <td>0</td>\n",
       "            <td>CREATE TRIGGER prevent_past_event_registration<br>BEFORE INSERT ON EventRegistration<br>FOR EACH ROW<br>WHEN (<br>    SELECT datetime(startTS) FROM Event WHERE startTS = NEW.startTS AND room = NEW.room<br>) &lt; datetime(&#x27;now&#x27;)<br>BEGIN<br>    SELECT RAISE(ABORT, &#x27;Cannot register for past events.&#x27;);<br>END</td>\n",
       "        </tr>\n",
       "        <tr>\n",
       "            <td>trigger</td>\n",
       "            <td>prevent_borrow_unavailable_item</td>\n",
       "            <td>BorrowedItem</td>\n",
       "            <td>0</td>\n",
       "            <td>CREATE TRIGGER prevent_borrow_unavailable_item<br>BEFORE INSERT ON BorrowedItem<br>FOR EACH ROW<br>WHEN (<br>    SELECT COUNT(*) FROM BorrowedItem <br>    WHERE libraryItemID = NEW.libraryItemID <br>    AND returnedDate IS NULL<br>) &gt; 0<br>BEGIN<br>    SELECT RAISE(ABORT, &#x27;The item is not available for borrowing.&#x27;);<br>END</td>\n",
       "        </tr>\n",
       "        <tr>\n",
       "            <td>trigger</td>\n",
       "            <td>prevent_borrow_unavailable_item_tba</td>\n",
       "            <td>BorrowedItem</td>\n",
       "            <td>0</td>\n",
       "            <td>CREATE TRIGGER prevent_borrow_unavailable_item_tba<br>BEFORE INSERT ON BorrowedItem<br>FOR EACH ROW<br>WHEN (<br>    SELECT toBeAdded FROM LibraryItem WHERE libraryItemID = NEW.libraryItemID<br>) = 1<br>BEGIN<br>    SELECT RAISE(ABORT, &#x27;The item is not available for borrowing.&#x27;);<br>END</td>\n",
       "        </tr>\n",
       "    </tbody>\n",
       "</table>"
      ],
      "text/plain": [
       "[('trigger', 'prevent_multiple_returns', 'BorrowedItem', 0, \"CREATE TRIGGER prevent_multiple_returns\\nBEFORE UPDATE OF returnedDate ON BorrowedItem\\nFOR EACH ROW\\nWHEN NEW.returnedDate IS NOT NULL AND OLD.returnedDate IS NOT NULL\\nBEGIN\\n    SELECT RAISE(ABORT, 'The item has already been returned.');\\nEND\"),\n",
       " ('trigger', 'prevent_max_registrations', 'EventRegistration', 0, \"CREATE TRIGGER prevent_max_registrations\\nBEFORE INSERT ON EventRegistration\\nFOR EACH ROW\\nWHEN (\\n    SELECT COUNT(*) FROM EventRegistration WHERE  ... (58 characters truncated) ... ECT maxRegistrations FROM Event WHERE startTS = NEW.startTS AND room = NEW.room\\n)\\nBEGIN\\n    SELECT RAISE(ABORT, 'Event is at max capacity.');\\nEND\"),\n",
       " ('trigger', 'prevent_duplicate_event_registration', 'EventRegistration', 0, \"CREATE TRIGGER prevent_duplicate_event_registration\\nBEFORE INSERT ON EventRegistration\\nFOR EACH ROW\\nWHEN (\\n    SELECT COUNT(*) FROM EventRegistra ... (28 characters truncated) ... W.startTS AND room = NEW.room AND userID = NEW.userID\\n) > 0\\nBEGIN\\n    SELECT RAISE(ABORT, 'The user has already registered for this event.');\\nEND\"),\n",
       " ('trigger', 'prevent_past_event_registration', 'EventRegistration', 0, \"CREATE TRIGGER prevent_past_event_registration\\nBEFORE INSERT ON EventRegistration\\nFOR EACH ROW\\nWHEN (\\n    SELECT datetime(startTS) FROM Event WHERE startTS = NEW.startTS AND room = NEW.room\\n) < datetime('now')\\nBEGIN\\n    SELECT RAISE(ABORT, 'Cannot register for past events.');\\nEND\"),\n",
       " ('trigger', 'prevent_borrow_unavailable_item', 'BorrowedItem', 0, \"CREATE TRIGGER prevent_borrow_unavailable_item\\nBEFORE INSERT ON BorrowedItem\\nFOR EACH ROW\\nWHEN (\\n    SELECT COUNT(*) FROM BorrowedItem \\n    WHER ... (6 characters truncated) ... aryItemID = NEW.libraryItemID \\n    AND returnedDate IS NULL\\n) > 0\\nBEGIN\\n    SELECT RAISE(ABORT, 'The item is not available for borrowing.');\\nEND\"),\n",
       " ('trigger', 'prevent_borrow_unavailable_item_tba', 'BorrowedItem', 0, \"CREATE TRIGGER prevent_borrow_unavailable_item_tba\\nBEFORE INSERT ON BorrowedItem\\nFOR EACH ROW\\nWHEN (\\n    SELECT toBeAdded FROM LibraryItem WHERE libraryItemID = NEW.libraryItemID\\n) = 1\\nBEGIN\\n    SELECT RAISE(ABORT, 'The item is not available for borrowing.');\\nEND\")]"
      ]
     },
     "execution_count": 12,
     "metadata": {},
     "output_type": "execute_result"
    }
   ],
   "source": [
    "%%sql\n",
    "SELECT * FROM sqlite_master WHERE type = 'trigger'; "
   ]
  },
  {
   "cell_type": "markdown",
   "id": "859f9dc8",
   "metadata": {},
   "source": [
    "# INDEXING"
   ]
  },
  {
   "cell_type": "code",
   "execution_count": 90,
   "id": "2a45e8c5",
   "metadata": {},
   "outputs": [
    {
     "name": "stdout",
     "output_type": "stream",
     "text": [
      " * sqlite:///library.db\n",
      "Done.\n"
     ]
    },
    {
     "data": {
      "text/html": [
       "<table>\n",
       "    <thead>\n",
       "        <tr>\n",
       "            <th>type</th>\n",
       "            <th>name</th>\n",
       "            <th>tbl_name</th>\n",
       "            <th>rootpage</th>\n",
       "            <th>sql</th>\n",
       "        </tr>\n",
       "    </thead>\n",
       "    <tbody>\n",
       "        <tr>\n",
       "            <td>index</td>\n",
       "            <td>sqlite_autoindex_BorrowedItem_1</td>\n",
       "            <td>BorrowedItem</td>\n",
       "            <td>5</td>\n",
       "            <td>None</td>\n",
       "        </tr>\n",
       "        <tr>\n",
       "            <td>index</td>\n",
       "            <td>sqlite_autoindex_Event_1</td>\n",
       "            <td>Event</td>\n",
       "            <td>9</td>\n",
       "            <td>None</td>\n",
       "        </tr>\n",
       "        <tr>\n",
       "            <td>index</td>\n",
       "            <td>sqlite_autoindex_EventRegistration_1</td>\n",
       "            <td>EventRegistration</td>\n",
       "            <td>11</td>\n",
       "            <td>None</td>\n",
       "        </tr>\n",
       "    </tbody>\n",
       "</table>"
      ],
      "text/plain": [
       "[('index', 'sqlite_autoindex_BorrowedItem_1', 'BorrowedItem', 5, None),\n",
       " ('index', 'sqlite_autoindex_Event_1', 'Event', 9, None),\n",
       " ('index', 'sqlite_autoindex_EventRegistration_1', 'EventRegistration', 11, None)]"
      ]
     },
     "execution_count": 90,
     "metadata": {},
     "output_type": "execute_result"
    }
   ],
   "source": [
    "%%sql\n",
    "SELECT * FROM sqlite_master WHERE type = 'index'; "
   ]
  },
  {
   "cell_type": "code",
   "execution_count": 91,
   "id": "19f402b6",
   "metadata": {},
   "outputs": [
    {
     "name": "stdout",
     "output_type": "stream",
     "text": [
      " * sqlite:///library.db\n",
      "Done.\n",
      "Done.\n",
      "Done.\n"
     ]
    },
    {
     "data": {
      "text/plain": [
       "[]"
      ]
     },
     "execution_count": 91,
     "metadata": {},
     "output_type": "execute_result"
    }
   ],
   "source": [
    "%%sql\n",
    "--CREATE INDEX pk_user_id ON User(userID);\n",
    "--CREATE INDEX pk_librarian_id ON Librarian(librarianID);\n",
    "--CREATE INDEX pk_libraryitem_id ON LibraryItem(libraryItemID);\n",
    "--CREATE INDEX pk_item_id ON Item(itemID);\n",
    "CREATE INDEX ck_libraryitem_id ON LibraryItem(itemID);\n",
    "CREATE INDEX ck_event_room ON Event(room);\n",
    "CREATE INDEX ck_eventregistration_userid ON EventRegistration(userID);\n"
   ]
  },
  {
   "cell_type": "markdown",
   "id": "dc13d22a",
   "metadata": {},
   "source": [
    "# Populating tables"
   ]
  },
  {
   "cell_type": "markdown",
   "id": "7f0bd186",
   "metadata": {},
   "source": [
    "## Table: Item"
   ]
  },
  {
   "cell_type": "markdown",
   "id": "0a5952ec",
   "metadata": {},
   "source": [
    "### Books"
   ]
  },
  {
   "cell_type": "code",
   "execution_count": 92,
   "id": "a820d735",
   "metadata": {},
   "outputs": [
    {
     "data": {
      "text/html": [
       "<div>\n",
       "<style scoped>\n",
       "    .dataframe tbody tr th:only-of-type {\n",
       "        vertical-align: middle;\n",
       "    }\n",
       "\n",
       "    .dataframe tbody tr th {\n",
       "        vertical-align: top;\n",
       "    }\n",
       "\n",
       "    .dataframe thead th {\n",
       "        text-align: right;\n",
       "    }\n",
       "</style>\n",
       "<table border=\"1\" class=\"dataframe\">\n",
       "  <thead>\n",
       "    <tr style=\"text-align: right;\">\n",
       "      <th></th>\n",
       "      <th>author</th>\n",
       "      <th>itemName</th>\n",
       "      <th>type</th>\n",
       "    </tr>\n",
       "  </thead>\n",
       "  <tbody>\n",
       "    <tr>\n",
       "      <th>0</th>\n",
       "      <td>Suzanne Collins</td>\n",
       "      <td>The Hunger Games</td>\n",
       "      <td>book</td>\n",
       "    </tr>\n",
       "    <tr>\n",
       "      <th>1</th>\n",
       "      <td>J.K. Rowling, Mary GrandPré (Illustrator)</td>\n",
       "      <td>Harry Potter and the Order of the Phoenix</td>\n",
       "      <td>book</td>\n",
       "    </tr>\n",
       "    <tr>\n",
       "      <th>2</th>\n",
       "      <td>Harper Lee</td>\n",
       "      <td>To Kill a Mockingbird</td>\n",
       "      <td>book</td>\n",
       "    </tr>\n",
       "    <tr>\n",
       "      <th>3</th>\n",
       "      <td>Jane Austen, Anna Quindlen (Introduction)</td>\n",
       "      <td>Pride and Prejudice</td>\n",
       "      <td>book</td>\n",
       "    </tr>\n",
       "    <tr>\n",
       "      <th>4</th>\n",
       "      <td>Stephenie Meyer</td>\n",
       "      <td>Twilight</td>\n",
       "      <td>book</td>\n",
       "    </tr>\n",
       "  </tbody>\n",
       "</table>\n",
       "</div>"
      ],
      "text/plain": [
       "                                      author  \\\n",
       "0                            Suzanne Collins   \n",
       "1  J.K. Rowling, Mary GrandPré (Illustrator)   \n",
       "2                                 Harper Lee   \n",
       "3  Jane Austen, Anna Quindlen (Introduction)   \n",
       "4                            Stephenie Meyer   \n",
       "\n",
       "                                    itemName  type  \n",
       "0                           The Hunger Games  book  \n",
       "1  Harry Potter and the Order of the Phoenix  book  \n",
       "2                      To Kill a Mockingbird  book  \n",
       "3                        Pride and Prejudice  book  \n",
       "4                                   Twilight  book  "
      ]
     },
     "execution_count": 92,
     "metadata": {},
     "output_type": "execute_result"
    }
   ],
   "source": [
    "books = pd.read_csv('..//data//books2.csv').iloc[:10]\n",
    "books = books[['author', 'title']]\n",
    "books.rename(columns={'title':'itemName'}, inplace=True)\n",
    "books.loc[:,'type'] = 'book'\n",
    "books.drop_duplicates(subset=['itemName'], inplace=True)\n",
    "books.head(5)"
   ]
  },
  {
   "cell_type": "markdown",
   "id": "b76b1167",
   "metadata": {},
   "source": [
    "### Movies"
   ]
  },
  {
   "cell_type": "code",
   "execution_count": 93,
   "id": "acc4239e",
   "metadata": {},
   "outputs": [
    {
     "data": {
      "text/html": [
       "<div>\n",
       "<style scoped>\n",
       "    .dataframe tbody tr th:only-of-type {\n",
       "        vertical-align: middle;\n",
       "    }\n",
       "\n",
       "    .dataframe tbody tr th {\n",
       "        vertical-align: top;\n",
       "    }\n",
       "\n",
       "    .dataframe thead th {\n",
       "        text-align: right;\n",
       "    }\n",
       "</style>\n",
       "<table border=\"1\" class=\"dataframe\">\n",
       "  <thead>\n",
       "    <tr style=\"text-align: right;\">\n",
       "      <th></th>\n",
       "      <th>itemName</th>\n",
       "      <th>type</th>\n",
       "      <th>author</th>\n",
       "    </tr>\n",
       "  </thead>\n",
       "  <tbody>\n",
       "    <tr>\n",
       "      <th>0</th>\n",
       "      <td>Toy Story</td>\n",
       "      <td>movie</td>\n",
       "      <td>nan</td>\n",
       "    </tr>\n",
       "    <tr>\n",
       "      <th>1</th>\n",
       "      <td>Jumanji</td>\n",
       "      <td>movie</td>\n",
       "      <td>nan</td>\n",
       "    </tr>\n",
       "    <tr>\n",
       "      <th>2</th>\n",
       "      <td>Grumpier Old Men</td>\n",
       "      <td>movie</td>\n",
       "      <td>nan</td>\n",
       "    </tr>\n",
       "    <tr>\n",
       "      <th>3</th>\n",
       "      <td>Waiting to Exhale</td>\n",
       "      <td>movie</td>\n",
       "      <td>nan</td>\n",
       "    </tr>\n",
       "    <tr>\n",
       "      <th>4</th>\n",
       "      <td>Father of the Bride Part II</td>\n",
       "      <td>movie</td>\n",
       "      <td>nan</td>\n",
       "    </tr>\n",
       "  </tbody>\n",
       "</table>\n",
       "</div>"
      ],
      "text/plain": [
       "                      itemName   type author\n",
       "0                    Toy Story  movie    nan\n",
       "1                      Jumanji  movie    nan\n",
       "2             Grumpier Old Men  movie    nan\n",
       "3            Waiting to Exhale  movie    nan\n",
       "4  Father of the Bride Part II  movie    nan"
      ]
     },
     "execution_count": 93,
     "metadata": {},
     "output_type": "execute_result"
    }
   ],
   "source": [
    "movies = pd.read_csv('..//data/movies.csv')[:5]\n",
    "movies.rename(columns={'title':'itemName'}, inplace=True)\n",
    "for row in range(0,len(movies)):\n",
    "    movies.loc[row,'itemName'] = movies.iloc[row]['itemName'][:-7]\n",
    "movies.loc[:, 'type'] = 'movie'\n",
    "movies.loc[:, 'author'] = 'nan'\n",
    "movies.drop(columns=['movieId', 'genres'], inplace=True)\n",
    "movies.head(5)"
   ]
  },
  {
   "cell_type": "markdown",
   "id": "4cbb86e4",
   "metadata": {},
   "source": [
    "### Songs"
   ]
  },
  {
   "cell_type": "code",
   "execution_count": 94,
   "id": "4b7be46c",
   "metadata": {},
   "outputs": [
    {
     "data": {
      "text/html": [
       "<div>\n",
       "<style scoped>\n",
       "    .dataframe tbody tr th:only-of-type {\n",
       "        vertical-align: middle;\n",
       "    }\n",
       "\n",
       "    .dataframe tbody tr th {\n",
       "        vertical-align: top;\n",
       "    }\n",
       "\n",
       "    .dataframe thead th {\n",
       "        text-align: right;\n",
       "    }\n",
       "</style>\n",
       "<table border=\"1\" class=\"dataframe\">\n",
       "  <thead>\n",
       "    <tr style=\"text-align: right;\">\n",
       "      <th></th>\n",
       "      <th>author</th>\n",
       "      <th>itemName</th>\n",
       "      <th>type</th>\n",
       "    </tr>\n",
       "  </thead>\n",
       "  <tbody>\n",
       "    <tr>\n",
       "      <th>47010</th>\n",
       "      <td>Otis Redding</td>\n",
       "      <td>That's What My Heart Needs</td>\n",
       "      <td>song</td>\n",
       "    </tr>\n",
       "    <tr>\n",
       "      <th>43014</th>\n",
       "      <td>Marilyn Manson</td>\n",
       "      <td>Moonshine</td>\n",
       "      <td>song</td>\n",
       "    </tr>\n",
       "    <tr>\n",
       "      <th>14073</th>\n",
       "      <td>Nicki Minaj</td>\n",
       "      <td>Fly</td>\n",
       "      <td>song</td>\n",
       "    </tr>\n",
       "    <tr>\n",
       "      <th>12934</th>\n",
       "      <td>Michael Bolton</td>\n",
       "      <td>Lost In The City</td>\n",
       "      <td>song</td>\n",
       "    </tr>\n",
       "    <tr>\n",
       "      <th>14574</th>\n",
       "      <td>Oasis</td>\n",
       "      <td>Flashbax</td>\n",
       "      <td>song</td>\n",
       "    </tr>\n",
       "  </tbody>\n",
       "</table>\n",
       "</div>"
      ],
      "text/plain": [
       "               author                    itemName  type\n",
       "47010    Otis Redding  That's What My Heart Needs  song\n",
       "43014  Marilyn Manson                   Moonshine  song\n",
       "14073     Nicki Minaj                         Fly  song\n",
       "12934  Michael Bolton            Lost In The City  song\n",
       "14574           Oasis                    Flashbax  song"
      ]
     },
     "execution_count": 94,
     "metadata": {},
     "output_type": "execute_result"
    }
   ],
   "source": [
    "songs_full = pd.read_csv('..//data/songs.csv')\n",
    "songs_full.rename(columns={'song':'itemName','artist':'author'}, inplace=True)\n",
    "songs = pd.DataFrame()\n",
    "for row in range(0,5):\n",
    "    random_song = songs_full.sample()\n",
    "    songs = pd.concat([songs,random_song])\n",
    "songs.loc[:,'type'] = 'song'\n",
    "songs.drop(columns=['link', 'text'], inplace=True)\n",
    "songs.head(5)"
   ]
  },
  {
   "cell_type": "markdown",
   "id": "4f63c544",
   "metadata": {},
   "source": [
    "### Papers"
   ]
  },
  {
   "cell_type": "code",
   "execution_count": 95,
   "id": "896859e7",
   "metadata": {},
   "outputs": [
    {
     "data": {
      "text/html": [
       "<div>\n",
       "<style scoped>\n",
       "    .dataframe tbody tr th:only-of-type {\n",
       "        vertical-align: middle;\n",
       "    }\n",
       "\n",
       "    .dataframe tbody tr th {\n",
       "        vertical-align: top;\n",
       "    }\n",
       "\n",
       "    .dataframe thead th {\n",
       "        text-align: right;\n",
       "    }\n",
       "</style>\n",
       "<table border=\"1\" class=\"dataframe\">\n",
       "  <thead>\n",
       "    <tr style=\"text-align: right;\">\n",
       "      <th></th>\n",
       "      <th>author</th>\n",
       "      <th>itemName</th>\n",
       "      <th>type</th>\n",
       "    </tr>\n",
       "  </thead>\n",
       "  <tbody>\n",
       "    <tr>\n",
       "      <th>0</th>\n",
       "      <td>Abigail See</td>\n",
       "      <td>A Discourse-Aware Attention Model for Abstract...</td>\n",
       "      <td>paper</td>\n",
       "    </tr>\n",
       "    <tr>\n",
       "      <th>0</th>\n",
       "      <td>Martin Ester</td>\n",
       "      <td>A Density-Based Algorithm for Discovering Clus...</td>\n",
       "      <td>paper</td>\n",
       "    </tr>\n",
       "  </tbody>\n",
       "</table>\n",
       "</div>"
      ],
      "text/plain": [
       "         author                                           itemName   type\n",
       "0   Abigail See  A Discourse-Aware Attention Model for Abstract...  paper\n",
       "0  Martin Ester  A Density-Based Algorithm for Discovering Clus...  paper"
      ]
     },
     "execution_count": 95,
     "metadata": {},
     "output_type": "execute_result"
    }
   ],
   "source": [
    "paper1 = pd.DataFrame(pd.Series({'author':'Abigail See', 'itemName':'A Discourse-Aware Attention Model for Abstractive Summarization of Long Documents', 'type':'paper'})).transpose()\n",
    "paper2 = pd.DataFrame(pd.Series({'author':'Martin Ester', 'itemName':'A Density-Based Algorithm for Discovering Clusters in Large Spatial Databases with Noise ', 'type':'paper'})).transpose()\n",
    "papers = pd.concat([paper1, paper2])\n",
    "papers"
   ]
  },
  {
   "cell_type": "code",
   "execution_count": 96,
   "id": "fb17a4bc",
   "metadata": {},
   "outputs": [],
   "source": [
    "Item = pd.concat([books, movies, songs, papers])\n",
    "Item.reset_index(drop=True, inplace=True)\n",
    "Item.index.names = ['itemID']"
   ]
  },
  {
   "cell_type": "code",
   "execution_count": 97,
   "id": "2342808e",
   "metadata": {},
   "outputs": [],
   "source": [
    "for row in range(0,len(Item)):\n",
    "    itemName = Item.iloc[row]['author']\n",
    "    comma_index = itemName.find(',')\n",
    "    if (comma_index>1):\n",
    "        author_solo = itemName[0:comma_index]\n",
    "        Item.loc[row,'author'] = author_solo\n"
   ]
  },
  {
   "cell_type": "code",
   "execution_count": 98,
   "id": "a15b40b0",
   "metadata": {},
   "outputs": [
    {
     "data": {
      "text/html": [
       "<div>\n",
       "<style scoped>\n",
       "    .dataframe tbody tr th:only-of-type {\n",
       "        vertical-align: middle;\n",
       "    }\n",
       "\n",
       "    .dataframe tbody tr th {\n",
       "        vertical-align: top;\n",
       "    }\n",
       "\n",
       "    .dataframe thead th {\n",
       "        text-align: right;\n",
       "    }\n",
       "</style>\n",
       "<table border=\"1\" class=\"dataframe\">\n",
       "  <thead>\n",
       "    <tr style=\"text-align: right;\">\n",
       "      <th></th>\n",
       "      <th>author</th>\n",
       "      <th>itemName</th>\n",
       "      <th>type</th>\n",
       "    </tr>\n",
       "    <tr>\n",
       "      <th>itemID</th>\n",
       "      <th></th>\n",
       "      <th></th>\n",
       "      <th></th>\n",
       "    </tr>\n",
       "  </thead>\n",
       "  <tbody>\n",
       "    <tr>\n",
       "      <th>0</th>\n",
       "      <td>Suzanne Collins</td>\n",
       "      <td>The Hunger Games</td>\n",
       "      <td>book</td>\n",
       "    </tr>\n",
       "    <tr>\n",
       "      <th>1</th>\n",
       "      <td>J.K. Rowling</td>\n",
       "      <td>Harry Potter and the Order of the Phoenix</td>\n",
       "      <td>book</td>\n",
       "    </tr>\n",
       "    <tr>\n",
       "      <th>2</th>\n",
       "      <td>Harper Lee</td>\n",
       "      <td>To Kill a Mockingbird</td>\n",
       "      <td>book</td>\n",
       "    </tr>\n",
       "    <tr>\n",
       "      <th>3</th>\n",
       "      <td>Jane Austen</td>\n",
       "      <td>Pride and Prejudice</td>\n",
       "      <td>book</td>\n",
       "    </tr>\n",
       "    <tr>\n",
       "      <th>4</th>\n",
       "      <td>Stephenie Meyer</td>\n",
       "      <td>Twilight</td>\n",
       "      <td>book</td>\n",
       "    </tr>\n",
       "    <tr>\n",
       "      <th>5</th>\n",
       "      <td>Markus Zusak (Goodreads Author)</td>\n",
       "      <td>The Book Thief</td>\n",
       "      <td>book</td>\n",
       "    </tr>\n",
       "    <tr>\n",
       "      <th>6</th>\n",
       "      <td>George Orwell</td>\n",
       "      <td>Animal Farm</td>\n",
       "      <td>book</td>\n",
       "    </tr>\n",
       "    <tr>\n",
       "      <th>7</th>\n",
       "      <td>C.S. Lewis</td>\n",
       "      <td>The Chronicles of Narnia</td>\n",
       "      <td>book</td>\n",
       "    </tr>\n",
       "    <tr>\n",
       "      <th>8</th>\n",
       "      <td>J.R.R. Tolkien</td>\n",
       "      <td>J.R.R. Tolkien 4-Book Boxed Set: The Hobbit an...</td>\n",
       "      <td>book</td>\n",
       "    </tr>\n",
       "    <tr>\n",
       "      <th>9</th>\n",
       "      <td>Margaret Mitchell</td>\n",
       "      <td>Gone with the Wind</td>\n",
       "      <td>book</td>\n",
       "    </tr>\n",
       "    <tr>\n",
       "      <th>10</th>\n",
       "      <td>nan</td>\n",
       "      <td>Toy Story</td>\n",
       "      <td>movie</td>\n",
       "    </tr>\n",
       "    <tr>\n",
       "      <th>11</th>\n",
       "      <td>nan</td>\n",
       "      <td>Jumanji</td>\n",
       "      <td>movie</td>\n",
       "    </tr>\n",
       "    <tr>\n",
       "      <th>12</th>\n",
       "      <td>nan</td>\n",
       "      <td>Grumpier Old Men</td>\n",
       "      <td>movie</td>\n",
       "    </tr>\n",
       "    <tr>\n",
       "      <th>13</th>\n",
       "      <td>nan</td>\n",
       "      <td>Waiting to Exhale</td>\n",
       "      <td>movie</td>\n",
       "    </tr>\n",
       "    <tr>\n",
       "      <th>14</th>\n",
       "      <td>nan</td>\n",
       "      <td>Father of the Bride Part II</td>\n",
       "      <td>movie</td>\n",
       "    </tr>\n",
       "    <tr>\n",
       "      <th>15</th>\n",
       "      <td>Otis Redding</td>\n",
       "      <td>That's What My Heart Needs</td>\n",
       "      <td>song</td>\n",
       "    </tr>\n",
       "    <tr>\n",
       "      <th>16</th>\n",
       "      <td>Marilyn Manson</td>\n",
       "      <td>Moonshine</td>\n",
       "      <td>song</td>\n",
       "    </tr>\n",
       "    <tr>\n",
       "      <th>17</th>\n",
       "      <td>Nicki Minaj</td>\n",
       "      <td>Fly</td>\n",
       "      <td>song</td>\n",
       "    </tr>\n",
       "    <tr>\n",
       "      <th>18</th>\n",
       "      <td>Michael Bolton</td>\n",
       "      <td>Lost In The City</td>\n",
       "      <td>song</td>\n",
       "    </tr>\n",
       "    <tr>\n",
       "      <th>19</th>\n",
       "      <td>Oasis</td>\n",
       "      <td>Flashbax</td>\n",
       "      <td>song</td>\n",
       "    </tr>\n",
       "    <tr>\n",
       "      <th>20</th>\n",
       "      <td>Abigail See</td>\n",
       "      <td>A Discourse-Aware Attention Model for Abstract...</td>\n",
       "      <td>paper</td>\n",
       "    </tr>\n",
       "    <tr>\n",
       "      <th>21</th>\n",
       "      <td>Martin Ester</td>\n",
       "      <td>A Density-Based Algorithm for Discovering Clus...</td>\n",
       "      <td>paper</td>\n",
       "    </tr>\n",
       "  </tbody>\n",
       "</table>\n",
       "</div>"
      ],
      "text/plain": [
       "                                 author  \\\n",
       "itemID                                    \n",
       "0                       Suzanne Collins   \n",
       "1                          J.K. Rowling   \n",
       "2                            Harper Lee   \n",
       "3                           Jane Austen   \n",
       "4                       Stephenie Meyer   \n",
       "5       Markus Zusak (Goodreads Author)   \n",
       "6                         George Orwell   \n",
       "7                            C.S. Lewis   \n",
       "8                        J.R.R. Tolkien   \n",
       "9                     Margaret Mitchell   \n",
       "10                                  nan   \n",
       "11                                  nan   \n",
       "12                                  nan   \n",
       "13                                  nan   \n",
       "14                                  nan   \n",
       "15                         Otis Redding   \n",
       "16                       Marilyn Manson   \n",
       "17                          Nicki Minaj   \n",
       "18                       Michael Bolton   \n",
       "19                                Oasis   \n",
       "20                          Abigail See   \n",
       "21                         Martin Ester   \n",
       "\n",
       "                                                 itemName   type  \n",
       "itemID                                                            \n",
       "0                                        The Hunger Games   book  \n",
       "1               Harry Potter and the Order of the Phoenix   book  \n",
       "2                                   To Kill a Mockingbird   book  \n",
       "3                                     Pride and Prejudice   book  \n",
       "4                                                Twilight   book  \n",
       "5                                          The Book Thief   book  \n",
       "6                                             Animal Farm   book  \n",
       "7                                The Chronicles of Narnia   book  \n",
       "8       J.R.R. Tolkien 4-Book Boxed Set: The Hobbit an...   book  \n",
       "9                                      Gone with the Wind   book  \n",
       "10                                              Toy Story  movie  \n",
       "11                                                Jumanji  movie  \n",
       "12                                       Grumpier Old Men  movie  \n",
       "13                                      Waiting to Exhale  movie  \n",
       "14                            Father of the Bride Part II  movie  \n",
       "15                             That's What My Heart Needs   song  \n",
       "16                                              Moonshine   song  \n",
       "17                                                    Fly   song  \n",
       "18                                       Lost In The City   song  \n",
       "19                                               Flashbax   song  \n",
       "20      A Discourse-Aware Attention Model for Abstract...  paper  \n",
       "21      A Density-Based Algorithm for Discovering Clus...  paper  "
      ]
     },
     "execution_count": 98,
     "metadata": {},
     "output_type": "execute_result"
    }
   ],
   "source": [
    "Item"
   ]
  },
  {
   "cell_type": "code",
   "execution_count": 99,
   "id": "53452e46",
   "metadata": {},
   "outputs": [],
   "source": [
    "Item.to_csv('..//data//Item.csv')"
   ]
  },
  {
   "cell_type": "markdown",
   "id": "ad87400d",
   "metadata": {},
   "source": [
    "## LibraryItem"
   ]
  },
  {
   "cell_type": "code",
   "execution_count": 100,
   "id": "ea47fe7b",
   "metadata": {},
   "outputs": [],
   "source": [
    "num_copy = 8\n",
    "LibraryItem = Item.copy()\n",
    "for i in range(num_copy):\n",
    "    item_copy = Item.sample()\n",
    "    LibraryItem = pd.concat([LibraryItem, item_copy])\n"
   ]
  },
  {
   "cell_type": "code",
   "execution_count": 101,
   "id": "ae003d14",
   "metadata": {},
   "outputs": [],
   "source": [
    "LibraryItem.reset_index(inplace=True)\n",
    "LibraryItem.index.names = ['libraryItemID']\n",
    "LibraryItem.drop(columns=['author','itemName','type'], inplace=True)\n",
    "LibraryItem['toBeAdded'] = None"
   ]
  },
  {
   "cell_type": "code",
   "execution_count": 102,
   "id": "6d9f9003",
   "metadata": {},
   "outputs": [],
   "source": [
    "LibraryItem.loc[12,'toBeAdded'] = True"
   ]
  },
  {
   "cell_type": "code",
   "execution_count": 103,
   "id": "491b1c47",
   "metadata": {},
   "outputs": [],
   "source": [
    "LibraryItem.to_csv('..//data//LibraryItem.csv')"
   ]
  },
  {
   "cell_type": "markdown",
   "id": "74795c68",
   "metadata": {},
   "source": [
    "## Librarian"
   ]
  },
  {
   "cell_type": "code",
   "execution_count": 104,
   "id": "94214e7c",
   "metadata": {},
   "outputs": [],
   "source": [
    "numLibrarians = 4\n",
    "departments = ['admin', 'catalog', 'circulation', 'infotech']\n",
    "Librarian = pd.DataFrame()\n",
    "for librarianID in range(1,numLibrarians+1):\n",
    "    firstName = names.get_first_name()\n",
    "    lastName = names.get_last_name()\n",
    "    department = np.random.choice(departments)\n",
    "\n",
    "    salary = np.random.randint(40000,90000)\n",
    "    salary = round(salary, -3)\n",
    "        \n",
    "    librarian = pd.DataFrame(pd.Series({'firstName':firstName, 'lastName':lastName, 'department':department, 'salary':salary})).transpose()\n",
    "    Librarian = pd.concat([Librarian, librarian])\n",
    "    \n",
    "\n",
    "librarian = pd.DataFrame(pd.Series({'firstName':'Joe', 'lastName':'Black', 'department':'volunteer', 'salary':0})).transpose()\n",
    "Librarian = pd.concat([Librarian, librarian])\n",
    "    \n",
    "Librarian.dropna(inplace=True)\n"
   ]
  },
  {
   "cell_type": "code",
   "execution_count": 105,
   "id": "f82917db",
   "metadata": {},
   "outputs": [
    {
     "data": {
      "text/html": [
       "<div>\n",
       "<style scoped>\n",
       "    .dataframe tbody tr th:only-of-type {\n",
       "        vertical-align: middle;\n",
       "    }\n",
       "\n",
       "    .dataframe tbody tr th {\n",
       "        vertical-align: top;\n",
       "    }\n",
       "\n",
       "    .dataframe thead th {\n",
       "        text-align: right;\n",
       "    }\n",
       "</style>\n",
       "<table border=\"1\" class=\"dataframe\">\n",
       "  <thead>\n",
       "    <tr style=\"text-align: right;\">\n",
       "      <th></th>\n",
       "      <th>firstName</th>\n",
       "      <th>lastName</th>\n",
       "      <th>department</th>\n",
       "      <th>salary</th>\n",
       "    </tr>\n",
       "    <tr>\n",
       "      <th>librarianID</th>\n",
       "      <th></th>\n",
       "      <th></th>\n",
       "      <th></th>\n",
       "      <th></th>\n",
       "    </tr>\n",
       "  </thead>\n",
       "  <tbody>\n",
       "    <tr>\n",
       "      <th>0</th>\n",
       "      <td>Polly</td>\n",
       "      <td>Dunn</td>\n",
       "      <td>catalog</td>\n",
       "      <td>47000</td>\n",
       "    </tr>\n",
       "    <tr>\n",
       "      <th>1</th>\n",
       "      <td>Paul</td>\n",
       "      <td>Mahle</td>\n",
       "      <td>infotech</td>\n",
       "      <td>45000</td>\n",
       "    </tr>\n",
       "    <tr>\n",
       "      <th>2</th>\n",
       "      <td>Jose</td>\n",
       "      <td>Hoskins</td>\n",
       "      <td>circulation</td>\n",
       "      <td>77000</td>\n",
       "    </tr>\n",
       "    <tr>\n",
       "      <th>3</th>\n",
       "      <td>Edwin</td>\n",
       "      <td>Powell</td>\n",
       "      <td>circulation</td>\n",
       "      <td>71000</td>\n",
       "    </tr>\n",
       "    <tr>\n",
       "      <th>4</th>\n",
       "      <td>Joe</td>\n",
       "      <td>Black</td>\n",
       "      <td>volunteer</td>\n",
       "      <td>0</td>\n",
       "    </tr>\n",
       "  </tbody>\n",
       "</table>\n",
       "</div>"
      ],
      "text/plain": [
       "            firstName lastName   department salary\n",
       "librarianID                                       \n",
       "0               Polly     Dunn      catalog  47000\n",
       "1                Paul    Mahle     infotech  45000\n",
       "2                Jose  Hoskins  circulation  77000\n",
       "3               Edwin   Powell  circulation  71000\n",
       "4                 Joe    Black    volunteer      0"
      ]
     },
     "execution_count": 105,
     "metadata": {},
     "output_type": "execute_result"
    }
   ],
   "source": [
    "Librarian.reset_index(drop=True, inplace=True)\n",
    "Librarian.index.names = ['librarianID']\n",
    "Librarian"
   ]
  },
  {
   "cell_type": "code",
   "execution_count": 106,
   "id": "308f407a",
   "metadata": {},
   "outputs": [],
   "source": [
    "Librarian.to_csv('..//data//Librarian.csv')"
   ]
  },
  {
   "cell_type": "markdown",
   "id": "0b4cf43f",
   "metadata": {},
   "source": [
    "## User"
   ]
  },
  {
   "cell_type": "code",
   "execution_count": 107,
   "id": "61ef1d35",
   "metadata": {},
   "outputs": [],
   "source": [
    "numUsers = 30\n",
    "User = pd.DataFrame()\n",
    "for librarianID in range(numUsers):\n",
    "    firstName = names.get_first_name()\n",
    "    lastName = names.get_last_name()\n",
    "    age = np.random.randint(7,75)\n",
    "        \n",
    "    user = pd.DataFrame(pd.Series({'firstName':firstName, 'lastName':lastName, 'age':age, 'fines': 0.00})).transpose()\n",
    "    User = pd.concat([User, user])\n",
    "    "
   ]
  },
  {
   "cell_type": "code",
   "execution_count": 108,
   "id": "e063640c",
   "metadata": {
    "scrolled": true
   },
   "outputs": [
    {
     "data": {
      "text/html": [
       "<div>\n",
       "<style scoped>\n",
       "    .dataframe tbody tr th:only-of-type {\n",
       "        vertical-align: middle;\n",
       "    }\n",
       "\n",
       "    .dataframe tbody tr th {\n",
       "        vertical-align: top;\n",
       "    }\n",
       "\n",
       "    .dataframe thead th {\n",
       "        text-align: right;\n",
       "    }\n",
       "</style>\n",
       "<table border=\"1\" class=\"dataframe\">\n",
       "  <thead>\n",
       "    <tr style=\"text-align: right;\">\n",
       "      <th></th>\n",
       "      <th>firstName</th>\n",
       "      <th>lastName</th>\n",
       "      <th>age</th>\n",
       "      <th>fines</th>\n",
       "    </tr>\n",
       "    <tr>\n",
       "      <th>userID</th>\n",
       "      <th></th>\n",
       "      <th></th>\n",
       "      <th></th>\n",
       "      <th></th>\n",
       "    </tr>\n",
       "  </thead>\n",
       "  <tbody>\n",
       "    <tr>\n",
       "      <th>0</th>\n",
       "      <td>Kermit</td>\n",
       "      <td>Mcloughlin</td>\n",
       "      <td>32</td>\n",
       "      <td>0.0</td>\n",
       "    </tr>\n",
       "    <tr>\n",
       "      <th>1</th>\n",
       "      <td>Dannie</td>\n",
       "      <td>Horton</td>\n",
       "      <td>40</td>\n",
       "      <td>0.0</td>\n",
       "    </tr>\n",
       "    <tr>\n",
       "      <th>2</th>\n",
       "      <td>John</td>\n",
       "      <td>Monge</td>\n",
       "      <td>36</td>\n",
       "      <td>0.0</td>\n",
       "    </tr>\n",
       "    <tr>\n",
       "      <th>3</th>\n",
       "      <td>June</td>\n",
       "      <td>Niday</td>\n",
       "      <td>36</td>\n",
       "      <td>0.0</td>\n",
       "    </tr>\n",
       "    <tr>\n",
       "      <th>4</th>\n",
       "      <td>Roy</td>\n",
       "      <td>Shaffer</td>\n",
       "      <td>61</td>\n",
       "      <td>0.0</td>\n",
       "    </tr>\n",
       "    <tr>\n",
       "      <th>5</th>\n",
       "      <td>Jefferson</td>\n",
       "      <td>Moss</td>\n",
       "      <td>8</td>\n",
       "      <td>0.0</td>\n",
       "    </tr>\n",
       "    <tr>\n",
       "      <th>6</th>\n",
       "      <td>Lawrence</td>\n",
       "      <td>Owens</td>\n",
       "      <td>27</td>\n",
       "      <td>0.0</td>\n",
       "    </tr>\n",
       "    <tr>\n",
       "      <th>7</th>\n",
       "      <td>Randell</td>\n",
       "      <td>Baker</td>\n",
       "      <td>37</td>\n",
       "      <td>0.0</td>\n",
       "    </tr>\n",
       "    <tr>\n",
       "      <th>8</th>\n",
       "      <td>Deloise</td>\n",
       "      <td>Luten</td>\n",
       "      <td>53</td>\n",
       "      <td>0.0</td>\n",
       "    </tr>\n",
       "    <tr>\n",
       "      <th>9</th>\n",
       "      <td>Karen</td>\n",
       "      <td>Boyd</td>\n",
       "      <td>8</td>\n",
       "      <td>0.0</td>\n",
       "    </tr>\n",
       "    <tr>\n",
       "      <th>10</th>\n",
       "      <td>Shante</td>\n",
       "      <td>Shedden</td>\n",
       "      <td>59</td>\n",
       "      <td>0.0</td>\n",
       "    </tr>\n",
       "    <tr>\n",
       "      <th>11</th>\n",
       "      <td>Nathaniel</td>\n",
       "      <td>Kamaka</td>\n",
       "      <td>33</td>\n",
       "      <td>0.0</td>\n",
       "    </tr>\n",
       "    <tr>\n",
       "      <th>12</th>\n",
       "      <td>Gregory</td>\n",
       "      <td>Taylor</td>\n",
       "      <td>31</td>\n",
       "      <td>0.0</td>\n",
       "    </tr>\n",
       "    <tr>\n",
       "      <th>13</th>\n",
       "      <td>Tony</td>\n",
       "      <td>Kelley</td>\n",
       "      <td>31</td>\n",
       "      <td>0.0</td>\n",
       "    </tr>\n",
       "    <tr>\n",
       "      <th>14</th>\n",
       "      <td>Marilyn</td>\n",
       "      <td>Quinn</td>\n",
       "      <td>53</td>\n",
       "      <td>3.0</td>\n",
       "    </tr>\n",
       "    <tr>\n",
       "      <th>15</th>\n",
       "      <td>Stephen</td>\n",
       "      <td>Cook</td>\n",
       "      <td>8</td>\n",
       "      <td>0.0</td>\n",
       "    </tr>\n",
       "    <tr>\n",
       "      <th>16</th>\n",
       "      <td>Glen</td>\n",
       "      <td>Treffert</td>\n",
       "      <td>42</td>\n",
       "      <td>0.0</td>\n",
       "    </tr>\n",
       "    <tr>\n",
       "      <th>17</th>\n",
       "      <td>Christina</td>\n",
       "      <td>Dvorak</td>\n",
       "      <td>15</td>\n",
       "      <td>0.0</td>\n",
       "    </tr>\n",
       "    <tr>\n",
       "      <th>18</th>\n",
       "      <td>Frank</td>\n",
       "      <td>Jordan</td>\n",
       "      <td>12</td>\n",
       "      <td>0.0</td>\n",
       "    </tr>\n",
       "    <tr>\n",
       "      <th>19</th>\n",
       "      <td>Lonnie</td>\n",
       "      <td>Sharrar</td>\n",
       "      <td>61</td>\n",
       "      <td>0.0</td>\n",
       "    </tr>\n",
       "    <tr>\n",
       "      <th>20</th>\n",
       "      <td>Candida</td>\n",
       "      <td>Dicks</td>\n",
       "      <td>51</td>\n",
       "      <td>0.0</td>\n",
       "    </tr>\n",
       "    <tr>\n",
       "      <th>21</th>\n",
       "      <td>Melissa</td>\n",
       "      <td>Davis</td>\n",
       "      <td>68</td>\n",
       "      <td>0.0</td>\n",
       "    </tr>\n",
       "    <tr>\n",
       "      <th>22</th>\n",
       "      <td>Maggie</td>\n",
       "      <td>Stutzman</td>\n",
       "      <td>36</td>\n",
       "      <td>0.0</td>\n",
       "    </tr>\n",
       "    <tr>\n",
       "      <th>23</th>\n",
       "      <td>Laurence</td>\n",
       "      <td>Picton</td>\n",
       "      <td>21</td>\n",
       "      <td>0.0</td>\n",
       "    </tr>\n",
       "    <tr>\n",
       "      <th>24</th>\n",
       "      <td>Tracy</td>\n",
       "      <td>Knight</td>\n",
       "      <td>51</td>\n",
       "      <td>0.0</td>\n",
       "    </tr>\n",
       "    <tr>\n",
       "      <th>25</th>\n",
       "      <td>Patricia</td>\n",
       "      <td>Ash</td>\n",
       "      <td>64</td>\n",
       "      <td>0.0</td>\n",
       "    </tr>\n",
       "    <tr>\n",
       "      <th>26</th>\n",
       "      <td>April</td>\n",
       "      <td>Bailey</td>\n",
       "      <td>25</td>\n",
       "      <td>0.0</td>\n",
       "    </tr>\n",
       "    <tr>\n",
       "      <th>27</th>\n",
       "      <td>Cory</td>\n",
       "      <td>Takacs</td>\n",
       "      <td>55</td>\n",
       "      <td>0.0</td>\n",
       "    </tr>\n",
       "    <tr>\n",
       "      <th>28</th>\n",
       "      <td>Dorothy</td>\n",
       "      <td>Heep</td>\n",
       "      <td>22</td>\n",
       "      <td>3.0</td>\n",
       "    </tr>\n",
       "    <tr>\n",
       "      <th>29</th>\n",
       "      <td>Gerald</td>\n",
       "      <td>Lucas</td>\n",
       "      <td>22</td>\n",
       "      <td>0.0</td>\n",
       "    </tr>\n",
       "  </tbody>\n",
       "</table>\n",
       "</div>"
      ],
      "text/plain": [
       "        firstName    lastName age fines\n",
       "userID                                 \n",
       "0          Kermit  Mcloughlin  32   0.0\n",
       "1          Dannie      Horton  40   0.0\n",
       "2            John       Monge  36   0.0\n",
       "3            June       Niday  36   0.0\n",
       "4             Roy     Shaffer  61   0.0\n",
       "5       Jefferson        Moss   8   0.0\n",
       "6        Lawrence       Owens  27   0.0\n",
       "7         Randell       Baker  37   0.0\n",
       "8         Deloise       Luten  53   0.0\n",
       "9           Karen        Boyd   8   0.0\n",
       "10         Shante     Shedden  59   0.0\n",
       "11      Nathaniel      Kamaka  33   0.0\n",
       "12        Gregory      Taylor  31   0.0\n",
       "13           Tony      Kelley  31   0.0\n",
       "14        Marilyn       Quinn  53   3.0\n",
       "15        Stephen        Cook   8   0.0\n",
       "16           Glen    Treffert  42   0.0\n",
       "17      Christina      Dvorak  15   0.0\n",
       "18          Frank      Jordan  12   0.0\n",
       "19         Lonnie     Sharrar  61   0.0\n",
       "20        Candida       Dicks  51   0.0\n",
       "21        Melissa       Davis  68   0.0\n",
       "22         Maggie    Stutzman  36   0.0\n",
       "23       Laurence      Picton  21   0.0\n",
       "24          Tracy      Knight  51   0.0\n",
       "25       Patricia         Ash  64   0.0\n",
       "26          April      Bailey  25   0.0\n",
       "27           Cory      Takacs  55   0.0\n",
       "28        Dorothy        Heep  22   3.0\n",
       "29         Gerald       Lucas  22   0.0"
      ]
     },
     "execution_count": 108,
     "metadata": {},
     "output_type": "execute_result"
    }
   ],
   "source": [
    "User.reset_index(drop=True, inplace=True)\n",
    "User.index.names = ['userID']\n",
    "User.loc[14,'fines'] = 3.00\n",
    "User.loc[28,'fines'] = 3.00\n",
    "User"
   ]
  },
  {
   "cell_type": "code",
   "execution_count": 109,
   "id": "d782e59f",
   "metadata": {},
   "outputs": [],
   "source": [
    "User.to_csv('..//data//User.csv')"
   ]
  },
  {
   "cell_type": "code",
   "execution_count": null,
   "id": "710e6db1",
   "metadata": {},
   "outputs": [],
   "source": []
  },
  {
   "cell_type": "code",
   "execution_count": 110,
   "id": "d4fef0fc",
   "metadata": {},
   "outputs": [
    {
     "data": {
      "text/plain": [
       "30"
      ]
     },
     "execution_count": 110,
     "metadata": {},
     "output_type": "execute_result"
    }
   ],
   "source": [
    "engine = create_engine('sqlite:///library.db', echo=False)\n",
    "Item.reset_index().to_sql('Item', con=engine, if_exists='append', index=False)\n",
    "LibraryItem.reset_index().to_sql('LibraryItem', con=engine, if_exists='append', index=False)\n",
    "Librarian.reset_index().to_sql('Librarian', con=engine, if_exists='append', index=False)\n",
    "User.to_sql('User', con=engine, if_exists='append', index=False)\n"
   ]
  },
  {
   "cell_type": "code",
   "execution_count": 114,
   "id": "297a271b",
   "metadata": {},
   "outputs": [
    {
     "name": "stdout",
     "output_type": "stream",
     "text": [
      " * sqlite:///library.db\n",
      "Done.\n"
     ]
    },
    {
     "data": {
      "text/html": [
       "<table>\n",
       "    <thead>\n",
       "        <tr>\n",
       "            <th>itemID</th>\n",
       "            <th>author</th>\n",
       "            <th>itemName</th>\n",
       "            <th>type</th>\n",
       "        </tr>\n",
       "    </thead>\n",
       "    <tbody>\n",
       "        <tr>\n",
       "            <td>0</td>\n",
       "            <td>Suzanne Collins</td>\n",
       "            <td>The Hunger Games</td>\n",
       "            <td>book</td>\n",
       "        </tr>\n",
       "        <tr>\n",
       "            <td>1</td>\n",
       "            <td>J.K. Rowling</td>\n",
       "            <td>Harry Potter and the Order of the Phoenix</td>\n",
       "            <td>book</td>\n",
       "        </tr>\n",
       "        <tr>\n",
       "            <td>2</td>\n",
       "            <td>Harper Lee</td>\n",
       "            <td>To Kill a Mockingbird</td>\n",
       "            <td>book</td>\n",
       "        </tr>\n",
       "        <tr>\n",
       "            <td>3</td>\n",
       "            <td>Jane Austen</td>\n",
       "            <td>Pride and Prejudice</td>\n",
       "            <td>book</td>\n",
       "        </tr>\n",
       "        <tr>\n",
       "            <td>4</td>\n",
       "            <td>Stephenie Meyer</td>\n",
       "            <td>Twilight</td>\n",
       "            <td>book</td>\n",
       "        </tr>\n",
       "        <tr>\n",
       "            <td>5</td>\n",
       "            <td>Markus Zusak (Goodreads Author)</td>\n",
       "            <td>The Book Thief</td>\n",
       "            <td>book</td>\n",
       "        </tr>\n",
       "        <tr>\n",
       "            <td>6</td>\n",
       "            <td>George Orwell</td>\n",
       "            <td>Animal Farm</td>\n",
       "            <td>book</td>\n",
       "        </tr>\n",
       "        <tr>\n",
       "            <td>7</td>\n",
       "            <td>C.S. Lewis</td>\n",
       "            <td>The Chronicles of Narnia</td>\n",
       "            <td>book</td>\n",
       "        </tr>\n",
       "        <tr>\n",
       "            <td>8</td>\n",
       "            <td>J.R.R. Tolkien</td>\n",
       "            <td>J.R.R. Tolkien 4-Book Boxed Set: The Hobbit and The Lord of the Rings</td>\n",
       "            <td>book</td>\n",
       "        </tr>\n",
       "        <tr>\n",
       "            <td>9</td>\n",
       "            <td>Margaret Mitchell</td>\n",
       "            <td>Gone with the Wind</td>\n",
       "            <td>book</td>\n",
       "        </tr>\n",
       "        <tr>\n",
       "            <td>10</td>\n",
       "            <td>nan</td>\n",
       "            <td>Toy Story</td>\n",
       "            <td>movie</td>\n",
       "        </tr>\n",
       "        <tr>\n",
       "            <td>11</td>\n",
       "            <td>nan</td>\n",
       "            <td>Jumanji</td>\n",
       "            <td>movie</td>\n",
       "        </tr>\n",
       "        <tr>\n",
       "            <td>12</td>\n",
       "            <td>nan</td>\n",
       "            <td>Grumpier Old Men</td>\n",
       "            <td>movie</td>\n",
       "        </tr>\n",
       "        <tr>\n",
       "            <td>13</td>\n",
       "            <td>nan</td>\n",
       "            <td>Waiting to Exhale</td>\n",
       "            <td>movie</td>\n",
       "        </tr>\n",
       "        <tr>\n",
       "            <td>14</td>\n",
       "            <td>nan</td>\n",
       "            <td>Father of the Bride Part II</td>\n",
       "            <td>movie</td>\n",
       "        </tr>\n",
       "        <tr>\n",
       "            <td>15</td>\n",
       "            <td>Otis Redding</td>\n",
       "            <td>That&#x27;s What My Heart Needs</td>\n",
       "            <td>song</td>\n",
       "        </tr>\n",
       "        <tr>\n",
       "            <td>16</td>\n",
       "            <td>Marilyn Manson</td>\n",
       "            <td>Moonshine</td>\n",
       "            <td>song</td>\n",
       "        </tr>\n",
       "        <tr>\n",
       "            <td>17</td>\n",
       "            <td>Nicki Minaj</td>\n",
       "            <td>Fly</td>\n",
       "            <td>song</td>\n",
       "        </tr>\n",
       "        <tr>\n",
       "            <td>18</td>\n",
       "            <td>Michael Bolton</td>\n",
       "            <td>Lost In The City</td>\n",
       "            <td>song</td>\n",
       "        </tr>\n",
       "        <tr>\n",
       "            <td>19</td>\n",
       "            <td>Oasis</td>\n",
       "            <td>Flashbax</td>\n",
       "            <td>song</td>\n",
       "        </tr>\n",
       "        <tr>\n",
       "            <td>20</td>\n",
       "            <td>Abigail See</td>\n",
       "            <td>A Discourse-Aware Attention Model for Abstractive Summarization of Long Documents</td>\n",
       "            <td>paper</td>\n",
       "        </tr>\n",
       "        <tr>\n",
       "            <td>21</td>\n",
       "            <td>Martin Ester</td>\n",
       "            <td>A Density-Based Algorithm for Discovering Clusters in Large Spatial Databases with Noise </td>\n",
       "            <td>paper</td>\n",
       "        </tr>\n",
       "    </tbody>\n",
       "</table>"
      ],
      "text/plain": [
       "[(0, 'Suzanne Collins', 'The Hunger Games', 'book'),\n",
       " (1, 'J.K. Rowling', 'Harry Potter and the Order of the Phoenix', 'book'),\n",
       " (2, 'Harper Lee', 'To Kill a Mockingbird', 'book'),\n",
       " (3, 'Jane Austen', 'Pride and Prejudice', 'book'),\n",
       " (4, 'Stephenie Meyer', 'Twilight', 'book'),\n",
       " (5, 'Markus Zusak (Goodreads Author)', 'The Book Thief', 'book'),\n",
       " (6, 'George Orwell', 'Animal Farm', 'book'),\n",
       " (7, 'C.S. Lewis', 'The Chronicles of Narnia', 'book'),\n",
       " (8, 'J.R.R. Tolkien', 'J.R.R. Tolkien 4-Book Boxed Set: The Hobbit and The Lord of the Rings', 'book'),\n",
       " (9, 'Margaret Mitchell', 'Gone with the Wind', 'book'),\n",
       " (10, 'nan', 'Toy Story', 'movie'),\n",
       " (11, 'nan', 'Jumanji', 'movie'),\n",
       " (12, 'nan', 'Grumpier Old Men', 'movie'),\n",
       " (13, 'nan', 'Waiting to Exhale', 'movie'),\n",
       " (14, 'nan', 'Father of the Bride Part II', 'movie'),\n",
       " (15, 'Otis Redding', \"That's What My Heart Needs\", 'song'),\n",
       " (16, 'Marilyn Manson', 'Moonshine', 'song'),\n",
       " (17, 'Nicki Minaj', 'Fly', 'song'),\n",
       " (18, 'Michael Bolton', 'Lost In The City', 'song'),\n",
       " (19, 'Oasis', 'Flashbax', 'song'),\n",
       " (20, 'Abigail See', 'A Discourse-Aware Attention Model for Abstractive Summarization of Long Documents', 'paper'),\n",
       " (21, 'Martin Ester', 'A Density-Based Algorithm for Discovering Clusters in Large Spatial Databases with Noise ', 'paper')]"
      ]
     },
     "execution_count": 114,
     "metadata": {},
     "output_type": "execute_result"
    }
   ],
   "source": [
    "%%sql\n",
    "SELECT * FROM Item;"
   ]
  },
  {
   "cell_type": "markdown",
   "id": "6f1c49f7",
   "metadata": {},
   "source": [
    "## Table: User"
   ]
  },
  {
   "cell_type": "code",
   "execution_count": 138,
   "id": "7cd81ab6",
   "metadata": {},
   "outputs": [
    {
     "name": "stdout",
     "output_type": "stream",
     "text": [
      " * sqlite:///library.db\n",
      "Done.\n"
     ]
    },
    {
     "data": {
      "text/plain": [
       "[]"
      ]
     },
     "execution_count": 138,
     "metadata": {},
     "output_type": "execute_result"
    }
   ],
   "source": [
    "%%sql\n",
    "DROP TABLE mytable"
   ]
  },
  {
   "cell_type": "code",
   "execution_count": 4,
   "id": "8056ac87",
   "metadata": {},
   "outputs": [
    {
     "name": "stdout",
     "output_type": "stream",
     "text": [
      " * sqlite:///library.db\n",
      "Done.\n",
      "Done.\n",
      "Done.\n",
      "Done.\n",
      "Done.\n",
      "Done.\n",
      "Done.\n",
      "(sqlite3.OperationalError) no such index: ck_libraryitem_id\n",
      "[SQL: DROP INDEX ck_libraryitem_id;]\n",
      "(Background on this error at: https://sqlalche.me/e/14/e3q8)\n"
     ]
    }
   ],
   "source": [
    "%%sql\n",
    "\n",
    "DROP TABLE Item;\n",
    "DROP TABLE User;\n",
    "DROP TABLE Librarian;\n",
    "DROP TABLE LibraryItem;\n",
    "DROP TABLE BorrowedItem;\n",
    "DROP TABLE Event;\n",
    "DROP TABLE EventRegistration;"
   ]
  },
  {
   "cell_type": "code",
   "execution_count": null,
   "id": "e98d87ac",
   "metadata": {},
   "outputs": [],
   "source": []
  }
 ],
 "metadata": {
  "kernelspec": {
   "display_name": "Python 3 (ipykernel)",
   "language": "python",
   "name": "python3"
  },
  "language_info": {
   "codemirror_mode": {
    "name": "ipython",
    "version": 3
   },
   "file_extension": ".py",
   "mimetype": "text/x-python",
   "name": "python",
   "nbconvert_exporter": "python",
   "pygments_lexer": "ipython3",
   "version": "3.9.12"
  },
  "toc": {
   "base_numbering": 1,
   "nav_menu": {},
   "number_sections": true,
   "sideBar": true,
   "skip_h1_title": false,
   "title_cell": "Table of Contents",
   "title_sidebar": "Contents",
   "toc_cell": false,
   "toc_position": {},
   "toc_section_display": true,
   "toc_window_display": false
  },
  "varInspector": {
   "cols": {
    "lenName": 16,
    "lenType": 16,
    "lenVar": 40
   },
   "kernels_config": {
    "python": {
     "delete_cmd_postfix": "",
     "delete_cmd_prefix": "del ",
     "library": "var_list.py",
     "varRefreshCmd": "print(var_dic_list())"
    },
    "r": {
     "delete_cmd_postfix": ") ",
     "delete_cmd_prefix": "rm(",
     "library": "var_list.r",
     "varRefreshCmd": "cat(var_dic_list()) "
    }
   },
   "types_to_exclude": [
    "module",
    "function",
    "builtin_function_or_method",
    "instance",
    "_Feature"
   ],
   "window_display": false
  }
 },
 "nbformat": 4,
 "nbformat_minor": 5
}
