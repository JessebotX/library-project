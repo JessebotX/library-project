{
 "cells": [
  {
   "cell_type": "code",
   "execution_count": 178,
   "id": "fd429590",
   "metadata": {},
   "outputs": [
    {
     "data": {
      "text/html": [
       "<style>.container { width:100% !important; }</style>"
      ],
      "text/plain": [
       "<IPython.core.display.HTML object>"
      ]
     },
     "metadata": {},
     "output_type": "display_data"
    }
   ],
   "source": [
    "import pandas as pd\n",
    "import numpy as np\n",
    "import names\n",
    "from IPython.display import display, HTML\n",
    "from sqlalchemy import create_engine\n",
    "\n",
    "display(HTML(\"<style>.container { width:100% !important; }</style>\"))"
   ]
  },
  {
   "cell_type": "markdown",
   "id": "6f900f2e",
   "metadata": {},
   "source": [
    "# Creating a db"
   ]
  },
  {
   "cell_type": "code",
   "execution_count": 120,
   "id": "fc19b1e4",
   "metadata": {},
   "outputs": [
    {
     "name": "stdout",
     "output_type": "stream",
     "text": [
      "The sql extension is already loaded. To reload it, use:\n",
      "  %reload_ext sql\n"
     ]
    }
   ],
   "source": [
    "%load_ext sql"
   ]
  },
  {
   "cell_type": "code",
   "execution_count": 121,
   "id": "8524b0e8",
   "metadata": {},
   "outputs": [
    {
     "data": {
      "text/plain": [
       "'Connected: @library.db'"
      ]
     },
     "execution_count": 121,
     "metadata": {},
     "output_type": "execute_result"
    }
   ],
   "source": [
    "%sql sqlite:///library.db"
   ]
  },
  {
   "cell_type": "markdown",
   "id": "780e6c3d",
   "metadata": {},
   "source": [
    "# Creating tables"
   ]
  },
  {
   "cell_type": "code",
   "execution_count": 125,
   "id": "112ac172",
   "metadata": {},
   "outputs": [
    {
     "name": "stdout",
     "output_type": "stream",
     "text": [
      " * sqlite:///library.db\n",
      "Done.\n"
     ]
    },
    {
     "data": {
      "text/plain": [
       "[]"
      ]
     },
     "execution_count": 125,
     "metadata": {},
     "output_type": "execute_result"
    }
   ],
   "source": [
    "%%sql\n",
    "CREATE TABLE User(\n",
    "    userID INTEGER PRIMARY KEY,\n",
    "    firstName VARCHAR(30) NOT NULL,\n",
    "    lastName VARCHAR(30) NOT NULL,\n",
    "    age INTEGER NOT NULL,\n",
    "    fines NUMERIC(5,2) DEFAULT 0,\n",
    "    CHECK (age >= 7),\n",
    "    CHECK (fines >= 0)\n",
    ");"
   ]
  },
  {
   "cell_type": "code",
   "execution_count": 126,
   "id": "013578d2",
   "metadata": {},
   "outputs": [
    {
     "name": "stdout",
     "output_type": "stream",
     "text": [
      " * sqlite:///library.db\n",
      "Done.\n"
     ]
    },
    {
     "data": {
      "text/plain": [
       "[]"
      ]
     },
     "execution_count": 126,
     "metadata": {},
     "output_type": "execute_result"
    }
   ],
   "source": [
    "%%sql\n",
    "CREATE TABLE Librarian(\n",
    "    librarianID INTEGER PRIMARY KEY,\n",
    "    firstName VARCHAR(30) NOT NULL,\n",
    "    lastName VARCHAR(30) NOT NULL,\n",
    "    salary NUMERIC(6,2) DEFAULT 0,\n",
    "    department VARCHAR(20) NOT NULL,\n",
    "    CHECK (salary >= 0)\n",
    ");"
   ]
  },
  {
   "cell_type": "code",
   "execution_count": 127,
   "id": "604e0e93",
   "metadata": {},
   "outputs": [
    {
     "name": "stdout",
     "output_type": "stream",
     "text": [
      " * sqlite:///library.db\n",
      "Done.\n"
     ]
    },
    {
     "data": {
      "text/plain": [
       "[]"
      ]
     },
     "execution_count": 127,
     "metadata": {},
     "output_type": "execute_result"
    }
   ],
   "source": [
    "%%sql\n",
    "CREATE TABLE LibraryItem(\n",
    "    libraryItemID INTEGER PRIMARY KEY,\n",
    "    author REFERENCES Item(author),\n",
    "    itemName REFERENCES Item(itemName) NOT NULL,\n",
    "    toBeAdded BOOLEAN\n",
    ");"
   ]
  },
  {
   "cell_type": "code",
   "execution_count": 128,
   "id": "6292700d",
   "metadata": {},
   "outputs": [
    {
     "name": "stdout",
     "output_type": "stream",
     "text": [
      " * sqlite:///library.db\n",
      "Done.\n"
     ]
    },
    {
     "data": {
      "text/plain": [
       "[]"
      ]
     },
     "execution_count": 128,
     "metadata": {},
     "output_type": "execute_result"
    }
   ],
   "source": [
    "%%sql\n",
    "CREATE TABLE Item(\n",
    "    author VARCHAR(30),\n",
    "    itemName VARCHAR(30) NOT NULL,\n",
    "    type VARCHAR(15) NOT NULL,\n",
    "    PRIMARY KEY (author, itemName)\n",
    ");"
   ]
  },
  {
   "cell_type": "code",
   "execution_count": 129,
   "id": "cb0f7347",
   "metadata": {},
   "outputs": [
    {
     "name": "stdout",
     "output_type": "stream",
     "text": [
      " * sqlite:///library.db\n",
      "Done.\n"
     ]
    },
    {
     "data": {
      "text/plain": [
       "[]"
      ]
     },
     "execution_count": 129,
     "metadata": {},
     "output_type": "execute_result"
    }
   ],
   "source": [
    "%%sql\n",
    "CREATE TABLE BorrowedItem(\n",
    "    userID REFERENCES User(userID) NOT NULL,\n",
    "    libraryItemID REFERENCES LibraryItem(libraryItemID) NOT NULL,\n",
    "    dueDate DATETIME DEFAULT (date(CURRENT_TIMESTAMP, '+14 day')) NOT NULL,\n",
    "    returnedDate DATETIME DEFAULT NULL,\n",
    "    PRIMARY KEY (userID, libraryItemID, dueDate)\n",
    ");"
   ]
  },
  {
   "cell_type": "code",
   "execution_count": 130,
   "id": "90b478f1",
   "metadata": {},
   "outputs": [
    {
     "name": "stdout",
     "output_type": "stream",
     "text": [
      " * sqlite:///library.db\n",
      "Done.\n"
     ]
    },
    {
     "data": {
      "text/plain": [
       "[]"
      ]
     },
     "execution_count": 130,
     "metadata": {},
     "output_type": "execute_result"
    }
   ],
   "source": [
    "%%sql\n",
    "CREATE TABLE Event(\n",
    "    startTS DATETIME NOT NULL,\n",
    "    endTS DATETIME NOT NULL,\n",
    "    room VARCHAR(10) NOT NULL,\n",
    "    eventName VARCHAR(30) NOT NULL,\n",
    "    audience VARCHAR(20),\n",
    "    maxRegistrations INTEGER DEFAULT 0,\n",
    "    artist VARCHAR(30),\n",
    "    author REFERENCES Item(author),\n",
    "    itemName REFERENCES Item(itemName),\n",
    "    PRIMARY KEY (startTS, room),\n",
    "    CHECK (maxRegistrations >= 0)\n",
    ");"
   ]
  },
  {
   "cell_type": "code",
   "execution_count": 131,
   "id": "9a34c09f",
   "metadata": {},
   "outputs": [
    {
     "name": "stdout",
     "output_type": "stream",
     "text": [
      " * sqlite:///library.db\n",
      "Done.\n"
     ]
    },
    {
     "data": {
      "text/plain": [
       "[]"
      ]
     },
     "execution_count": 131,
     "metadata": {},
     "output_type": "execute_result"
    }
   ],
   "source": [
    "%%sql\n",
    "CREATE TABLE EventRegistration(\n",
    "    startTS REFERENCES Event(startTS) NOT NULL,\n",
    "    room REFERENCES Event(room) NOT NULL,\n",
    "    userID REFERENCES User(userID) NOT NULL,\n",
    "    PRIMARY KEY (startTS, room)\n",
    ");"
   ]
  },
  {
   "cell_type": "markdown",
   "id": "c8bf165d",
   "metadata": {},
   "source": [
    "# ASSERTIONS AND TRIGGERS"
   ]
  },
  {
   "cell_type": "markdown",
   "id": "06b56b37",
   "metadata": {},
   "source": [
    "## List of Assertions\n",
    "\n",
    " - Maximum possible users <= some constant\n",
    " - Maximum employee salary <= budget"
   ]
  },
  {
   "cell_type": "markdown",
   "id": "0975b67c",
   "metadata": {},
   "source": [
    "## List of Triggers\n",
    "\n",
    " - Users with fines cannot borrow items\n",
    " - Users cannot take items that are already checked out\n",
    " - Users cannot return items that are not part of the database\n",
    " - Users cannot register for events at max capacity\n",
    " - Users cannot register multiple times for the same event"
   ]
  },
  {
   "cell_type": "markdown",
   "id": "c4271511",
   "metadata": {},
   "source": [
    "# INDEXING"
   ]
  },
  {
   "cell_type": "code",
   "execution_count": null,
   "id": "0f50a702",
   "metadata": {},
   "outputs": [],
   "source": []
  },
  {
   "cell_type": "markdown",
   "id": "5d1ada03",
   "metadata": {},
   "source": [
    "# Populating tables"
   ]
  },
  {
   "cell_type": "markdown",
   "id": "afdc9594",
   "metadata": {},
   "source": [
    "## Table: Item"
   ]
  },
  {
   "cell_type": "code",
   "execution_count": 156,
   "id": "2a7d2ca0",
   "metadata": {},
   "outputs": [],
   "source": [
    "books = pd.read_csv('..//data//books2.csv')\n",
    "books = books[['author', 'title']]\n",
    "books.rename(columns={'title':'itemName'}, inplace=True)\n",
    "books.loc[:,'type'] = 'book'\n",
    "books.drop_duplicates(subset=['itemName'], inplace=True)"
   ]
  },
  {
   "cell_type": "code",
   "execution_count": 157,
   "id": "1c674396",
   "metadata": {},
   "outputs": [
    {
     "data": {
      "text/plain": [
       "49927"
      ]
     },
     "execution_count": 157,
     "metadata": {},
     "output_type": "execute_result"
    }
   ],
   "source": [
    "engine = create_engine('sqlite:///library.db', echo=False)\n",
    "books.to_sql('Item', con=engine, if_exists='append', index=False)"
   ]
  },
  {
   "cell_type": "code",
   "execution_count": 158,
   "id": "76da5176",
   "metadata": {},
   "outputs": [
    {
     "name": "stdout",
     "output_type": "stream",
     "text": [
      " * sqlite:///library.db\n",
      "Done.\n"
     ]
    },
    {
     "data": {
      "text/html": [
       "<table>\n",
       "    <thead>\n",
       "        <tr>\n",
       "            <th>author</th>\n",
       "            <th>itemName</th>\n",
       "            <th>type</th>\n",
       "        </tr>\n",
       "    </thead>\n",
       "    <tbody>\n",
       "        <tr>\n",
       "            <td>Suzanne Collins</td>\n",
       "            <td>The Hunger Games</td>\n",
       "            <td>book</td>\n",
       "        </tr>\n",
       "        <tr>\n",
       "            <td>J.K. Rowling, Mary GrandPré (Illustrator)</td>\n",
       "            <td>Harry Potter and the Order of the Phoenix</td>\n",
       "            <td>book</td>\n",
       "        </tr>\n",
       "        <tr>\n",
       "            <td>Harper Lee</td>\n",
       "            <td>To Kill a Mockingbird</td>\n",
       "            <td>book</td>\n",
       "        </tr>\n",
       "        <tr>\n",
       "            <td>Jane Austen, Anna Quindlen (Introduction)</td>\n",
       "            <td>Pride and Prejudice</td>\n",
       "            <td>book</td>\n",
       "        </tr>\n",
       "        <tr>\n",
       "            <td>Stephenie Meyer</td>\n",
       "            <td>Twilight</td>\n",
       "            <td>book</td>\n",
       "        </tr>\n",
       "    </tbody>\n",
       "</table>"
      ],
      "text/plain": [
       "[('Suzanne Collins', 'The Hunger Games', 'book'),\n",
       " ('J.K. Rowling, Mary GrandPré (Illustrator)', 'Harry Potter and the Order of the Phoenix', 'book'),\n",
       " ('Harper Lee', 'To Kill a Mockingbird', 'book'),\n",
       " ('Jane Austen, Anna Quindlen (Introduction)', 'Pride and Prejudice', 'book'),\n",
       " ('Stephenie Meyer', 'Twilight', 'book')]"
      ]
     },
     "execution_count": 158,
     "metadata": {},
     "output_type": "execute_result"
    }
   ],
   "source": [
    "%%sql\n",
    "SELECT * FROM Item LIMIT 5;"
   ]
  },
  {
   "cell_type": "markdown",
   "id": "1f2a9e70",
   "metadata": {},
   "source": [
    "## Table: Librarian"
   ]
  },
  {
   "cell_type": "code",
   "execution_count": 196,
   "id": "91c05faa",
   "metadata": {
    "scrolled": true
   },
   "outputs": [
    {
     "name": "stderr",
     "output_type": "stream",
     "text": [
      "C:\\Users\\hatam\\AppData\\Local\\Temp\\ipykernel_24220\\2420249230.py:15: FutureWarning: The frame.append method is deprecated and will be removed from pandas in a future version. Use pandas.concat instead.\n",
      "  librarians = librarians.append(librarian, ignore_index=True)\n",
      "C:\\Users\\hatam\\AppData\\Local\\Temp\\ipykernel_24220\\2420249230.py:15: FutureWarning: The frame.append method is deprecated and will be removed from pandas in a future version. Use pandas.concat instead.\n",
      "  librarians = librarians.append(librarian, ignore_index=True)\n",
      "C:\\Users\\hatam\\AppData\\Local\\Temp\\ipykernel_24220\\2420249230.py:15: FutureWarning: The frame.append method is deprecated and will be removed from pandas in a future version. Use pandas.concat instead.\n",
      "  librarians = librarians.append(librarian, ignore_index=True)\n",
      "C:\\Users\\hatam\\AppData\\Local\\Temp\\ipykernel_24220\\2420249230.py:15: FutureWarning: The frame.append method is deprecated and will be removed from pandas in a future version. Use pandas.concat instead.\n",
      "  librarians = librarians.append(librarian, ignore_index=True)\n",
      "C:\\Users\\hatam\\AppData\\Local\\Temp\\ipykernel_24220\\2420249230.py:15: FutureWarning: The frame.append method is deprecated and will be removed from pandas in a future version. Use pandas.concat instead.\n",
      "  librarians = librarians.append(librarian, ignore_index=True)\n",
      "C:\\Users\\hatam\\AppData\\Local\\Temp\\ipykernel_24220\\2420249230.py:15: FutureWarning: The frame.append method is deprecated and will be removed from pandas in a future version. Use pandas.concat instead.\n",
      "  librarians = librarians.append(librarian, ignore_index=True)\n",
      "C:\\Users\\hatam\\AppData\\Local\\Temp\\ipykernel_24220\\2420249230.py:15: FutureWarning: The frame.append method is deprecated and will be removed from pandas in a future version. Use pandas.concat instead.\n",
      "  librarians = librarians.append(librarian, ignore_index=True)\n",
      "C:\\Users\\hatam\\AppData\\Local\\Temp\\ipykernel_24220\\2420249230.py:15: FutureWarning: The frame.append method is deprecated and will be removed from pandas in a future version. Use pandas.concat instead.\n",
      "  librarians = librarians.append(librarian, ignore_index=True)\n",
      "C:\\Users\\hatam\\AppData\\Local\\Temp\\ipykernel_24220\\2420249230.py:15: FutureWarning: The frame.append method is deprecated and will be removed from pandas in a future version. Use pandas.concat instead.\n",
      "  librarians = librarians.append(librarian, ignore_index=True)\n",
      "C:\\Users\\hatam\\AppData\\Local\\Temp\\ipykernel_24220\\2420249230.py:15: FutureWarning: The frame.append method is deprecated and will be removed from pandas in a future version. Use pandas.concat instead.\n",
      "  librarians = librarians.append(librarian, ignore_index=True)\n",
      "C:\\Users\\hatam\\AppData\\Local\\Temp\\ipykernel_24220\\2420249230.py:15: FutureWarning: The frame.append method is deprecated and will be removed from pandas in a future version. Use pandas.concat instead.\n",
      "  librarians = librarians.append(librarian, ignore_index=True)\n",
      "C:\\Users\\hatam\\AppData\\Local\\Temp\\ipykernel_24220\\2420249230.py:15: FutureWarning: The frame.append method is deprecated and will be removed from pandas in a future version. Use pandas.concat instead.\n",
      "  librarians = librarians.append(librarian, ignore_index=True)\n",
      "C:\\Users\\hatam\\AppData\\Local\\Temp\\ipykernel_24220\\2420249230.py:15: FutureWarning: The frame.append method is deprecated and will be removed from pandas in a future version. Use pandas.concat instead.\n",
      "  librarians = librarians.append(librarian, ignore_index=True)\n",
      "C:\\Users\\hatam\\AppData\\Local\\Temp\\ipykernel_24220\\2420249230.py:15: FutureWarning: The frame.append method is deprecated and will be removed from pandas in a future version. Use pandas.concat instead.\n",
      "  librarians = librarians.append(librarian, ignore_index=True)\n",
      "C:\\Users\\hatam\\AppData\\Local\\Temp\\ipykernel_24220\\2420249230.py:15: FutureWarning: The frame.append method is deprecated and will be removed from pandas in a future version. Use pandas.concat instead.\n",
      "  librarians = librarians.append(librarian, ignore_index=True)\n",
      "C:\\Users\\hatam\\AppData\\Local\\Temp\\ipykernel_24220\\2420249230.py:15: FutureWarning: The frame.append method is deprecated and will be removed from pandas in a future version. Use pandas.concat instead.\n",
      "  librarians = librarians.append(librarian, ignore_index=True)\n",
      "C:\\Users\\hatam\\AppData\\Local\\Temp\\ipykernel_24220\\2420249230.py:15: FutureWarning: The frame.append method is deprecated and will be removed from pandas in a future version. Use pandas.concat instead.\n",
      "  librarians = librarians.append(librarian, ignore_index=True)\n",
      "C:\\Users\\hatam\\AppData\\Local\\Temp\\ipykernel_24220\\2420249230.py:15: FutureWarning: The frame.append method is deprecated and will be removed from pandas in a future version. Use pandas.concat instead.\n",
      "  librarians = librarians.append(librarian, ignore_index=True)\n",
      "C:\\Users\\hatam\\AppData\\Local\\Temp\\ipykernel_24220\\2420249230.py:15: FutureWarning: The frame.append method is deprecated and will be removed from pandas in a future version. Use pandas.concat instead.\n",
      "  librarians = librarians.append(librarian, ignore_index=True)\n",
      "C:\\Users\\hatam\\AppData\\Local\\Temp\\ipykernel_24220\\2420249230.py:15: FutureWarning: The frame.append method is deprecated and will be removed from pandas in a future version. Use pandas.concat instead.\n",
      "  librarians = librarians.append(librarian, ignore_index=True)\n",
      "C:\\Users\\hatam\\AppData\\Local\\Temp\\ipykernel_24220\\2420249230.py:15: FutureWarning: The frame.append method is deprecated and will be removed from pandas in a future version. Use pandas.concat instead.\n",
      "  librarians = librarians.append(librarian, ignore_index=True)\n",
      "C:\\Users\\hatam\\AppData\\Local\\Temp\\ipykernel_24220\\2420249230.py:15: FutureWarning: The frame.append method is deprecated and will be removed from pandas in a future version. Use pandas.concat instead.\n",
      "  librarians = librarians.append(librarian, ignore_index=True)\n",
      "C:\\Users\\hatam\\AppData\\Local\\Temp\\ipykernel_24220\\2420249230.py:15: FutureWarning: The frame.append method is deprecated and will be removed from pandas in a future version. Use pandas.concat instead.\n",
      "  librarians = librarians.append(librarian, ignore_index=True)\n",
      "C:\\Users\\hatam\\AppData\\Local\\Temp\\ipykernel_24220\\2420249230.py:15: FutureWarning: The frame.append method is deprecated and will be removed from pandas in a future version. Use pandas.concat instead.\n",
      "  librarians = librarians.append(librarian, ignore_index=True)\n",
      "C:\\Users\\hatam\\AppData\\Local\\Temp\\ipykernel_24220\\2420249230.py:15: FutureWarning: The frame.append method is deprecated and will be removed from pandas in a future version. Use pandas.concat instead.\n",
      "  librarians = librarians.append(librarian, ignore_index=True)\n",
      "C:\\Users\\hatam\\AppData\\Local\\Temp\\ipykernel_24220\\2420249230.py:15: FutureWarning: The frame.append method is deprecated and will be removed from pandas in a future version. Use pandas.concat instead.\n",
      "  librarians = librarians.append(librarian, ignore_index=True)\n",
      "C:\\Users\\hatam\\AppData\\Local\\Temp\\ipykernel_24220\\2420249230.py:15: FutureWarning: The frame.append method is deprecated and will be removed from pandas in a future version. Use pandas.concat instead.\n",
      "  librarians = librarians.append(librarian, ignore_index=True)\n",
      "C:\\Users\\hatam\\AppData\\Local\\Temp\\ipykernel_24220\\2420249230.py:15: FutureWarning: The frame.append method is deprecated and will be removed from pandas in a future version. Use pandas.concat instead.\n",
      "  librarians = librarians.append(librarian, ignore_index=True)\n",
      "C:\\Users\\hatam\\AppData\\Local\\Temp\\ipykernel_24220\\2420249230.py:15: FutureWarning: The frame.append method is deprecated and will be removed from pandas in a future version. Use pandas.concat instead.\n",
      "  librarians = librarians.append(librarian, ignore_index=True)\n",
      "C:\\Users\\hatam\\AppData\\Local\\Temp\\ipykernel_24220\\2420249230.py:15: FutureWarning: The frame.append method is deprecated and will be removed from pandas in a future version. Use pandas.concat instead.\n",
      "  librarians = librarians.append(librarian, ignore_index=True)\n",
      "C:\\Users\\hatam\\AppData\\Local\\Temp\\ipykernel_24220\\2420249230.py:15: FutureWarning: The frame.append method is deprecated and will be removed from pandas in a future version. Use pandas.concat instead.\n",
      "  librarians = librarians.append(librarian, ignore_index=True)\n",
      "C:\\Users\\hatam\\AppData\\Local\\Temp\\ipykernel_24220\\2420249230.py:15: FutureWarning: The frame.append method is deprecated and will be removed from pandas in a future version. Use pandas.concat instead.\n",
      "  librarians = librarians.append(librarian, ignore_index=True)\n",
      "C:\\Users\\hatam\\AppData\\Local\\Temp\\ipykernel_24220\\2420249230.py:15: FutureWarning: The frame.append method is deprecated and will be removed from pandas in a future version. Use pandas.concat instead.\n",
      "  librarians = librarians.append(librarian, ignore_index=True)\n",
      "C:\\Users\\hatam\\AppData\\Local\\Temp\\ipykernel_24220\\2420249230.py:15: FutureWarning: The frame.append method is deprecated and will be removed from pandas in a future version. Use pandas.concat instead.\n",
      "  librarians = librarians.append(librarian, ignore_index=True)\n"
     ]
    },
    {
     "name": "stderr",
     "output_type": "stream",
     "text": [
      "C:\\Users\\hatam\\AppData\\Local\\Temp\\ipykernel_24220\\2420249230.py:15: FutureWarning: The frame.append method is deprecated and will be removed from pandas in a future version. Use pandas.concat instead.\n",
      "  librarians = librarians.append(librarian, ignore_index=True)\n",
      "C:\\Users\\hatam\\AppData\\Local\\Temp\\ipykernel_24220\\2420249230.py:15: FutureWarning: The frame.append method is deprecated and will be removed from pandas in a future version. Use pandas.concat instead.\n",
      "  librarians = librarians.append(librarian, ignore_index=True)\n",
      "C:\\Users\\hatam\\AppData\\Local\\Temp\\ipykernel_24220\\2420249230.py:15: FutureWarning: The frame.append method is deprecated and will be removed from pandas in a future version. Use pandas.concat instead.\n",
      "  librarians = librarians.append(librarian, ignore_index=True)\n",
      "C:\\Users\\hatam\\AppData\\Local\\Temp\\ipykernel_24220\\2420249230.py:15: FutureWarning: The frame.append method is deprecated and will be removed from pandas in a future version. Use pandas.concat instead.\n",
      "  librarians = librarians.append(librarian, ignore_index=True)\n",
      "C:\\Users\\hatam\\AppData\\Local\\Temp\\ipykernel_24220\\2420249230.py:15: FutureWarning: The frame.append method is deprecated and will be removed from pandas in a future version. Use pandas.concat instead.\n",
      "  librarians = librarians.append(librarian, ignore_index=True)\n",
      "C:\\Users\\hatam\\AppData\\Local\\Temp\\ipykernel_24220\\2420249230.py:15: FutureWarning: The frame.append method is deprecated and will be removed from pandas in a future version. Use pandas.concat instead.\n",
      "  librarians = librarians.append(librarian, ignore_index=True)\n",
      "C:\\Users\\hatam\\AppData\\Local\\Temp\\ipykernel_24220\\2420249230.py:15: FutureWarning: The frame.append method is deprecated and will be removed from pandas in a future version. Use pandas.concat instead.\n",
      "  librarians = librarians.append(librarian, ignore_index=True)\n",
      "C:\\Users\\hatam\\AppData\\Local\\Temp\\ipykernel_24220\\2420249230.py:15: FutureWarning: The frame.append method is deprecated and will be removed from pandas in a future version. Use pandas.concat instead.\n",
      "  librarians = librarians.append(librarian, ignore_index=True)\n",
      "C:\\Users\\hatam\\AppData\\Local\\Temp\\ipykernel_24220\\2420249230.py:15: FutureWarning: The frame.append method is deprecated and will be removed from pandas in a future version. Use pandas.concat instead.\n",
      "  librarians = librarians.append(librarian, ignore_index=True)\n",
      "C:\\Users\\hatam\\AppData\\Local\\Temp\\ipykernel_24220\\2420249230.py:15: FutureWarning: The frame.append method is deprecated and will be removed from pandas in a future version. Use pandas.concat instead.\n",
      "  librarians = librarians.append(librarian, ignore_index=True)\n",
      "C:\\Users\\hatam\\AppData\\Local\\Temp\\ipykernel_24220\\2420249230.py:15: FutureWarning: The frame.append method is deprecated and will be removed from pandas in a future version. Use pandas.concat instead.\n",
      "  librarians = librarians.append(librarian, ignore_index=True)\n",
      "C:\\Users\\hatam\\AppData\\Local\\Temp\\ipykernel_24220\\2420249230.py:15: FutureWarning: The frame.append method is deprecated and will be removed from pandas in a future version. Use pandas.concat instead.\n",
      "  librarians = librarians.append(librarian, ignore_index=True)\n",
      "C:\\Users\\hatam\\AppData\\Local\\Temp\\ipykernel_24220\\2420249230.py:15: FutureWarning: The frame.append method is deprecated and will be removed from pandas in a future version. Use pandas.concat instead.\n",
      "  librarians = librarians.append(librarian, ignore_index=True)\n",
      "C:\\Users\\hatam\\AppData\\Local\\Temp\\ipykernel_24220\\2420249230.py:15: FutureWarning: The frame.append method is deprecated and will be removed from pandas in a future version. Use pandas.concat instead.\n",
      "  librarians = librarians.append(librarian, ignore_index=True)\n",
      "C:\\Users\\hatam\\AppData\\Local\\Temp\\ipykernel_24220\\2420249230.py:15: FutureWarning: The frame.append method is deprecated and will be removed from pandas in a future version. Use pandas.concat instead.\n",
      "  librarians = librarians.append(librarian, ignore_index=True)\n",
      "C:\\Users\\hatam\\AppData\\Local\\Temp\\ipykernel_24220\\2420249230.py:15: FutureWarning: The frame.append method is deprecated and will be removed from pandas in a future version. Use pandas.concat instead.\n",
      "  librarians = librarians.append(librarian, ignore_index=True)\n"
     ]
    }
   ],
   "source": [
    "numLibrarians = 50\n",
    "departments = ['admin', 'catalog', 'circulation', 'infotech']\n",
    "librarians = pd.DataFrame()\n",
    "for librarianID in range(1,numLibrarians+1):\n",
    "    firstName = names.get_first_name()\n",
    "    lastName = names.get_last_name()\n",
    "    age = np.random.randint(17,75)\n",
    "    department = np.random.choice(departments, p=[0.2, 0.2, 0.4, 0.2])\n",
    "    salary = 0\n",
    "    if (age > 17):\n",
    "        salary = np.random.randint(40000,90000)\n",
    "        salary = round(salary, -3)\n",
    "        \n",
    "    librarian = pd.Series({'firstName':firstName, 'lastName':lastName, 'age':age, 'department':department, 'salary':salary})\n",
    "    librarians = librarians.append(librarian, ignore_index=True)\n",
    "    \n",
    "numVolunteers = int(numLibrarians*0.10)\n",
    "for num in range(0,numVolunteers):\n",
    "    librarianID = np.random.randint(1,numLibrarians+1)\n",
    "    librarians.loc[librarianID,'salary'] = 0\n",
    "    \n",
    "if ()"
   ]
  },
  {
   "cell_type": "code",
   "execution_count": 197,
   "id": "8b653c5c",
   "metadata": {},
   "outputs": [
    {
     "data": {
      "text/html": [
       "<div>\n",
       "<style scoped>\n",
       "    .dataframe tbody tr th:only-of-type {\n",
       "        vertical-align: middle;\n",
       "    }\n",
       "\n",
       "    .dataframe tbody tr th {\n",
       "        vertical-align: top;\n",
       "    }\n",
       "\n",
       "    .dataframe thead th {\n",
       "        text-align: right;\n",
       "    }\n",
       "</style>\n",
       "<table border=\"1\" class=\"dataframe\">\n",
       "  <thead>\n",
       "    <tr style=\"text-align: right;\">\n",
       "      <th></th>\n",
       "      <th>firstName</th>\n",
       "      <th>lastName</th>\n",
       "      <th>age</th>\n",
       "      <th>department</th>\n",
       "      <th>salary</th>\n",
       "    </tr>\n",
       "  </thead>\n",
       "  <tbody>\n",
       "    <tr>\n",
       "      <th>0</th>\n",
       "      <td>Francisco</td>\n",
       "      <td>Walkner</td>\n",
       "      <td>24</td>\n",
       "      <td>admin</td>\n",
       "      <td>53000</td>\n",
       "    </tr>\n",
       "    <tr>\n",
       "      <th>1</th>\n",
       "      <td>Steven</td>\n",
       "      <td>Prince</td>\n",
       "      <td>43</td>\n",
       "      <td>catalog</td>\n",
       "      <td>62000</td>\n",
       "    </tr>\n",
       "    <tr>\n",
       "      <th>2</th>\n",
       "      <td>Annette</td>\n",
       "      <td>Wright</td>\n",
       "      <td>24</td>\n",
       "      <td>circulation</td>\n",
       "      <td>89000</td>\n",
       "    </tr>\n",
       "    <tr>\n",
       "      <th>3</th>\n",
       "      <td>Juliana</td>\n",
       "      <td>Francisco</td>\n",
       "      <td>72</td>\n",
       "      <td>infotech</td>\n",
       "      <td>52000</td>\n",
       "    </tr>\n",
       "    <tr>\n",
       "      <th>4</th>\n",
       "      <td>Sheila</td>\n",
       "      <td>Simpson</td>\n",
       "      <td>61</td>\n",
       "      <td>admin</td>\n",
       "      <td>63000</td>\n",
       "    </tr>\n",
       "    <tr>\n",
       "      <th>5</th>\n",
       "      <td>Aaron</td>\n",
       "      <td>Steib</td>\n",
       "      <td>63</td>\n",
       "      <td>admin</td>\n",
       "      <td>42000</td>\n",
       "    </tr>\n",
       "    <tr>\n",
       "      <th>6</th>\n",
       "      <td>Mary</td>\n",
       "      <td>Easterling</td>\n",
       "      <td>63</td>\n",
       "      <td>admin</td>\n",
       "      <td>55000</td>\n",
       "    </tr>\n",
       "    <tr>\n",
       "      <th>7</th>\n",
       "      <td>Mari</td>\n",
       "      <td>Williams</td>\n",
       "      <td>24</td>\n",
       "      <td>infotech</td>\n",
       "      <td>40000</td>\n",
       "    </tr>\n",
       "    <tr>\n",
       "      <th>8</th>\n",
       "      <td>Carol</td>\n",
       "      <td>Hodge</td>\n",
       "      <td>18</td>\n",
       "      <td>catalog</td>\n",
       "      <td>61000</td>\n",
       "    </tr>\n",
       "    <tr>\n",
       "      <th>9</th>\n",
       "      <td>Samuel</td>\n",
       "      <td>Temple</td>\n",
       "      <td>36</td>\n",
       "      <td>infotech</td>\n",
       "      <td>78000</td>\n",
       "    </tr>\n",
       "    <tr>\n",
       "      <th>10</th>\n",
       "      <td>Susan</td>\n",
       "      <td>Sharbono</td>\n",
       "      <td>33</td>\n",
       "      <td>circulation</td>\n",
       "      <td>51000</td>\n",
       "    </tr>\n",
       "    <tr>\n",
       "      <th>11</th>\n",
       "      <td>Elizabeth</td>\n",
       "      <td>Finch</td>\n",
       "      <td>72</td>\n",
       "      <td>circulation</td>\n",
       "      <td>77000</td>\n",
       "    </tr>\n",
       "    <tr>\n",
       "      <th>12</th>\n",
       "      <td>Tracy</td>\n",
       "      <td>Ozaeta</td>\n",
       "      <td>29</td>\n",
       "      <td>circulation</td>\n",
       "      <td>50000</td>\n",
       "    </tr>\n",
       "    <tr>\n",
       "      <th>13</th>\n",
       "      <td>Nina</td>\n",
       "      <td>Gladden</td>\n",
       "      <td>65</td>\n",
       "      <td>infotech</td>\n",
       "      <td>71000</td>\n",
       "    </tr>\n",
       "    <tr>\n",
       "      <th>14</th>\n",
       "      <td>Elisabeth</td>\n",
       "      <td>Hewett</td>\n",
       "      <td>22</td>\n",
       "      <td>infotech</td>\n",
       "      <td>65000</td>\n",
       "    </tr>\n",
       "    <tr>\n",
       "      <th>15</th>\n",
       "      <td>Quentin</td>\n",
       "      <td>Thompson</td>\n",
       "      <td>69</td>\n",
       "      <td>circulation</td>\n",
       "      <td>54000</td>\n",
       "    </tr>\n",
       "    <tr>\n",
       "      <th>16</th>\n",
       "      <td>Jennifer</td>\n",
       "      <td>Herron</td>\n",
       "      <td>42</td>\n",
       "      <td>circulation</td>\n",
       "      <td>0</td>\n",
       "    </tr>\n",
       "    <tr>\n",
       "      <th>17</th>\n",
       "      <td>Michael</td>\n",
       "      <td>Reynolds</td>\n",
       "      <td>72</td>\n",
       "      <td>circulation</td>\n",
       "      <td>47000</td>\n",
       "    </tr>\n",
       "    <tr>\n",
       "      <th>18</th>\n",
       "      <td>Renee</td>\n",
       "      <td>Thurmer</td>\n",
       "      <td>71</td>\n",
       "      <td>circulation</td>\n",
       "      <td>73000</td>\n",
       "    </tr>\n",
       "    <tr>\n",
       "      <th>19</th>\n",
       "      <td>Faye</td>\n",
       "      <td>Moore</td>\n",
       "      <td>37</td>\n",
       "      <td>circulation</td>\n",
       "      <td>60000</td>\n",
       "    </tr>\n",
       "    <tr>\n",
       "      <th>20</th>\n",
       "      <td>Cynthia</td>\n",
       "      <td>Morrison</td>\n",
       "      <td>22</td>\n",
       "      <td>admin</td>\n",
       "      <td>40000</td>\n",
       "    </tr>\n",
       "    <tr>\n",
       "      <th>21</th>\n",
       "      <td>Laurice</td>\n",
       "      <td>Shepard</td>\n",
       "      <td>57</td>\n",
       "      <td>circulation</td>\n",
       "      <td>40000</td>\n",
       "    </tr>\n",
       "    <tr>\n",
       "      <th>22</th>\n",
       "      <td>Matthew</td>\n",
       "      <td>Webster</td>\n",
       "      <td>17</td>\n",
       "      <td>catalog</td>\n",
       "      <td>0</td>\n",
       "    </tr>\n",
       "    <tr>\n",
       "      <th>23</th>\n",
       "      <td>Elizabeth</td>\n",
       "      <td>Hunter</td>\n",
       "      <td>36</td>\n",
       "      <td>admin</td>\n",
       "      <td>53000</td>\n",
       "    </tr>\n",
       "    <tr>\n",
       "      <th>24</th>\n",
       "      <td>James</td>\n",
       "      <td>Day</td>\n",
       "      <td>32</td>\n",
       "      <td>circulation</td>\n",
       "      <td>76000</td>\n",
       "    </tr>\n",
       "    <tr>\n",
       "      <th>25</th>\n",
       "      <td>William</td>\n",
       "      <td>Menter</td>\n",
       "      <td>30</td>\n",
       "      <td>infotech</td>\n",
       "      <td>47000</td>\n",
       "    </tr>\n",
       "    <tr>\n",
       "      <th>26</th>\n",
       "      <td>Michael</td>\n",
       "      <td>Andres</td>\n",
       "      <td>29</td>\n",
       "      <td>circulation</td>\n",
       "      <td>89000</td>\n",
       "    </tr>\n",
       "    <tr>\n",
       "      <th>27</th>\n",
       "      <td>Marshall</td>\n",
       "      <td>Miller</td>\n",
       "      <td>34</td>\n",
       "      <td>circulation</td>\n",
       "      <td>0</td>\n",
       "    </tr>\n",
       "    <tr>\n",
       "      <th>28</th>\n",
       "      <td>Refugio</td>\n",
       "      <td>Beaumont</td>\n",
       "      <td>71</td>\n",
       "      <td>admin</td>\n",
       "      <td>52000</td>\n",
       "    </tr>\n",
       "    <tr>\n",
       "      <th>29</th>\n",
       "      <td>Jospeh</td>\n",
       "      <td>Heater</td>\n",
       "      <td>57</td>\n",
       "      <td>circulation</td>\n",
       "      <td>0</td>\n",
       "    </tr>\n",
       "    <tr>\n",
       "      <th>30</th>\n",
       "      <td>Judy</td>\n",
       "      <td>Nelson</td>\n",
       "      <td>20</td>\n",
       "      <td>infotech</td>\n",
       "      <td>89000</td>\n",
       "    </tr>\n",
       "    <tr>\n",
       "      <th>31</th>\n",
       "      <td>Darlene</td>\n",
       "      <td>Velez</td>\n",
       "      <td>23</td>\n",
       "      <td>infotech</td>\n",
       "      <td>72000</td>\n",
       "    </tr>\n",
       "    <tr>\n",
       "      <th>32</th>\n",
       "      <td>Vanessa</td>\n",
       "      <td>Elsass</td>\n",
       "      <td>61</td>\n",
       "      <td>admin</td>\n",
       "      <td>64000</td>\n",
       "    </tr>\n",
       "    <tr>\n",
       "      <th>33</th>\n",
       "      <td>Susan</td>\n",
       "      <td>Lipsitz</td>\n",
       "      <td>60</td>\n",
       "      <td>infotech</td>\n",
       "      <td>43000</td>\n",
       "    </tr>\n",
       "    <tr>\n",
       "      <th>34</th>\n",
       "      <td>Joseph</td>\n",
       "      <td>Poucher</td>\n",
       "      <td>65</td>\n",
       "      <td>catalog</td>\n",
       "      <td>46000</td>\n",
       "    </tr>\n",
       "    <tr>\n",
       "      <th>35</th>\n",
       "      <td>Jack</td>\n",
       "      <td>Swisher</td>\n",
       "      <td>37</td>\n",
       "      <td>catalog</td>\n",
       "      <td>82000</td>\n",
       "    </tr>\n",
       "    <tr>\n",
       "      <th>36</th>\n",
       "      <td>Samantha</td>\n",
       "      <td>Turner</td>\n",
       "      <td>40</td>\n",
       "      <td>circulation</td>\n",
       "      <td>55000</td>\n",
       "    </tr>\n",
       "    <tr>\n",
       "      <th>37</th>\n",
       "      <td>Kyle</td>\n",
       "      <td>Crisp</td>\n",
       "      <td>41</td>\n",
       "      <td>admin</td>\n",
       "      <td>0</td>\n",
       "    </tr>\n",
       "    <tr>\n",
       "      <th>38</th>\n",
       "      <td>Hugh</td>\n",
       "      <td>Shelley</td>\n",
       "      <td>30</td>\n",
       "      <td>infotech</td>\n",
       "      <td>48000</td>\n",
       "    </tr>\n",
       "    <tr>\n",
       "      <th>39</th>\n",
       "      <td>James</td>\n",
       "      <td>Garland</td>\n",
       "      <td>51</td>\n",
       "      <td>circulation</td>\n",
       "      <td>58000</td>\n",
       "    </tr>\n",
       "    <tr>\n",
       "      <th>40</th>\n",
       "      <td>David</td>\n",
       "      <td>Mckay</td>\n",
       "      <td>45</td>\n",
       "      <td>circulation</td>\n",
       "      <td>58000</td>\n",
       "    </tr>\n",
       "    <tr>\n",
       "      <th>41</th>\n",
       "      <td>Judy</td>\n",
       "      <td>Gustafson</td>\n",
       "      <td>32</td>\n",
       "      <td>catalog</td>\n",
       "      <td>50000</td>\n",
       "    </tr>\n",
       "    <tr>\n",
       "      <th>42</th>\n",
       "      <td>Patricia</td>\n",
       "      <td>Cain</td>\n",
       "      <td>45</td>\n",
       "      <td>admin</td>\n",
       "      <td>82000</td>\n",
       "    </tr>\n",
       "    <tr>\n",
       "      <th>43</th>\n",
       "      <td>Jeffrey</td>\n",
       "      <td>Peacock</td>\n",
       "      <td>49</td>\n",
       "      <td>admin</td>\n",
       "      <td>49000</td>\n",
       "    </tr>\n",
       "    <tr>\n",
       "      <th>44</th>\n",
       "      <td>Jesse</td>\n",
       "      <td>Charron</td>\n",
       "      <td>33</td>\n",
       "      <td>catalog</td>\n",
       "      <td>62000</td>\n",
       "    </tr>\n",
       "    <tr>\n",
       "      <th>45</th>\n",
       "      <td>Maria</td>\n",
       "      <td>Araiza</td>\n",
       "      <td>58</td>\n",
       "      <td>infotech</td>\n",
       "      <td>88000</td>\n",
       "    </tr>\n",
       "    <tr>\n",
       "      <th>46</th>\n",
       "      <td>Sheila</td>\n",
       "      <td>Rodriguez</td>\n",
       "      <td>62</td>\n",
       "      <td>infotech</td>\n",
       "      <td>77000</td>\n",
       "    </tr>\n",
       "    <tr>\n",
       "      <th>47</th>\n",
       "      <td>Molly</td>\n",
       "      <td>Ceravolo</td>\n",
       "      <td>40</td>\n",
       "      <td>circulation</td>\n",
       "      <td>52000</td>\n",
       "    </tr>\n",
       "    <tr>\n",
       "      <th>48</th>\n",
       "      <td>Jayne</td>\n",
       "      <td>Flores</td>\n",
       "      <td>56</td>\n",
       "      <td>admin</td>\n",
       "      <td>0</td>\n",
       "    </tr>\n",
       "    <tr>\n",
       "      <th>49</th>\n",
       "      <td>Raymond</td>\n",
       "      <td>Wise</td>\n",
       "      <td>67</td>\n",
       "      <td>infotech</td>\n",
       "      <td>87000</td>\n",
       "    </tr>\n",
       "  </tbody>\n",
       "</table>\n",
       "</div>"
      ],
      "text/plain": [
       "    firstName    lastName  age   department  salary\n",
       "0   Francisco     Walkner   24        admin   53000\n",
       "1      Steven      Prince   43      catalog   62000\n",
       "2     Annette      Wright   24  circulation   89000\n",
       "3     Juliana   Francisco   72     infotech   52000\n",
       "4      Sheila     Simpson   61        admin   63000\n",
       "5       Aaron       Steib   63        admin   42000\n",
       "6        Mary  Easterling   63        admin   55000\n",
       "7        Mari    Williams   24     infotech   40000\n",
       "8       Carol       Hodge   18      catalog   61000\n",
       "9      Samuel      Temple   36     infotech   78000\n",
       "10      Susan    Sharbono   33  circulation   51000\n",
       "11  Elizabeth       Finch   72  circulation   77000\n",
       "12      Tracy      Ozaeta   29  circulation   50000\n",
       "13       Nina     Gladden   65     infotech   71000\n",
       "14  Elisabeth      Hewett   22     infotech   65000\n",
       "15    Quentin    Thompson   69  circulation   54000\n",
       "16   Jennifer      Herron   42  circulation       0\n",
       "17    Michael    Reynolds   72  circulation   47000\n",
       "18      Renee     Thurmer   71  circulation   73000\n",
       "19       Faye       Moore   37  circulation   60000\n",
       "20    Cynthia    Morrison   22        admin   40000\n",
       "21    Laurice     Shepard   57  circulation   40000\n",
       "22    Matthew     Webster   17      catalog       0\n",
       "23  Elizabeth      Hunter   36        admin   53000\n",
       "24      James         Day   32  circulation   76000\n",
       "25    William      Menter   30     infotech   47000\n",
       "26    Michael      Andres   29  circulation   89000\n",
       "27   Marshall      Miller   34  circulation       0\n",
       "28    Refugio    Beaumont   71        admin   52000\n",
       "29     Jospeh      Heater   57  circulation       0\n",
       "30       Judy      Nelson   20     infotech   89000\n",
       "31    Darlene       Velez   23     infotech   72000\n",
       "32    Vanessa      Elsass   61        admin   64000\n",
       "33      Susan     Lipsitz   60     infotech   43000\n",
       "34     Joseph     Poucher   65      catalog   46000\n",
       "35       Jack     Swisher   37      catalog   82000\n",
       "36   Samantha      Turner   40  circulation   55000\n",
       "37       Kyle       Crisp   41        admin       0\n",
       "38       Hugh     Shelley   30     infotech   48000\n",
       "39      James     Garland   51  circulation   58000\n",
       "40      David       Mckay   45  circulation   58000\n",
       "41       Judy   Gustafson   32      catalog   50000\n",
       "42   Patricia        Cain   45        admin   82000\n",
       "43    Jeffrey     Peacock   49        admin   49000\n",
       "44      Jesse     Charron   33      catalog   62000\n",
       "45      Maria      Araiza   58     infotech   88000\n",
       "46     Sheila   Rodriguez   62     infotech   77000\n",
       "47      Molly    Ceravolo   40  circulation   52000\n",
       "48      Jayne      Flores   56        admin       0\n",
       "49    Raymond        Wise   67     infotech   87000"
      ]
     },
     "execution_count": 197,
     "metadata": {},
     "output_type": "execute_result"
    }
   ],
   "source": [
    "librarians"
   ]
  },
  {
   "cell_type": "markdown",
   "id": "79894a48",
   "metadata": {},
   "source": [
    "## Table: User"
   ]
  },
  {
   "cell_type": "code",
   "execution_count": 138,
   "id": "979ebb2c",
   "metadata": {},
   "outputs": [
    {
     "name": "stdout",
     "output_type": "stream",
     "text": [
      " * sqlite:///library.db\n",
      "Done.\n"
     ]
    },
    {
     "data": {
      "text/plain": [
       "[]"
      ]
     },
     "execution_count": 138,
     "metadata": {},
     "output_type": "execute_result"
    }
   ],
   "source": [
    "%%sql\n",
    "DROP TABLE mytable"
   ]
  },
  {
   "cell_type": "code",
   "execution_count": 118,
   "id": "9d5adf0a",
   "metadata": {},
   "outputs": [
    {
     "data": {
      "text/html": [
       "<div>\n",
       "<style scoped>\n",
       "    .dataframe tbody tr th:only-of-type {\n",
       "        vertical-align: middle;\n",
       "    }\n",
       "\n",
       "    .dataframe tbody tr th {\n",
       "        vertical-align: top;\n",
       "    }\n",
       "\n",
       "    .dataframe thead th {\n",
       "        text-align: right;\n",
       "    }\n",
       "</style>\n",
       "<table border=\"1\" class=\"dataframe\">\n",
       "  <thead>\n",
       "    <tr style=\"text-align: right;\">\n",
       "      <th></th>\n",
       "      <th>title</th>\n",
       "      <th>author</th>\n",
       "      <th>type</th>\n",
       "    </tr>\n",
       "  </thead>\n",
       "  <tbody>\n",
       "    <tr>\n",
       "      <th>0</th>\n",
       "      <td>The Hunger Games</td>\n",
       "      <td>Suzanne Collins</td>\n",
       "      <td>book</td>\n",
       "    </tr>\n",
       "    <tr>\n",
       "      <th>1</th>\n",
       "      <td>Harry Potter and the Order of the Phoenix</td>\n",
       "      <td>J.K. Rowling, Mary GrandPré (Illustrator)</td>\n",
       "      <td>book</td>\n",
       "    </tr>\n",
       "    <tr>\n",
       "      <th>2</th>\n",
       "      <td>To Kill a Mockingbird</td>\n",
       "      <td>Harper Lee</td>\n",
       "      <td>book</td>\n",
       "    </tr>\n",
       "    <tr>\n",
       "      <th>3</th>\n",
       "      <td>Pride and Prejudice</td>\n",
       "      <td>Jane Austen, Anna Quindlen (Introduction)</td>\n",
       "      <td>book</td>\n",
       "    </tr>\n",
       "    <tr>\n",
       "      <th>4</th>\n",
       "      <td>Twilight</td>\n",
       "      <td>Stephenie Meyer</td>\n",
       "      <td>book</td>\n",
       "    </tr>\n",
       "    <tr>\n",
       "      <th>...</th>\n",
       "      <td>...</td>\n",
       "      <td>...</td>\n",
       "      <td>...</td>\n",
       "    </tr>\n",
       "    <tr>\n",
       "      <th>52473</th>\n",
       "      <td>Fractured</td>\n",
       "      <td>Cheri Schmidt (Goodreads Author)</td>\n",
       "      <td>book</td>\n",
       "    </tr>\n",
       "    <tr>\n",
       "      <th>52474</th>\n",
       "      <td>Anasazi</td>\n",
       "      <td>Emma Michaels</td>\n",
       "      <td>book</td>\n",
       "    </tr>\n",
       "    <tr>\n",
       "      <th>52475</th>\n",
       "      <td>Marked</td>\n",
       "      <td>Kim Richardson (Goodreads Author)</td>\n",
       "      <td>book</td>\n",
       "    </tr>\n",
       "    <tr>\n",
       "      <th>52476</th>\n",
       "      <td>Wayward Son</td>\n",
       "      <td>Tom Pollack (Goodreads Author), John Loftus (G...</td>\n",
       "      <td>book</td>\n",
       "    </tr>\n",
       "    <tr>\n",
       "      <th>52477</th>\n",
       "      <td>Daughter of Helaman</td>\n",
       "      <td>Misty Moncur (Goodreads Author)</td>\n",
       "      <td>book</td>\n",
       "    </tr>\n",
       "  </tbody>\n",
       "</table>\n",
       "<p>52478 rows × 3 columns</p>\n",
       "</div>"
      ],
      "text/plain": [
       "                                           title  \\\n",
       "0                               The Hunger Games   \n",
       "1      Harry Potter and the Order of the Phoenix   \n",
       "2                          To Kill a Mockingbird   \n",
       "3                            Pride and Prejudice   \n",
       "4                                       Twilight   \n",
       "...                                          ...   \n",
       "52473                                  Fractured   \n",
       "52474                                    Anasazi   \n",
       "52475                                     Marked   \n",
       "52476                                Wayward Son   \n",
       "52477                        Daughter of Helaman   \n",
       "\n",
       "                                                  author  type  \n",
       "0                                        Suzanne Collins  book  \n",
       "1              J.K. Rowling, Mary GrandPré (Illustrator)  book  \n",
       "2                                             Harper Lee  book  \n",
       "3              Jane Austen, Anna Quindlen (Introduction)  book  \n",
       "4                                        Stephenie Meyer  book  \n",
       "...                                                  ...   ...  \n",
       "52473                   Cheri Schmidt (Goodreads Author)  book  \n",
       "52474                                      Emma Michaels  book  \n",
       "52475                  Kim Richardson (Goodreads Author)  book  \n",
       "52476  Tom Pollack (Goodreads Author), John Loftus (G...  book  \n",
       "52477                    Misty Moncur (Goodreads Author)  book  \n",
       "\n",
       "[52478 rows x 3 columns]"
      ]
     },
     "execution_count": 118,
     "metadata": {},
     "output_type": "execute_result"
    }
   ],
   "source": [
    "books"
   ]
  },
  {
   "cell_type": "code",
   "execution_count": 185,
   "id": "748edf63",
   "metadata": {},
   "outputs": [
    {
     "name": "stdout",
     "output_type": "stream",
     "text": [
      " * sqlite:///library.db\n",
      "Done.\n",
      "Done.\n",
      "Done.\n",
      "Done.\n",
      "Done.\n",
      "Done.\n",
      "Done.\n"
     ]
    },
    {
     "data": {
      "text/plain": [
       "[]"
      ]
     },
     "execution_count": 185,
     "metadata": {},
     "output_type": "execute_result"
    }
   ],
   "source": [
    "%%sql\n",
    "DROP TABLE Item;\n",
    "DROP TABLE User;\n",
    "DROP TABLE Librarian;\n",
    "DROP TABLE LibraryItem;\n",
    "DROP TABLE BorrowedItem;\n",
    "DROP TABLE Event;\n",
    "DROP TABLE EventRegistration;"
   ]
  },
  {
   "cell_type": "code",
   "execution_count": null,
   "id": "e63a3c32",
   "metadata": {},
   "outputs": [],
   "source": []
  }
 ],
 "metadata": {
  "kernelspec": {
   "display_name": "Python 3 (ipykernel)",
   "language": "python",
   "name": "python3"
  },
  "language_info": {
   "codemirror_mode": {
    "name": "ipython",
    "version": 3
   },
   "file_extension": ".py",
   "mimetype": "text/x-python",
   "name": "python",
   "nbconvert_exporter": "python",
   "pygments_lexer": "ipython3",
   "version": "3.9.12"
  },
  "toc": {
   "base_numbering": 1,
   "nav_menu": {},
   "number_sections": true,
   "sideBar": true,
   "skip_h1_title": false,
   "title_cell": "Table of Contents",
   "title_sidebar": "Contents",
   "toc_cell": false,
   "toc_position": {},
   "toc_section_display": true,
   "toc_window_display": false
  },
  "varInspector": {
   "cols": {
    "lenName": 16,
    "lenType": 16,
    "lenVar": 40
   },
   "kernels_config": {
    "python": {
     "delete_cmd_postfix": "",
     "delete_cmd_prefix": "del ",
     "library": "var_list.py",
     "varRefreshCmd": "print(var_dic_list())"
    },
    "r": {
     "delete_cmd_postfix": ") ",
     "delete_cmd_prefix": "rm(",
     "library": "var_list.r",
     "varRefreshCmd": "cat(var_dic_list()) "
    }
   },
   "types_to_exclude": [
    "module",
    "function",
    "builtin_function_or_method",
    "instance",
    "_Feature"
   ],
   "window_display": false
  }
 },
 "nbformat": 4,
 "nbformat_minor": 5
}
