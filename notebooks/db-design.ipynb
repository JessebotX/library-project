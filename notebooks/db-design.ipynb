{
 "cells": [
  {
   "cell_type": "code",
   "execution_count": 1,
   "id": "c594a217",
   "metadata": {},
   "outputs": [
    {
     "data": {
      "text/html": [
       "<style>.container { width:100% !important; }</style>"
      ],
      "text/plain": [
       "<IPython.core.display.HTML object>"
      ]
     },
     "metadata": {},
     "output_type": "display_data"
    }
   ],
   "source": [
    "import pandas as pd\n",
    "import numpy as np\n",
    "import names\n",
    "import datetime\n",
    "from IPython.display import display, HTML\n",
    "from sqlalchemy import create_engine\n",
    "\n",
    "display(HTML(\"<style>.container { width:100% !important; }</style>\"))"
   ]
  },
  {
   "cell_type": "markdown",
   "id": "6c0735fe",
   "metadata": {},
   "source": [
    "# Creating a db"
   ]
  },
  {
   "cell_type": "code",
   "execution_count": 2,
   "id": "fc19b1e4",
   "metadata": {},
   "outputs": [],
   "source": [
    "%load_ext sql"
   ]
  },
  {
   "cell_type": "code",
   "execution_count": 3,
   "id": "50408cc4",
   "metadata": {},
   "outputs": [
    {
     "data": {
      "text/plain": [
       "'Connected: @library.db'"
      ]
     },
     "execution_count": 3,
     "metadata": {},
     "output_type": "execute_result"
    }
   ],
   "source": [
    "%sql sqlite:///library.db"
   ]
  },
  {
   "cell_type": "code",
   "execution_count": 4,
   "id": "6d986c51",
   "metadata": {},
   "outputs": [
    {
     "name": "stdout",
     "output_type": "stream",
     "text": [
      " * sqlite:///library.db\n",
      "Done.\n"
     ]
    },
    {
     "data": {
      "text/html": [
       "<table>\n",
       "    <thead>\n",
       "        <tr>\n",
       "            <th>name</th>\n",
       "        </tr>\n",
       "    </thead>\n",
       "    <tbody>\n",
       "    </tbody>\n",
       "</table>"
      ],
      "text/plain": [
       "[]"
      ]
     },
     "execution_count": 4,
     "metadata": {},
     "output_type": "execute_result"
    }
   ],
   "source": [
    "%%sql \n",
    "SELECT name FROM sqlite_schema WHERE type='table'"
   ]
  },
  {
   "cell_type": "code",
   "execution_count": 5,
   "id": "1b794f3c",
   "metadata": {},
   "outputs": [
    {
     "name": "stdout",
     "output_type": "stream",
     "text": [
      " * sqlite:///library.db\n",
      "(sqlite3.OperationalError) no such table: Event\n",
      "[SQL: SELECT * FROM Event WHERE startTS BETWEEN \"2022-01-01 00:00\" AND \"2024-01-01 00:00\"]\n",
      "(Background on this error at: https://sqlalche.me/e/14/e3q8)\n"
     ]
    }
   ],
   "source": [
    "%%sql\n",
    "SELECT * FROM Event WHERE startTS BETWEEN \"2022-01-01 00:00\" AND \"2024-01-01 00:00\""
   ]
  },
  {
   "cell_type": "markdown",
   "id": "41d19221",
   "metadata": {},
   "source": [
    "# Creating tables"
   ]
  },
  {
   "cell_type": "code",
   "execution_count": 7,
   "id": "c59a3130",
   "metadata": {},
   "outputs": [
    {
     "name": "stdout",
     "output_type": "stream",
     "text": [
      " * sqlite:///library.db\n",
      "Done.\n"
     ]
    },
    {
     "data": {
      "text/plain": [
       "[]"
      ]
     },
     "execution_count": 7,
     "metadata": {},
     "output_type": "execute_result"
    }
   ],
   "source": [
    "%%sql\n",
    "CREATE TABLE User(\n",
    "    userID INTEGER PRIMARY KEY,\n",
    "    firstName VARCHAR(30) NOT NULL,\n",
    "    lastName VARCHAR(30) NOT NULL,\n",
    "    age INTEGER NOT NULL,\n",
    "    fines NUMERIC(5,2) DEFAULT 0,\n",
    "    CHECK (age >= 7),\n",
    "    CHECK (fines >= 0)\n",
    ");"
   ]
  },
  {
   "cell_type": "code",
   "execution_count": 8,
   "id": "03ba5524",
   "metadata": {},
   "outputs": [
    {
     "name": "stdout",
     "output_type": "stream",
     "text": [
      " * sqlite:///library.db\n",
      "Done.\n"
     ]
    },
    {
     "data": {
      "text/plain": [
       "[]"
      ]
     },
     "execution_count": 8,
     "metadata": {},
     "output_type": "execute_result"
    }
   ],
   "source": [
    "%%sql\n",
    "CREATE TABLE Librarian(\n",
    "    librarianID INTEGER PRIMARY KEY,\n",
    "    firstName VARCHAR(30) NOT NULL,\n",
    "    lastName VARCHAR(30) NOT NULL,\n",
    "    salary NUMERIC(6,2) DEFAULT 0,\n",
    "    department VARCHAR(20) NOT NULL,\n",
    "    userID REFERENCES User(userID) UNIQUE DEFAULT NULL,\n",
    "    CHECK (salary >= 0),\n",
    "    CHECK ((department <> 'volunteer') OR (salary = 0)),\n",
    "    CHECK (department IN ('admin', 'catalog', 'circulation', 'infotech', 'volunteer'))\n",
    ");"
   ]
  },
  {
   "cell_type": "code",
   "execution_count": 9,
   "id": "132f6b9b",
   "metadata": {},
   "outputs": [
    {
     "name": "stdout",
     "output_type": "stream",
     "text": [
      " * sqlite:///library.db\n",
      "Done.\n"
     ]
    },
    {
     "data": {
      "text/plain": [
       "[]"
      ]
     },
     "execution_count": 9,
     "metadata": {},
     "output_type": "execute_result"
    }
   ],
   "source": [
    "%%sql\n",
    "CREATE TABLE BorrowedItem(\n",
    "    userID REFERENCES User(userID) NOT NULL,\n",
    "    libraryItemID REFERENCES LibraryItem(libraryItemID) NOT NULL,\n",
    "    dueDate DATETIME DEFAULT (datetime('now', '+14 day')) NOT NULL,\n",
    "    returnedDate DATETIME DEFAULT NULL,\n",
    "    PRIMARY KEY (userID,libraryItemID,dueDate)\n",
    ");"
   ]
  },
  {
   "cell_type": "code",
   "execution_count": 10,
   "id": "b0394a73",
   "metadata": {},
   "outputs": [
    {
     "name": "stdout",
     "output_type": "stream",
     "text": [
      " * sqlite:///library.db\n",
      "Done.\n"
     ]
    },
    {
     "data": {
      "text/plain": [
       "[]"
      ]
     },
     "execution_count": 10,
     "metadata": {},
     "output_type": "execute_result"
    }
   ],
   "source": [
    "%%sql\n",
    "CREATE TABLE LibraryItem(\n",
    "    libraryItemID INTEGER PRIMARY KEY,\n",
    "    itemID REFERENCES Item(itemID) NOT NULL,\n",
    "    toBeAdded BOOLEAN\n",
    ");"
   ]
  },
  {
   "cell_type": "code",
   "execution_count": 11,
   "id": "33c89757",
   "metadata": {},
   "outputs": [
    {
     "name": "stdout",
     "output_type": "stream",
     "text": [
      " * sqlite:///library.db\n",
      "Done.\n"
     ]
    },
    {
     "data": {
      "text/plain": [
       "[]"
      ]
     },
     "execution_count": 11,
     "metadata": {},
     "output_type": "execute_result"
    }
   ],
   "source": [
    "%%sql\n",
    "CREATE TABLE Item(\n",
    "    itemID INTEGER PRIMARY KEY,\n",
    "    author VARCHAR(30) NOT NULL,\n",
    "    itemName VARCHAR(30) NOT NULL,\n",
    "    type VARCHAR(15) NOT NULL,\n",
    "    CHECK (type IN ('movie', 'book', 'song', 'paper'))\n",
    ");"
   ]
  },
  {
   "cell_type": "code",
   "execution_count": 12,
   "id": "77fc8fac",
   "metadata": {},
   "outputs": [
    {
     "name": "stdout",
     "output_type": "stream",
     "text": [
      " * sqlite:///library.db\n",
      "Done.\n"
     ]
    },
    {
     "data": {
      "text/plain": [
       "[]"
      ]
     },
     "execution_count": 12,
     "metadata": {},
     "output_type": "execute_result"
    }
   ],
   "source": [
    "%%sql\n",
    "CREATE TABLE Event(\n",
    "    startTS DATETIME NOT NULL,\n",
    "    endTS DATETIME NOT NULL,\n",
    "    room VARCHAR(10) NOT NULL,\n",
    "    eventName VARCHAR(30) NOT NULL,\n",
    "    audience VARCHAR(20),\n",
    "    maxRegistrations INTEGER DEFAULT 0,\n",
    "    artist VARCHAR(30),\n",
    "    itemID REFERENCES Item(itemID),\n",
    "    PRIMARY KEY (startTS, room),\n",
    "    CHECK (maxRegistrations >= 0)\n",
    ");"
   ]
  },
  {
   "cell_type": "code",
   "execution_count": 13,
   "id": "41799755",
   "metadata": {},
   "outputs": [
    {
     "name": "stdout",
     "output_type": "stream",
     "text": [
      " * sqlite:///library.db\n",
      "Done.\n"
     ]
    },
    {
     "data": {
      "text/plain": [
       "[]"
      ]
     },
     "execution_count": 13,
     "metadata": {},
     "output_type": "execute_result"
    }
   ],
   "source": [
    "%%sql\n",
    "CREATE TABLE EventRegistration(\n",
    "    startTS REFERENCES Event(startTS) NOT NULL,\n",
    "    room REFERENCES Event(room) NOT NULL,\n",
    "    userID REFERENCES User(userID) NOT NULL,\n",
    "    PRIMARY KEY (startTS, room, userID)\n",
    ");"
   ]
  },
  {
   "cell_type": "markdown",
   "id": "fc64bc76",
   "metadata": {},
   "source": [
    "# ASSERTIONS AND TRIGGERS"
   ]
  },
  {
   "cell_type": "markdown",
   "id": "1d22d6c7",
   "metadata": {},
   "source": [
    "## List of Assertions\n",
    "\n",
    " - Maximum possible users <= some constant\n",
    " - Maximum employee salary <= budget"
   ]
  },
  {
   "cell_type": "markdown",
   "id": "f64db765",
   "metadata": {},
   "source": [
    "## List of Triggers\n",
    "\n",
    " - Users with fines cannot borrow items\n",
    " - Users cannot take items that are already checked out\n",
    " - Users cannot return items that have already been returned\n",
    " - Users cannot register for events at max capacity\n",
    " - Users cannot register multiple times for the same event\n",
    " - Users cannot register for past events"
   ]
  },
  {
   "cell_type": "code",
   "execution_count": 21,
   "id": "68ede832",
   "metadata": {},
   "outputs": [
    {
     "name": "stdout",
     "output_type": "stream",
     "text": [
      " * sqlite:///library.db\n",
      "Done.\n"
     ]
    },
    {
     "data": {
      "text/plain": [
       "[]"
      ]
     },
     "execution_count": 21,
     "metadata": {},
     "output_type": "execute_result"
    }
   ],
   "source": [
    "%%sql\n",
    "CREATE TRIGGER prevent_multiple_returns\n",
    "BEFORE UPDATE OF returnedDate ON BorrowedItem\n",
    "FOR EACH ROW\n",
    "WHEN NEW.returnedDate IS NOT NULL AND OLD.returnedDate IS NOT NULL\n",
    "BEGIN\n",
    "    SELECT RAISE(ABORT, 'The item has already been returned.');\n",
    "END;"
   ]
  },
  {
   "cell_type": "code",
   "execution_count": 22,
   "id": "c3b8a31b",
   "metadata": {},
   "outputs": [
    {
     "name": "stdout",
     "output_type": "stream",
     "text": [
      " * sqlite:///library.db\n",
      "Done.\n"
     ]
    },
    {
     "data": {
      "text/plain": [
       "[]"
      ]
     },
     "execution_count": 22,
     "metadata": {},
     "output_type": "execute_result"
    }
   ],
   "source": [
    "%%sql\n",
    "CREATE TRIGGER prevent_max_registrations\n",
    "BEFORE INSERT ON EventRegistration\n",
    "FOR EACH ROW\n",
    "WHEN (\n",
    "    SELECT COUNT(*) FROM EventRegistration WHERE startTS = NEW.startTS AND room = NEW.room\n",
    ") >= (\n",
    "    SELECT maxRegistrations FROM Event WHERE startTS = NEW.startTS AND room = NEW.room\n",
    ")\n",
    "BEGIN\n",
    "    SELECT RAISE(ABORT, 'Event is at max capacity.');\n",
    "END;"
   ]
  },
  {
   "cell_type": "code",
   "execution_count": 23,
   "id": "68c724c1",
   "metadata": {},
   "outputs": [
    {
     "name": "stdout",
     "output_type": "stream",
     "text": [
      " * sqlite:///library.db\n",
      "Done.\n"
     ]
    },
    {
     "data": {
      "text/plain": [
       "[]"
      ]
     },
     "execution_count": 23,
     "metadata": {},
     "output_type": "execute_result"
    }
   ],
   "source": [
    "%%sql\n",
    "CREATE TRIGGER prevent_duplicate_event_registration\n",
    "BEFORE INSERT ON EventRegistration\n",
    "FOR EACH ROW\n",
    "WHEN (\n",
    "    SELECT COUNT(*) FROM EventRegistration\n",
    "    WHERE startTS = NEW.startTS AND room = NEW.room AND userID = NEW.userID\n",
    ") > 0\n",
    "BEGIN\n",
    "    SELECT RAISE(ABORT, 'The user has already registered for this event.');\n",
    "END;"
   ]
  },
  {
   "cell_type": "code",
   "execution_count": 24,
   "id": "293ca655",
   "metadata": {},
   "outputs": [
    {
     "name": "stdout",
     "output_type": "stream",
     "text": [
      " * sqlite:///library.db\n",
      "Done.\n"
     ]
    },
    {
     "data": {
      "text/plain": [
       "[]"
      ]
     },
     "execution_count": 24,
     "metadata": {},
     "output_type": "execute_result"
    }
   ],
   "source": [
    "%%sql\n",
    "CREATE TRIGGER prevent_past_event_registration\n",
    "BEFORE INSERT ON EventRegistration\n",
    "FOR EACH ROW\n",
    "WHEN (\n",
    "    SELECT datetime(startTS) FROM Event WHERE startTS = NEW.startTS AND room = NEW.room\n",
    ") < datetime('now')\n",
    "BEGIN\n",
    "    SELECT RAISE(ABORT, 'Cannot register for past events.');\n",
    "END;"
   ]
  },
  {
   "cell_type": "code",
   "execution_count": 25,
   "id": "c067f601",
   "metadata": {},
   "outputs": [
    {
     "name": "stdout",
     "output_type": "stream",
     "text": [
      " * sqlite:///library.db\n",
      "Done.\n"
     ]
    },
    {
     "data": {
      "text/plain": [
       "[]"
      ]
     },
     "execution_count": 25,
     "metadata": {},
     "output_type": "execute_result"
    }
   ],
   "source": [
    "%%sql\n",
    "CREATE TRIGGER prevent_borrow_unavailable_item\n",
    "BEFORE INSERT ON BorrowedItem\n",
    "FOR EACH ROW\n",
    "WHEN (\n",
    "    SELECT COUNT(*) FROM BorrowedItem \n",
    "    WHERE libraryItemID = NEW.libraryItemID \n",
    "    AND returnedDate IS NULL\n",
    ") > 0\n",
    "BEGIN\n",
    "    SELECT RAISE(ABORT, 'The item is not available for borrowing.');\n",
    "END;"
   ]
  },
  {
   "cell_type": "code",
   "execution_count": 26,
   "id": "b7cfbbf2",
   "metadata": {},
   "outputs": [
    {
     "name": "stdout",
     "output_type": "stream",
     "text": [
      " * sqlite:///library.db\n",
      "Done.\n"
     ]
    },
    {
     "data": {
      "text/plain": [
       "[]"
      ]
     },
     "execution_count": 26,
     "metadata": {},
     "output_type": "execute_result"
    }
   ],
   "source": [
    "%%sql\n",
    "CREATE TRIGGER prevent_borrow_unavailable_item_tba\n",
    "BEFORE INSERT ON BorrowedItem\n",
    "FOR EACH ROW\n",
    "WHEN (\n",
    "    SELECT toBeAdded FROM LibraryItem WHERE libraryItemID = NEW.libraryItemID\n",
    ") = 1\n",
    "BEGIN\n",
    "    SELECT RAISE(ABORT, 'The item is not available for borrowing.');\n",
    "END;"
   ]
  },
  {
   "cell_type": "code",
   "execution_count": 27,
   "id": "73cb1a42",
   "metadata": {},
   "outputs": [
    {
     "name": "stdout",
     "output_type": "stream",
     "text": [
      " * sqlite:///library.db\n",
      "Done.\n"
     ]
    },
    {
     "data": {
      "text/plain": [
       "[]"
      ]
     },
     "execution_count": 27,
     "metadata": {},
     "output_type": "execute_result"
    }
   ],
   "source": [
    "%%sql\n",
    "CREATE TRIGGER add_fine_past_due\n",
    "AFTER UPDATE ON BorrowedItem\n",
    "FOR EACH ROW\n",
    "WHEN (\n",
    "    datetime('now') > NEW.dueDate\n",
    "    AND NEW.returnedDate IS NULL\n",
    "    AND NEW.dueDate IS NOT NULL\n",
    ")\n",
    "BEGIN\n",
    "    UPDATE User\n",
    "    SET fines = fines + 3.00\n",
    "    WHERE userID = NEW.userID AND fines = 0.00;\n",
    "END;"
   ]
  },
  {
   "cell_type": "markdown",
   "id": "2876582e",
   "metadata": {},
   "source": [
    "#### ignore"
   ]
  },
  {
   "cell_type": "code",
   "execution_count": 29,
   "id": "fcdf895e",
   "metadata": {},
   "outputs": [
    {
     "name": "stdout",
     "output_type": "stream",
     "text": [
      " * sqlite:///library.db\n",
      "Done.\n"
     ]
    },
    {
     "data": {
      "text/plain": [
       "[]"
      ]
     },
     "execution_count": 29,
     "metadata": {},
     "output_type": "execute_result"
    }
   ],
   "source": [
    "%%sql\n",
    "CREATE TRIGGER prevent_excessive_borrowing\n",
    "BEFORE INSERT ON BorrowedItem\n",
    "FOR EACH ROW\n",
    "WHEN (\n",
    "    SELECT COUNT(*) FROM BorrowedItem WHERE userID = NEW.userID AND returnedDate IS NULL\n",
    ") >= 3\n",
    "BEGIN\n",
    "    SELECT RAISE(ABORT, 'Cannot borrow more than three items.');\n",
    "END;"
   ]
  },
  {
   "cell_type": "code",
   "execution_count": 29,
   "id": "5158ccb9",
   "metadata": {},
   "outputs": [
    {
     "name": "stdout",
     "output_type": "stream",
     "text": [
      " * sqlite:///library.db\n",
      "Done.\n"
     ]
    },
    {
     "data": {
      "text/html": [
       "<table>\n",
       "    <thead>\n",
       "        <tr>\n",
       "            <th>type</th>\n",
       "            <th>name</th>\n",
       "            <th>tbl_name</th>\n",
       "            <th>rootpage</th>\n",
       "            <th>sql</th>\n",
       "        </tr>\n",
       "    </thead>\n",
       "    <tbody>\n",
       "        <tr>\n",
       "            <td>trigger</td>\n",
       "            <td>prevent_multiple_returns</td>\n",
       "            <td>BorrowedItem</td>\n",
       "            <td>0</td>\n",
       "            <td>CREATE TRIGGER prevent_multiple_returns<br>BEFORE UPDATE OF returnedDate ON BorrowedItem<br>FOR EACH ROW<br>WHEN NEW.returnedDate IS NOT NULL AND OLD.returnedDate IS NOT NULL<br>BEGIN<br>    SELECT RAISE(ABORT, &#x27;The item has already been returned.&#x27;);<br>END</td>\n",
       "        </tr>\n",
       "        <tr>\n",
       "            <td>trigger</td>\n",
       "            <td>prevent_max_registrations</td>\n",
       "            <td>EventRegistration</td>\n",
       "            <td>0</td>\n",
       "            <td>CREATE TRIGGER prevent_max_registrations<br>BEFORE INSERT ON EventRegistration<br>FOR EACH ROW<br>WHEN (<br>    SELECT COUNT(*) FROM EventRegistration WHERE startTS = NEW.startTS AND room = NEW.room<br>) &gt;= (<br>    SELECT maxRegistrations FROM Event WHERE startTS = NEW.startTS AND room = NEW.room<br>)<br>BEGIN<br>    SELECT RAISE(ABORT, &#x27;Event is at max capacity.&#x27;);<br>END</td>\n",
       "        </tr>\n",
       "        <tr>\n",
       "            <td>trigger</td>\n",
       "            <td>prevent_duplicate_event_registration</td>\n",
       "            <td>EventRegistration</td>\n",
       "            <td>0</td>\n",
       "            <td>CREATE TRIGGER prevent_duplicate_event_registration<br>BEFORE INSERT ON EventRegistration<br>FOR EACH ROW<br>WHEN (<br>    SELECT COUNT(*) FROM EventRegistration<br>    WHERE startTS = NEW.startTS AND room = NEW.room AND userID = NEW.userID<br>) &gt; 0<br>BEGIN<br>    SELECT RAISE(ABORT, &#x27;The user has already registered for this event.&#x27;);<br>END</td>\n",
       "        </tr>\n",
       "        <tr>\n",
       "            <td>trigger</td>\n",
       "            <td>prevent_past_event_registration</td>\n",
       "            <td>EventRegistration</td>\n",
       "            <td>0</td>\n",
       "            <td>CREATE TRIGGER prevent_past_event_registration<br>BEFORE INSERT ON EventRegistration<br>FOR EACH ROW<br>WHEN (<br>    SELECT datetime(startTS) FROM Event WHERE startTS = NEW.startTS AND room = NEW.room<br>) &lt; datetime(&#x27;now&#x27;)<br>BEGIN<br>    SELECT RAISE(ABORT, &#x27;Cannot register for past events.&#x27;);<br>END</td>\n",
       "        </tr>\n",
       "        <tr>\n",
       "            <td>trigger</td>\n",
       "            <td>prevent_borrow_unavailable_item</td>\n",
       "            <td>BorrowedItem</td>\n",
       "            <td>0</td>\n",
       "            <td>CREATE TRIGGER prevent_borrow_unavailable_item<br>BEFORE INSERT ON BorrowedItem<br>FOR EACH ROW<br>WHEN (<br>    SELECT COUNT(*) FROM BorrowedItem <br>    WHERE libraryItemID = NEW.libraryItemID <br>    AND returnedDate IS NULL<br>) &gt; 0<br>BEGIN<br>    SELECT RAISE(ABORT, &#x27;The item is not available for borrowing.&#x27;);<br>END</td>\n",
       "        </tr>\n",
       "        <tr>\n",
       "            <td>trigger</td>\n",
       "            <td>prevent_borrow_unavailable_item_tba</td>\n",
       "            <td>BorrowedItem</td>\n",
       "            <td>0</td>\n",
       "            <td>CREATE TRIGGER prevent_borrow_unavailable_item_tba<br>BEFORE INSERT ON BorrowedItem<br>FOR EACH ROW<br>WHEN (<br>    SELECT toBeAdded FROM LibraryItem WHERE libraryItemID = NEW.libraryItemID<br>) = 1<br>BEGIN<br>    SELECT RAISE(ABORT, &#x27;The item is not available for borrowing.&#x27;);<br>END</td>\n",
       "        </tr>\n",
       "        <tr>\n",
       "            <td>trigger</td>\n",
       "            <td>add_fine_past_due</td>\n",
       "            <td>BorrowedItem</td>\n",
       "            <td>0</td>\n",
       "            <td>CREATE TRIGGER add_fine_past_due<br>AFTER UPDATE ON BorrowedItem<br>FOR EACH ROW<br>WHEN (<br>    datetime(&#x27;now&#x27;) &gt; NEW.dueDate<br>    AND NEW.returnedDate IS NULL<br>    AND NEW.dueDate IS NOT NULL<br>)<br>BEGIN<br>    UPDATE User<br>    SET fines = fines + 3.00<br>    WHERE userID = NEW.userID AND fines = 0.00;<br>END</td>\n",
       "        </tr>\n",
       "    </tbody>\n",
       "</table>"
      ],
      "text/plain": [
       "[('trigger', 'prevent_multiple_returns', 'BorrowedItem', 0, \"CREATE TRIGGER prevent_multiple_returns\\nBEFORE UPDATE OF returnedDate ON BorrowedItem\\nFOR EACH ROW\\nWHEN NEW.returnedDate IS NOT NULL AND OLD.returnedDate IS NOT NULL\\nBEGIN\\n    SELECT RAISE(ABORT, 'The item has already been returned.');\\nEND\"),\n",
       " ('trigger', 'prevent_max_registrations', 'EventRegistration', 0, \"CREATE TRIGGER prevent_max_registrations\\nBEFORE INSERT ON EventRegistration\\nFOR EACH ROW\\nWHEN (\\n    SELECT COUNT(*) FROM EventRegistration WHERE  ... (58 characters truncated) ... ECT maxRegistrations FROM Event WHERE startTS = NEW.startTS AND room = NEW.room\\n)\\nBEGIN\\n    SELECT RAISE(ABORT, 'Event is at max capacity.');\\nEND\"),\n",
       " ('trigger', 'prevent_duplicate_event_registration', 'EventRegistration', 0, \"CREATE TRIGGER prevent_duplicate_event_registration\\nBEFORE INSERT ON EventRegistration\\nFOR EACH ROW\\nWHEN (\\n    SELECT COUNT(*) FROM EventRegistra ... (28 characters truncated) ... W.startTS AND room = NEW.room AND userID = NEW.userID\\n) > 0\\nBEGIN\\n    SELECT RAISE(ABORT, 'The user has already registered for this event.');\\nEND\"),\n",
       " ('trigger', 'prevent_past_event_registration', 'EventRegistration', 0, \"CREATE TRIGGER prevent_past_event_registration\\nBEFORE INSERT ON EventRegistration\\nFOR EACH ROW\\nWHEN (\\n    SELECT datetime(startTS) FROM Event WHERE startTS = NEW.startTS AND room = NEW.room\\n) < datetime('now')\\nBEGIN\\n    SELECT RAISE(ABORT, 'Cannot register for past events.');\\nEND\"),\n",
       " ('trigger', 'prevent_borrow_unavailable_item', 'BorrowedItem', 0, \"CREATE TRIGGER prevent_borrow_unavailable_item\\nBEFORE INSERT ON BorrowedItem\\nFOR EACH ROW\\nWHEN (\\n    SELECT COUNT(*) FROM BorrowedItem \\n    WHER ... (6 characters truncated) ... aryItemID = NEW.libraryItemID \\n    AND returnedDate IS NULL\\n) > 0\\nBEGIN\\n    SELECT RAISE(ABORT, 'The item is not available for borrowing.');\\nEND\"),\n",
       " ('trigger', 'prevent_borrow_unavailable_item_tba', 'BorrowedItem', 0, \"CREATE TRIGGER prevent_borrow_unavailable_item_tba\\nBEFORE INSERT ON BorrowedItem\\nFOR EACH ROW\\nWHEN (\\n    SELECT toBeAdded FROM LibraryItem WHERE libraryItemID = NEW.libraryItemID\\n) = 1\\nBEGIN\\n    SELECT RAISE(ABORT, 'The item is not available for borrowing.');\\nEND\"),\n",
       " ('trigger', 'add_fine_past_due', 'BorrowedItem', 0, \"CREATE TRIGGER add_fine_past_due\\nAFTER UPDATE ON BorrowedItem\\nFOR EACH ROW\\nWHEN (\\n    datetime('now') > NEW.dueDate\\n    AND NEW.returnedDate IS NULL\\n    AND NEW.dueDate IS NOT NULL\\n)\\nBEGIN\\n    UPDATE User\\n    SET fines = fines + 3.00\\n    WHERE userID = NEW.userID AND fines = 0.00;\\nEND\")]"
      ]
     },
     "execution_count": 29,
     "metadata": {},
     "output_type": "execute_result"
    }
   ],
   "source": [
    "%%sql\n",
    "SELECT * FROM sqlite_master WHERE type = 'trigger'; "
   ]
  },
  {
   "cell_type": "markdown",
   "id": "859f9dc8",
   "metadata": {},
   "source": [
    "# INDEXING"
   ]
  },
  {
   "cell_type": "code",
   "execution_count": 13,
   "id": "2a45e8c5",
   "metadata": {},
   "outputs": [
    {
     "name": "stdout",
     "output_type": "stream",
     "text": [
      " * sqlite:///library.db\n",
      "Done.\n"
     ]
    },
    {
     "data": {
      "text/html": [
       "<table>\n",
       "    <thead>\n",
       "        <tr>\n",
       "            <th>type</th>\n",
       "            <th>name</th>\n",
       "            <th>tbl_name</th>\n",
       "            <th>rootpage</th>\n",
       "            <th>sql</th>\n",
       "        </tr>\n",
       "    </thead>\n",
       "    <tbody>\n",
       "        <tr>\n",
       "            <td>index</td>\n",
       "            <td>sqlite_autoindex_BorrowedItem_1</td>\n",
       "            <td>BorrowedItem</td>\n",
       "            <td>5</td>\n",
       "            <td>None</td>\n",
       "        </tr>\n",
       "        <tr>\n",
       "            <td>index</td>\n",
       "            <td>sqlite_autoindex_Event_1</td>\n",
       "            <td>Event</td>\n",
       "            <td>9</td>\n",
       "            <td>None</td>\n",
       "        </tr>\n",
       "        <tr>\n",
       "            <td>index</td>\n",
       "            <td>sqlite_autoindex_EventRegistration_1</td>\n",
       "            <td>EventRegistration</td>\n",
       "            <td>11</td>\n",
       "            <td>None</td>\n",
       "        </tr>\n",
       "    </tbody>\n",
       "</table>"
      ],
      "text/plain": [
       "[('index', 'sqlite_autoindex_BorrowedItem_1', 'BorrowedItem', 5, None),\n",
       " ('index', 'sqlite_autoindex_Event_1', 'Event', 9, None),\n",
       " ('index', 'sqlite_autoindex_EventRegistration_1', 'EventRegistration', 11, None)]"
      ]
     },
     "execution_count": 13,
     "metadata": {},
     "output_type": "execute_result"
    }
   ],
   "source": [
    "%%sql\n",
    "SELECT * FROM sqlite_master WHERE type = 'index'; "
   ]
  },
  {
   "cell_type": "code",
   "execution_count": 20,
   "id": "19f402b6",
   "metadata": {},
   "outputs": [
    {
     "name": "stdout",
     "output_type": "stream",
     "text": [
      " * sqlite:///library.db\n",
      "Done.\n",
      "Done.\n",
      "Done.\n"
     ]
    },
    {
     "data": {
      "text/plain": [
       "[]"
      ]
     },
     "execution_count": 20,
     "metadata": {},
     "output_type": "execute_result"
    }
   ],
   "source": [
    "%%sql\n",
    "--CREATE INDEX pk_user_id ON User(userID);\n",
    "--CREATE INDEX pk_librarian_id ON Librarian(librarianID);\n",
    "--CREATE INDEX pk_libraryitem_id ON LibraryItem(libraryItemID);\n",
    "--CREATE INDEX pk_item_id ON Item(itemID);\n",
    "CREATE INDEX ck_libraryitem_id ON LibraryItem(itemID);\n",
    "CREATE INDEX ck_event_room ON Event(room);\n",
    "CREATE INDEX ck_eventregistration_userid ON EventRegistration(userID);\n"
   ]
  },
  {
   "cell_type": "markdown",
   "id": "dc13d22a",
   "metadata": {},
   "source": [
    "# Populating tables"
   ]
  },
  {
   "cell_type": "markdown",
   "id": "7f0bd186",
   "metadata": {},
   "source": [
    "## Table: Item"
   ]
  },
  {
   "cell_type": "markdown",
   "id": "919f0723",
   "metadata": {},
   "source": [
    "### Books"
   ]
  },
  {
   "cell_type": "code",
   "execution_count": 22,
   "id": "a820d735",
   "metadata": {},
   "outputs": [
    {
     "data": {
      "text/html": [
       "<div>\n",
       "<style scoped>\n",
       "    .dataframe tbody tr th:only-of-type {\n",
       "        vertical-align: middle;\n",
       "    }\n",
       "\n",
       "    .dataframe tbody tr th {\n",
       "        vertical-align: top;\n",
       "    }\n",
       "\n",
       "    .dataframe thead th {\n",
       "        text-align: right;\n",
       "    }\n",
       "</style>\n",
       "<table border=\"1\" class=\"dataframe\">\n",
       "  <thead>\n",
       "    <tr style=\"text-align: right;\">\n",
       "      <th></th>\n",
       "      <th>author</th>\n",
       "      <th>itemName</th>\n",
       "      <th>type</th>\n",
       "    </tr>\n",
       "  </thead>\n",
       "  <tbody>\n",
       "    <tr>\n",
       "      <th>0</th>\n",
       "      <td>Suzanne Collins</td>\n",
       "      <td>The Hunger Games</td>\n",
       "      <td>book</td>\n",
       "    </tr>\n",
       "    <tr>\n",
       "      <th>1</th>\n",
       "      <td>J.K. Rowling, Mary GrandPré (Illustrator)</td>\n",
       "      <td>Harry Potter and the Order of the Phoenix</td>\n",
       "      <td>book</td>\n",
       "    </tr>\n",
       "    <tr>\n",
       "      <th>2</th>\n",
       "      <td>Harper Lee</td>\n",
       "      <td>To Kill a Mockingbird</td>\n",
       "      <td>book</td>\n",
       "    </tr>\n",
       "    <tr>\n",
       "      <th>3</th>\n",
       "      <td>Jane Austen, Anna Quindlen (Introduction)</td>\n",
       "      <td>Pride and Prejudice</td>\n",
       "      <td>book</td>\n",
       "    </tr>\n",
       "    <tr>\n",
       "      <th>4</th>\n",
       "      <td>Stephenie Meyer</td>\n",
       "      <td>Twilight</td>\n",
       "      <td>book</td>\n",
       "    </tr>\n",
       "  </tbody>\n",
       "</table>\n",
       "</div>"
      ],
      "text/plain": [
       "                                      author  \\\n",
       "0                            Suzanne Collins   \n",
       "1  J.K. Rowling, Mary GrandPré (Illustrator)   \n",
       "2                                 Harper Lee   \n",
       "3  Jane Austen, Anna Quindlen (Introduction)   \n",
       "4                            Stephenie Meyer   \n",
       "\n",
       "                                    itemName  type  \n",
       "0                           The Hunger Games  book  \n",
       "1  Harry Potter and the Order of the Phoenix  book  \n",
       "2                      To Kill a Mockingbird  book  \n",
       "3                        Pride and Prejudice  book  \n",
       "4                                   Twilight  book  "
      ]
     },
     "execution_count": 22,
     "metadata": {},
     "output_type": "execute_result"
    }
   ],
   "source": [
    "books = pd.read_csv('..//data//books2.csv').iloc[:10]\n",
    "books = books[['author', 'title']]\n",
    "books.rename(columns={'title':'itemName'}, inplace=True)\n",
    "books.loc[:,'type'] = 'book'\n",
    "books.drop_duplicates(subset=['itemName'], inplace=True)\n",
    "books.head(5)"
   ]
  },
  {
   "cell_type": "markdown",
   "id": "16e9a5a4",
   "metadata": {},
   "source": [
    "### Movies"
   ]
  },
  {
   "cell_type": "code",
   "execution_count": 23,
   "id": "b61a529e",
   "metadata": {},
   "outputs": [
    {
     "data": {
      "text/html": [
       "<div>\n",
       "<style scoped>\n",
       "    .dataframe tbody tr th:only-of-type {\n",
       "        vertical-align: middle;\n",
       "    }\n",
       "\n",
       "    .dataframe tbody tr th {\n",
       "        vertical-align: top;\n",
       "    }\n",
       "\n",
       "    .dataframe thead th {\n",
       "        text-align: right;\n",
       "    }\n",
       "</style>\n",
       "<table border=\"1\" class=\"dataframe\">\n",
       "  <thead>\n",
       "    <tr style=\"text-align: right;\">\n",
       "      <th></th>\n",
       "      <th>itemName</th>\n",
       "      <th>type</th>\n",
       "      <th>author</th>\n",
       "    </tr>\n",
       "  </thead>\n",
       "  <tbody>\n",
       "    <tr>\n",
       "      <th>0</th>\n",
       "      <td>Toy Story</td>\n",
       "      <td>movie</td>\n",
       "      <td>nan</td>\n",
       "    </tr>\n",
       "    <tr>\n",
       "      <th>1</th>\n",
       "      <td>Jumanji</td>\n",
       "      <td>movie</td>\n",
       "      <td>nan</td>\n",
       "    </tr>\n",
       "    <tr>\n",
       "      <th>2</th>\n",
       "      <td>Grumpier Old Men</td>\n",
       "      <td>movie</td>\n",
       "      <td>nan</td>\n",
       "    </tr>\n",
       "    <tr>\n",
       "      <th>3</th>\n",
       "      <td>Waiting to Exhale</td>\n",
       "      <td>movie</td>\n",
       "      <td>nan</td>\n",
       "    </tr>\n",
       "    <tr>\n",
       "      <th>4</th>\n",
       "      <td>Father of the Bride Part II</td>\n",
       "      <td>movie</td>\n",
       "      <td>nan</td>\n",
       "    </tr>\n",
       "  </tbody>\n",
       "</table>\n",
       "</div>"
      ],
      "text/plain": [
       "                      itemName   type author\n",
       "0                    Toy Story  movie    nan\n",
       "1                      Jumanji  movie    nan\n",
       "2             Grumpier Old Men  movie    nan\n",
       "3            Waiting to Exhale  movie    nan\n",
       "4  Father of the Bride Part II  movie    nan"
      ]
     },
     "execution_count": 23,
     "metadata": {},
     "output_type": "execute_result"
    }
   ],
   "source": [
    "movies = pd.read_csv('..//data/movies.csv')[:5]\n",
    "movies.rename(columns={'title':'itemName'}, inplace=True)\n",
    "for row in range(0,len(movies)):\n",
    "    movies.loc[row,'itemName'] = movies.iloc[row]['itemName'][:-7]\n",
    "movies.loc[:, 'type'] = 'movie'\n",
    "movies.loc[:, 'author'] = 'nan'\n",
    "movies.drop(columns=['movieId', 'genres'], inplace=True)\n",
    "movies.head(5)"
   ]
  },
  {
   "cell_type": "markdown",
   "id": "fdaf5df9",
   "metadata": {},
   "source": [
    "### Songs"
   ]
  },
  {
   "cell_type": "code",
   "execution_count": 24,
   "id": "c188c528",
   "metadata": {},
   "outputs": [
    {
     "data": {
      "text/html": [
       "<div>\n",
       "<style scoped>\n",
       "    .dataframe tbody tr th:only-of-type {\n",
       "        vertical-align: middle;\n",
       "    }\n",
       "\n",
       "    .dataframe tbody tr th {\n",
       "        vertical-align: top;\n",
       "    }\n",
       "\n",
       "    .dataframe thead th {\n",
       "        text-align: right;\n",
       "    }\n",
       "</style>\n",
       "<table border=\"1\" class=\"dataframe\">\n",
       "  <thead>\n",
       "    <tr style=\"text-align: right;\">\n",
       "      <th></th>\n",
       "      <th>author</th>\n",
       "      <th>itemName</th>\n",
       "      <th>type</th>\n",
       "    </tr>\n",
       "  </thead>\n",
       "  <tbody>\n",
       "    <tr>\n",
       "      <th>56959</th>\n",
       "      <td>XTC</td>\n",
       "      <td>Funk Pop A Roll</td>\n",
       "      <td>song</td>\n",
       "    </tr>\n",
       "    <tr>\n",
       "      <th>30238</th>\n",
       "      <td>Doobie Brothers</td>\n",
       "      <td>Daughters Of The Sea</td>\n",
       "      <td>song</td>\n",
       "    </tr>\n",
       "    <tr>\n",
       "      <th>37033</th>\n",
       "      <td>INXS</td>\n",
       "      <td>Black And White</td>\n",
       "      <td>song</td>\n",
       "    </tr>\n",
       "    <tr>\n",
       "      <th>10586</th>\n",
       "      <td>King Crimson</td>\n",
       "      <td>Exiles</td>\n",
       "      <td>song</td>\n",
       "    </tr>\n",
       "    <tr>\n",
       "      <th>56802</th>\n",
       "      <td>Wyclef Jean</td>\n",
       "      <td>Low Income</td>\n",
       "      <td>song</td>\n",
       "    </tr>\n",
       "  </tbody>\n",
       "</table>\n",
       "</div>"
      ],
      "text/plain": [
       "                author              itemName  type\n",
       "56959              XTC       Funk Pop A Roll  song\n",
       "30238  Doobie Brothers  Daughters Of The Sea  song\n",
       "37033             INXS       Black And White  song\n",
       "10586     King Crimson                Exiles  song\n",
       "56802      Wyclef Jean            Low Income  song"
      ]
     },
     "execution_count": 24,
     "metadata": {},
     "output_type": "execute_result"
    }
   ],
   "source": [
    "songs_full = pd.read_csv('..//data/songs.csv')\n",
    "songs_full.rename(columns={'song':'itemName','artist':'author'}, inplace=True)\n",
    "songs = pd.DataFrame()\n",
    "for row in range(0,5):\n",
    "    random_song = songs_full.sample()\n",
    "    songs = pd.concat([songs,random_song])\n",
    "songs.loc[:,'type'] = 'song'\n",
    "songs.drop(columns=['link', 'text'], inplace=True)\n",
    "songs.head(5)"
   ]
  },
  {
   "cell_type": "markdown",
   "id": "256feba4",
   "metadata": {},
   "source": [
    "### Papers"
   ]
  },
  {
   "cell_type": "code",
   "execution_count": 25,
   "id": "40b783ed",
   "metadata": {},
   "outputs": [
    {
     "data": {
      "text/html": [
       "<div>\n",
       "<style scoped>\n",
       "    .dataframe tbody tr th:only-of-type {\n",
       "        vertical-align: middle;\n",
       "    }\n",
       "\n",
       "    .dataframe tbody tr th {\n",
       "        vertical-align: top;\n",
       "    }\n",
       "\n",
       "    .dataframe thead th {\n",
       "        text-align: right;\n",
       "    }\n",
       "</style>\n",
       "<table border=\"1\" class=\"dataframe\">\n",
       "  <thead>\n",
       "    <tr style=\"text-align: right;\">\n",
       "      <th></th>\n",
       "      <th>author</th>\n",
       "      <th>itemName</th>\n",
       "      <th>type</th>\n",
       "    </tr>\n",
       "  </thead>\n",
       "  <tbody>\n",
       "    <tr>\n",
       "      <th>0</th>\n",
       "      <td>Abigail See</td>\n",
       "      <td>A Discourse-Aware Attention Model for Abstract...</td>\n",
       "      <td>paper</td>\n",
       "    </tr>\n",
       "    <tr>\n",
       "      <th>0</th>\n",
       "      <td>Martin Ester</td>\n",
       "      <td>A Density-Based Algorithm for Discovering Clus...</td>\n",
       "      <td>paper</td>\n",
       "    </tr>\n",
       "  </tbody>\n",
       "</table>\n",
       "</div>"
      ],
      "text/plain": [
       "         author                                           itemName   type\n",
       "0   Abigail See  A Discourse-Aware Attention Model for Abstract...  paper\n",
       "0  Martin Ester  A Density-Based Algorithm for Discovering Clus...  paper"
      ]
     },
     "execution_count": 25,
     "metadata": {},
     "output_type": "execute_result"
    }
   ],
   "source": [
    "paper1 = pd.DataFrame(pd.Series({'author':'Abigail See', 'itemName':'A Discourse-Aware Attention Model for Abstractive Summarization of Long Documents', 'type':'paper'})).transpose()\n",
    "paper2 = pd.DataFrame(pd.Series({'author':'Martin Ester', 'itemName':'A Density-Based Algorithm for Discovering Clusters in Large Spatial Databases with Noise ', 'type':'paper'})).transpose()\n",
    "papers = pd.concat([paper1, paper2])\n",
    "papers"
   ]
  },
  {
   "cell_type": "code",
   "execution_count": 26,
   "id": "fd8b5aeb",
   "metadata": {},
   "outputs": [],
   "source": [
    "Item = pd.concat([books, movies, songs, papers])\n",
    "Item.reset_index(drop=True, inplace=True)\n",
    "Item.index.names = ['itemID']"
   ]
  },
  {
   "cell_type": "code",
   "execution_count": 27,
   "id": "6ba874ef",
   "metadata": {},
   "outputs": [],
   "source": [
    "for row in range(0,len(Item)):\n",
    "    itemName = Item.iloc[row]['author']\n",
    "    comma_index = itemName.find(',')\n",
    "    if (comma_index>1):\n",
    "        author_solo = itemName[0:comma_index]\n",
    "        Item.loc[row,'author'] = author_solo\n"
   ]
  },
  {
   "cell_type": "code",
   "execution_count": 28,
   "id": "d62f3e83",
   "metadata": {},
   "outputs": [
    {
     "data": {
      "text/html": [
       "<div>\n",
       "<style scoped>\n",
       "    .dataframe tbody tr th:only-of-type {\n",
       "        vertical-align: middle;\n",
       "    }\n",
       "\n",
       "    .dataframe tbody tr th {\n",
       "        vertical-align: top;\n",
       "    }\n",
       "\n",
       "    .dataframe thead th {\n",
       "        text-align: right;\n",
       "    }\n",
       "</style>\n",
       "<table border=\"1\" class=\"dataframe\">\n",
       "  <thead>\n",
       "    <tr style=\"text-align: right;\">\n",
       "      <th></th>\n",
       "      <th>author</th>\n",
       "      <th>itemName</th>\n",
       "      <th>type</th>\n",
       "    </tr>\n",
       "    <tr>\n",
       "      <th>itemID</th>\n",
       "      <th></th>\n",
       "      <th></th>\n",
       "      <th></th>\n",
       "    </tr>\n",
       "  </thead>\n",
       "  <tbody>\n",
       "    <tr>\n",
       "      <th>0</th>\n",
       "      <td>Suzanne Collins</td>\n",
       "      <td>The Hunger Games</td>\n",
       "      <td>book</td>\n",
       "    </tr>\n",
       "    <tr>\n",
       "      <th>1</th>\n",
       "      <td>J.K. Rowling</td>\n",
       "      <td>Harry Potter and the Order of the Phoenix</td>\n",
       "      <td>book</td>\n",
       "    </tr>\n",
       "    <tr>\n",
       "      <th>2</th>\n",
       "      <td>Harper Lee</td>\n",
       "      <td>To Kill a Mockingbird</td>\n",
       "      <td>book</td>\n",
       "    </tr>\n",
       "    <tr>\n",
       "      <th>3</th>\n",
       "      <td>Jane Austen</td>\n",
       "      <td>Pride and Prejudice</td>\n",
       "      <td>book</td>\n",
       "    </tr>\n",
       "    <tr>\n",
       "      <th>4</th>\n",
       "      <td>Stephenie Meyer</td>\n",
       "      <td>Twilight</td>\n",
       "      <td>book</td>\n",
       "    </tr>\n",
       "    <tr>\n",
       "      <th>5</th>\n",
       "      <td>Markus Zusak (Goodreads Author)</td>\n",
       "      <td>The Book Thief</td>\n",
       "      <td>book</td>\n",
       "    </tr>\n",
       "    <tr>\n",
       "      <th>6</th>\n",
       "      <td>George Orwell</td>\n",
       "      <td>Animal Farm</td>\n",
       "      <td>book</td>\n",
       "    </tr>\n",
       "    <tr>\n",
       "      <th>7</th>\n",
       "      <td>C.S. Lewis</td>\n",
       "      <td>The Chronicles of Narnia</td>\n",
       "      <td>book</td>\n",
       "    </tr>\n",
       "    <tr>\n",
       "      <th>8</th>\n",
       "      <td>J.R.R. Tolkien</td>\n",
       "      <td>J.R.R. Tolkien 4-Book Boxed Set: The Hobbit an...</td>\n",
       "      <td>book</td>\n",
       "    </tr>\n",
       "    <tr>\n",
       "      <th>9</th>\n",
       "      <td>Margaret Mitchell</td>\n",
       "      <td>Gone with the Wind</td>\n",
       "      <td>book</td>\n",
       "    </tr>\n",
       "    <tr>\n",
       "      <th>10</th>\n",
       "      <td>nan</td>\n",
       "      <td>Toy Story</td>\n",
       "      <td>movie</td>\n",
       "    </tr>\n",
       "    <tr>\n",
       "      <th>11</th>\n",
       "      <td>nan</td>\n",
       "      <td>Jumanji</td>\n",
       "      <td>movie</td>\n",
       "    </tr>\n",
       "    <tr>\n",
       "      <th>12</th>\n",
       "      <td>nan</td>\n",
       "      <td>Grumpier Old Men</td>\n",
       "      <td>movie</td>\n",
       "    </tr>\n",
       "    <tr>\n",
       "      <th>13</th>\n",
       "      <td>nan</td>\n",
       "      <td>Waiting to Exhale</td>\n",
       "      <td>movie</td>\n",
       "    </tr>\n",
       "    <tr>\n",
       "      <th>14</th>\n",
       "      <td>nan</td>\n",
       "      <td>Father of the Bride Part II</td>\n",
       "      <td>movie</td>\n",
       "    </tr>\n",
       "    <tr>\n",
       "      <th>15</th>\n",
       "      <td>XTC</td>\n",
       "      <td>Funk Pop A Roll</td>\n",
       "      <td>song</td>\n",
       "    </tr>\n",
       "    <tr>\n",
       "      <th>16</th>\n",
       "      <td>Doobie Brothers</td>\n",
       "      <td>Daughters Of The Sea</td>\n",
       "      <td>song</td>\n",
       "    </tr>\n",
       "    <tr>\n",
       "      <th>17</th>\n",
       "      <td>INXS</td>\n",
       "      <td>Black And White</td>\n",
       "      <td>song</td>\n",
       "    </tr>\n",
       "    <tr>\n",
       "      <th>18</th>\n",
       "      <td>King Crimson</td>\n",
       "      <td>Exiles</td>\n",
       "      <td>song</td>\n",
       "    </tr>\n",
       "    <tr>\n",
       "      <th>19</th>\n",
       "      <td>Wyclef Jean</td>\n",
       "      <td>Low Income</td>\n",
       "      <td>song</td>\n",
       "    </tr>\n",
       "    <tr>\n",
       "      <th>20</th>\n",
       "      <td>Abigail See</td>\n",
       "      <td>A Discourse-Aware Attention Model for Abstract...</td>\n",
       "      <td>paper</td>\n",
       "    </tr>\n",
       "    <tr>\n",
       "      <th>21</th>\n",
       "      <td>Martin Ester</td>\n",
       "      <td>A Density-Based Algorithm for Discovering Clus...</td>\n",
       "      <td>paper</td>\n",
       "    </tr>\n",
       "  </tbody>\n",
       "</table>\n",
       "</div>"
      ],
      "text/plain": [
       "                                 author  \\\n",
       "itemID                                    \n",
       "0                       Suzanne Collins   \n",
       "1                          J.K. Rowling   \n",
       "2                            Harper Lee   \n",
       "3                           Jane Austen   \n",
       "4                       Stephenie Meyer   \n",
       "5       Markus Zusak (Goodreads Author)   \n",
       "6                         George Orwell   \n",
       "7                            C.S. Lewis   \n",
       "8                        J.R.R. Tolkien   \n",
       "9                     Margaret Mitchell   \n",
       "10                                  nan   \n",
       "11                                  nan   \n",
       "12                                  nan   \n",
       "13                                  nan   \n",
       "14                                  nan   \n",
       "15                                  XTC   \n",
       "16                      Doobie Brothers   \n",
       "17                                 INXS   \n",
       "18                         King Crimson   \n",
       "19                          Wyclef Jean   \n",
       "20                          Abigail See   \n",
       "21                         Martin Ester   \n",
       "\n",
       "                                                 itemName   type  \n",
       "itemID                                                            \n",
       "0                                        The Hunger Games   book  \n",
       "1               Harry Potter and the Order of the Phoenix   book  \n",
       "2                                   To Kill a Mockingbird   book  \n",
       "3                                     Pride and Prejudice   book  \n",
       "4                                                Twilight   book  \n",
       "5                                          The Book Thief   book  \n",
       "6                                             Animal Farm   book  \n",
       "7                                The Chronicles of Narnia   book  \n",
       "8       J.R.R. Tolkien 4-Book Boxed Set: The Hobbit an...   book  \n",
       "9                                      Gone with the Wind   book  \n",
       "10                                              Toy Story  movie  \n",
       "11                                                Jumanji  movie  \n",
       "12                                       Grumpier Old Men  movie  \n",
       "13                                      Waiting to Exhale  movie  \n",
       "14                            Father of the Bride Part II  movie  \n",
       "15                                        Funk Pop A Roll   song  \n",
       "16                                   Daughters Of The Sea   song  \n",
       "17                                        Black And White   song  \n",
       "18                                                 Exiles   song  \n",
       "19                                             Low Income   song  \n",
       "20      A Discourse-Aware Attention Model for Abstract...  paper  \n",
       "21      A Density-Based Algorithm for Discovering Clus...  paper  "
      ]
     },
     "execution_count": 28,
     "metadata": {},
     "output_type": "execute_result"
    }
   ],
   "source": [
    "Item"
   ]
  },
  {
   "cell_type": "code",
   "execution_count": 29,
   "id": "d3dc528c",
   "metadata": {},
   "outputs": [],
   "source": [
    "Item.to_csv('..//data//Item.csv')"
   ]
  },
  {
   "cell_type": "markdown",
   "id": "ebee178f",
   "metadata": {},
   "source": [
    "## LibraryItem"
   ]
  },
  {
   "cell_type": "code",
   "execution_count": 30,
   "id": "46e3a1a2",
   "metadata": {},
   "outputs": [],
   "source": [
    "num_copy = 8\n",
    "LibraryItem = Item.copy()\n",
    "for i in range(num_copy):\n",
    "    item_copy = Item.sample()\n",
    "    LibraryItem = pd.concat([LibraryItem, item_copy])\n"
   ]
  },
  {
   "cell_type": "code",
   "execution_count": 31,
   "id": "fd432150",
   "metadata": {},
   "outputs": [],
   "source": [
    "LibraryItem.reset_index(inplace=True)\n",
    "LibraryItem.index.names = ['libraryItemID']\n",
    "LibraryItem.drop(columns=['author','itemName','type'], inplace=True)\n",
    "LibraryItem['toBeAdded'] = None"
   ]
  },
  {
   "cell_type": "code",
   "execution_count": 32,
   "id": "2212c8c6",
   "metadata": {},
   "outputs": [],
   "source": [
    "LibraryItem.loc[12,'toBeAdded'] = True"
   ]
  },
  {
   "cell_type": "code",
   "execution_count": 33,
   "id": "5ba350c3",
   "metadata": {},
   "outputs": [],
   "source": [
    "LibraryItem.to_csv('..//data//LibraryItem.csv')"
   ]
  },
  {
   "cell_type": "markdown",
   "id": "48336ce1",
   "metadata": {},
   "source": [
    "## Librarian"
   ]
  },
  {
   "cell_type": "code",
   "execution_count": 35,
   "id": "af5cc928",
   "metadata": {},
   "outputs": [],
   "source": [
    "numLibrarians = 10\n",
    "departments = ['admin', 'catalog', 'circulation', 'infotech']\n",
    "Librarian = pd.DataFrame()\n",
    "for librarianID in range(1,numLibrarians+1):\n",
    "    firstName = names.get_first_name()\n",
    "    lastName = names.get_last_name()\n",
    "    department = np.random.choice(departments)\n",
    "\n",
    "    salary = np.random.randint(40000,90000)\n",
    "    salary = round(salary, -3)\n",
    "        \n",
    "    librarian = pd.DataFrame(pd.Series({'firstName':firstName, 'lastName':lastName, 'department':department, 'salary':salary})).transpose()\n",
    "    Librarian = pd.concat([Librarian, librarian])\n",
    "    \n",
    "\n",
    "librarian = pd.DataFrame(pd.Series({'firstName':'Joe', 'lastName':'Black', 'department':'volunteer', 'salary':0})).transpose()\n",
    "Librarian = pd.concat([Librarian, librarian])\n",
    "    \n",
    "Librarian.dropna(inplace=True)\n"
   ]
  },
  {
   "cell_type": "code",
   "execution_count": 36,
   "id": "8746a943",
   "metadata": {},
   "outputs": [
    {
     "data": {
      "text/html": [
       "<div>\n",
       "<style scoped>\n",
       "    .dataframe tbody tr th:only-of-type {\n",
       "        vertical-align: middle;\n",
       "    }\n",
       "\n",
       "    .dataframe tbody tr th {\n",
       "        vertical-align: top;\n",
       "    }\n",
       "\n",
       "    .dataframe thead th {\n",
       "        text-align: right;\n",
       "    }\n",
       "</style>\n",
       "<table border=\"1\" class=\"dataframe\">\n",
       "  <thead>\n",
       "    <tr style=\"text-align: right;\">\n",
       "      <th></th>\n",
       "      <th>firstName</th>\n",
       "      <th>lastName</th>\n",
       "      <th>department</th>\n",
       "      <th>salary</th>\n",
       "    </tr>\n",
       "    <tr>\n",
       "      <th>librarianID</th>\n",
       "      <th></th>\n",
       "      <th></th>\n",
       "      <th></th>\n",
       "      <th></th>\n",
       "    </tr>\n",
       "  </thead>\n",
       "  <tbody>\n",
       "    <tr>\n",
       "      <th>0</th>\n",
       "      <td>Barbara</td>\n",
       "      <td>Fortner</td>\n",
       "      <td>infotech</td>\n",
       "      <td>46000</td>\n",
       "    </tr>\n",
       "    <tr>\n",
       "      <th>1</th>\n",
       "      <td>Eugenia</td>\n",
       "      <td>King</td>\n",
       "      <td>admin</td>\n",
       "      <td>61000</td>\n",
       "    </tr>\n",
       "    <tr>\n",
       "      <th>2</th>\n",
       "      <td>Joseph</td>\n",
       "      <td>Taylor</td>\n",
       "      <td>circulation</td>\n",
       "      <td>52000</td>\n",
       "    </tr>\n",
       "    <tr>\n",
       "      <th>3</th>\n",
       "      <td>Robert</td>\n",
       "      <td>Grays</td>\n",
       "      <td>admin</td>\n",
       "      <td>48000</td>\n",
       "    </tr>\n",
       "    <tr>\n",
       "      <th>4</th>\n",
       "      <td>Lucy</td>\n",
       "      <td>Johnson</td>\n",
       "      <td>catalog</td>\n",
       "      <td>71000</td>\n",
       "    </tr>\n",
       "    <tr>\n",
       "      <th>5</th>\n",
       "      <td>Amy</td>\n",
       "      <td>Espada</td>\n",
       "      <td>catalog</td>\n",
       "      <td>52000</td>\n",
       "    </tr>\n",
       "    <tr>\n",
       "      <th>6</th>\n",
       "      <td>Joseph</td>\n",
       "      <td>Barrier</td>\n",
       "      <td>admin</td>\n",
       "      <td>90000</td>\n",
       "    </tr>\n",
       "    <tr>\n",
       "      <th>7</th>\n",
       "      <td>Linda</td>\n",
       "      <td>Lamb</td>\n",
       "      <td>admin</td>\n",
       "      <td>74000</td>\n",
       "    </tr>\n",
       "    <tr>\n",
       "      <th>8</th>\n",
       "      <td>Luella</td>\n",
       "      <td>Holiday</td>\n",
       "      <td>admin</td>\n",
       "      <td>76000</td>\n",
       "    </tr>\n",
       "    <tr>\n",
       "      <th>9</th>\n",
       "      <td>Todd</td>\n",
       "      <td>Norris</td>\n",
       "      <td>circulation</td>\n",
       "      <td>55000</td>\n",
       "    </tr>\n",
       "    <tr>\n",
       "      <th>10</th>\n",
       "      <td>Joe</td>\n",
       "      <td>Black</td>\n",
       "      <td>volunteer</td>\n",
       "      <td>0</td>\n",
       "    </tr>\n",
       "  </tbody>\n",
       "</table>\n",
       "</div>"
      ],
      "text/plain": [
       "            firstName lastName   department salary\n",
       "librarianID                                       \n",
       "0             Barbara  Fortner     infotech  46000\n",
       "1             Eugenia     King        admin  61000\n",
       "2              Joseph   Taylor  circulation  52000\n",
       "3              Robert    Grays        admin  48000\n",
       "4                Lucy  Johnson      catalog  71000\n",
       "5                 Amy   Espada      catalog  52000\n",
       "6              Joseph  Barrier        admin  90000\n",
       "7               Linda     Lamb        admin  74000\n",
       "8              Luella  Holiday        admin  76000\n",
       "9                Todd   Norris  circulation  55000\n",
       "10                Joe    Black    volunteer      0"
      ]
     },
     "execution_count": 36,
     "metadata": {},
     "output_type": "execute_result"
    }
   ],
   "source": [
    "Librarian.reset_index(drop=True, inplace=True)\n",
    "Librarian.index.names = ['librarianID']\n",
    "Librarian"
   ]
  },
  {
   "cell_type": "code",
   "execution_count": 37,
   "id": "cd2a5a91",
   "metadata": {},
   "outputs": [],
   "source": [
    "Librarian.to_csv('..//data//Librarian.csv')"
   ]
  },
  {
   "cell_type": "markdown",
   "id": "d7a52947",
   "metadata": {},
   "source": [
    "## User"
   ]
  },
  {
   "cell_type": "code",
   "execution_count": 38,
   "id": "020fe29b",
   "metadata": {},
   "outputs": [],
   "source": [
    "numUsers = 30\n",
    "User = pd.DataFrame()\n",
    "for librarianID in range(numUsers):\n",
    "    firstName = names.get_first_name()\n",
    "    lastName = names.get_last_name()\n",
    "    age = np.random.randint(7,75)\n",
    "        \n",
    "    user = pd.DataFrame(pd.Series({'firstName':firstName, 'lastName':lastName, 'age':age, 'fines': 0.00})).transpose()\n",
    "    User = pd.concat([User, user])\n",
    "    "
   ]
  },
  {
   "cell_type": "code",
   "execution_count": 39,
   "id": "b2092b9a",
   "metadata": {
    "scrolled": true
   },
   "outputs": [
    {
     "data": {
      "text/html": [
       "<div>\n",
       "<style scoped>\n",
       "    .dataframe tbody tr th:only-of-type {\n",
       "        vertical-align: middle;\n",
       "    }\n",
       "\n",
       "    .dataframe tbody tr th {\n",
       "        vertical-align: top;\n",
       "    }\n",
       "\n",
       "    .dataframe thead th {\n",
       "        text-align: right;\n",
       "    }\n",
       "</style>\n",
       "<table border=\"1\" class=\"dataframe\">\n",
       "  <thead>\n",
       "    <tr style=\"text-align: right;\">\n",
       "      <th></th>\n",
       "      <th>firstName</th>\n",
       "      <th>lastName</th>\n",
       "      <th>age</th>\n",
       "      <th>fines</th>\n",
       "    </tr>\n",
       "    <tr>\n",
       "      <th>userID</th>\n",
       "      <th></th>\n",
       "      <th></th>\n",
       "      <th></th>\n",
       "      <th></th>\n",
       "    </tr>\n",
       "  </thead>\n",
       "  <tbody>\n",
       "    <tr>\n",
       "      <th>0</th>\n",
       "      <td>Arthur</td>\n",
       "      <td>Thompson</td>\n",
       "      <td>64</td>\n",
       "      <td>0.0</td>\n",
       "    </tr>\n",
       "    <tr>\n",
       "      <th>1</th>\n",
       "      <td>Della</td>\n",
       "      <td>Mcentire</td>\n",
       "      <td>53</td>\n",
       "      <td>0.0</td>\n",
       "    </tr>\n",
       "    <tr>\n",
       "      <th>2</th>\n",
       "      <td>Danny</td>\n",
       "      <td>Garcia</td>\n",
       "      <td>43</td>\n",
       "      <td>0.0</td>\n",
       "    </tr>\n",
       "    <tr>\n",
       "      <th>3</th>\n",
       "      <td>Carolina</td>\n",
       "      <td>Smith</td>\n",
       "      <td>27</td>\n",
       "      <td>0.0</td>\n",
       "    </tr>\n",
       "    <tr>\n",
       "      <th>4</th>\n",
       "      <td>Janet</td>\n",
       "      <td>Conzemius</td>\n",
       "      <td>11</td>\n",
       "      <td>0.0</td>\n",
       "    </tr>\n",
       "    <tr>\n",
       "      <th>5</th>\n",
       "      <td>Travis</td>\n",
       "      <td>Rodney</td>\n",
       "      <td>25</td>\n",
       "      <td>0.0</td>\n",
       "    </tr>\n",
       "    <tr>\n",
       "      <th>6</th>\n",
       "      <td>Ira</td>\n",
       "      <td>Smith</td>\n",
       "      <td>9</td>\n",
       "      <td>0.0</td>\n",
       "    </tr>\n",
       "    <tr>\n",
       "      <th>7</th>\n",
       "      <td>Christy</td>\n",
       "      <td>Sweitzer</td>\n",
       "      <td>69</td>\n",
       "      <td>0.0</td>\n",
       "    </tr>\n",
       "    <tr>\n",
       "      <th>8</th>\n",
       "      <td>Wendell</td>\n",
       "      <td>Smith</td>\n",
       "      <td>42</td>\n",
       "      <td>0.0</td>\n",
       "    </tr>\n",
       "    <tr>\n",
       "      <th>9</th>\n",
       "      <td>Theresa</td>\n",
       "      <td>Robbins</td>\n",
       "      <td>26</td>\n",
       "      <td>0.0</td>\n",
       "    </tr>\n",
       "    <tr>\n",
       "      <th>10</th>\n",
       "      <td>Maria</td>\n",
       "      <td>Karn</td>\n",
       "      <td>19</td>\n",
       "      <td>0.0</td>\n",
       "    </tr>\n",
       "    <tr>\n",
       "      <th>11</th>\n",
       "      <td>Norma</td>\n",
       "      <td>Pina</td>\n",
       "      <td>19</td>\n",
       "      <td>0.0</td>\n",
       "    </tr>\n",
       "    <tr>\n",
       "      <th>12</th>\n",
       "      <td>Jose</td>\n",
       "      <td>Reyes</td>\n",
       "      <td>28</td>\n",
       "      <td>0.0</td>\n",
       "    </tr>\n",
       "    <tr>\n",
       "      <th>13</th>\n",
       "      <td>Robert</td>\n",
       "      <td>Setchell</td>\n",
       "      <td>37</td>\n",
       "      <td>0.0</td>\n",
       "    </tr>\n",
       "    <tr>\n",
       "      <th>14</th>\n",
       "      <td>Margaret</td>\n",
       "      <td>Sandidge</td>\n",
       "      <td>22</td>\n",
       "      <td>3.0</td>\n",
       "    </tr>\n",
       "    <tr>\n",
       "      <th>15</th>\n",
       "      <td>John</td>\n",
       "      <td>Hernandez</td>\n",
       "      <td>17</td>\n",
       "      <td>0.0</td>\n",
       "    </tr>\n",
       "    <tr>\n",
       "      <th>16</th>\n",
       "      <td>Gregory</td>\n",
       "      <td>Coutts</td>\n",
       "      <td>42</td>\n",
       "      <td>0.0</td>\n",
       "    </tr>\n",
       "    <tr>\n",
       "      <th>17</th>\n",
       "      <td>Harry</td>\n",
       "      <td>Jennrich</td>\n",
       "      <td>42</td>\n",
       "      <td>0.0</td>\n",
       "    </tr>\n",
       "    <tr>\n",
       "      <th>18</th>\n",
       "      <td>Jon</td>\n",
       "      <td>Ferguson</td>\n",
       "      <td>14</td>\n",
       "      <td>0.0</td>\n",
       "    </tr>\n",
       "    <tr>\n",
       "      <th>19</th>\n",
       "      <td>Marjory</td>\n",
       "      <td>Rangel</td>\n",
       "      <td>46</td>\n",
       "      <td>0.0</td>\n",
       "    </tr>\n",
       "    <tr>\n",
       "      <th>20</th>\n",
       "      <td>Kenneth</td>\n",
       "      <td>Broussard</td>\n",
       "      <td>46</td>\n",
       "      <td>0.0</td>\n",
       "    </tr>\n",
       "    <tr>\n",
       "      <th>21</th>\n",
       "      <td>Antoine</td>\n",
       "      <td>Kramer</td>\n",
       "      <td>63</td>\n",
       "      <td>0.0</td>\n",
       "    </tr>\n",
       "    <tr>\n",
       "      <th>22</th>\n",
       "      <td>Betty</td>\n",
       "      <td>Rider</td>\n",
       "      <td>34</td>\n",
       "      <td>0.0</td>\n",
       "    </tr>\n",
       "    <tr>\n",
       "      <th>23</th>\n",
       "      <td>Karen</td>\n",
       "      <td>Packwood</td>\n",
       "      <td>70</td>\n",
       "      <td>0.0</td>\n",
       "    </tr>\n",
       "    <tr>\n",
       "      <th>24</th>\n",
       "      <td>Bernice</td>\n",
       "      <td>Pal</td>\n",
       "      <td>10</td>\n",
       "      <td>0.0</td>\n",
       "    </tr>\n",
       "    <tr>\n",
       "      <th>25</th>\n",
       "      <td>Norris</td>\n",
       "      <td>Cotner</td>\n",
       "      <td>12</td>\n",
       "      <td>0.0</td>\n",
       "    </tr>\n",
       "    <tr>\n",
       "      <th>26</th>\n",
       "      <td>Bryan</td>\n",
       "      <td>Ojeda</td>\n",
       "      <td>44</td>\n",
       "      <td>0.0</td>\n",
       "    </tr>\n",
       "    <tr>\n",
       "      <th>27</th>\n",
       "      <td>Rocco</td>\n",
       "      <td>Avila</td>\n",
       "      <td>30</td>\n",
       "      <td>0.0</td>\n",
       "    </tr>\n",
       "    <tr>\n",
       "      <th>28</th>\n",
       "      <td>James</td>\n",
       "      <td>Stone</td>\n",
       "      <td>43</td>\n",
       "      <td>3.0</td>\n",
       "    </tr>\n",
       "    <tr>\n",
       "      <th>29</th>\n",
       "      <td>Brent</td>\n",
       "      <td>Powell</td>\n",
       "      <td>72</td>\n",
       "      <td>0.0</td>\n",
       "    </tr>\n",
       "  </tbody>\n",
       "</table>\n",
       "</div>"
      ],
      "text/plain": [
       "       firstName   lastName age fines\n",
       "userID                               \n",
       "0         Arthur   Thompson  64   0.0\n",
       "1          Della   Mcentire  53   0.0\n",
       "2          Danny     Garcia  43   0.0\n",
       "3       Carolina      Smith  27   0.0\n",
       "4          Janet  Conzemius  11   0.0\n",
       "5         Travis     Rodney  25   0.0\n",
       "6            Ira      Smith   9   0.0\n",
       "7        Christy   Sweitzer  69   0.0\n",
       "8        Wendell      Smith  42   0.0\n",
       "9        Theresa    Robbins  26   0.0\n",
       "10         Maria       Karn  19   0.0\n",
       "11         Norma       Pina  19   0.0\n",
       "12          Jose      Reyes  28   0.0\n",
       "13        Robert   Setchell  37   0.0\n",
       "14      Margaret   Sandidge  22   3.0\n",
       "15          John  Hernandez  17   0.0\n",
       "16       Gregory     Coutts  42   0.0\n",
       "17         Harry   Jennrich  42   0.0\n",
       "18           Jon   Ferguson  14   0.0\n",
       "19       Marjory     Rangel  46   0.0\n",
       "20       Kenneth  Broussard  46   0.0\n",
       "21       Antoine     Kramer  63   0.0\n",
       "22         Betty      Rider  34   0.0\n",
       "23         Karen   Packwood  70   0.0\n",
       "24       Bernice        Pal  10   0.0\n",
       "25        Norris     Cotner  12   0.0\n",
       "26         Bryan      Ojeda  44   0.0\n",
       "27         Rocco      Avila  30   0.0\n",
       "28         James      Stone  43   3.0\n",
       "29         Brent     Powell  72   0.0"
      ]
     },
     "execution_count": 39,
     "metadata": {},
     "output_type": "execute_result"
    }
   ],
   "source": [
    "User.reset_index(drop=True, inplace=True)\n",
    "User.index.names = ['userID']\n",
    "User.loc[14,'fines'] = 3.00\n",
    "User.loc[28,'fines'] = 3.00\n",
    "User"
   ]
  },
  {
   "cell_type": "code",
   "execution_count": 40,
   "id": "56a4325f",
   "metadata": {},
   "outputs": [],
   "source": [
    "User.to_csv('..//data//User.csv')"
   ]
  },
  {
   "cell_type": "markdown",
   "id": "3b9688bc",
   "metadata": {},
   "source": [
    "## BorrowedItem"
   ]
  },
  {
   "cell_type": "code",
   "execution_count": 28,
   "id": "69d04009",
   "metadata": {},
   "outputs": [],
   "source": [
    "User = pd.read_csv('..//data//User.csv')\n",
    "LibraryItem = pd.read_csv('..//data//LibraryItem.csv')"
   ]
  },
  {
   "cell_type": "code",
   "execution_count": 42,
   "id": "891adde5",
   "metadata": {},
   "outputs": [],
   "source": [
    "numBorrowedItem = 10\n",
    "BorrowedItem = pd.DataFrame()\n",
    "itemList = []\n",
    "\n",
    "for i in range(numBorrowedItem):\n",
    "    userID = np.random.choice(User.reset_index()['userID'])\n",
    "    dueDate = datetime.datetime(2023,7,25,17) + datetime.timedelta(days=i)\n",
    "    returnedDay = np.random.randint(0,10)\n",
    "    returnedDate = dueDate - datetime.timedelta(days=returnedDay)\n",
    "    libraryItemID = np.random.choice(LibraryItem.reset_index()['libraryItemID'])\n",
    "    while(libraryItemID in itemList):\n",
    "        libraryItemID = np.random.choice(LibraryItem.reset_index()['libraryItemID'])\n",
    "    \n",
    "    bi = pd.DataFrame(pd.Series({'userID':userID, 'libraryItemID':libraryItemID, 'dueDate':dueDate, 'returnDate':returnedDate})).transpose()\n",
    "    BorrowedItem = pd.concat([BorrowedItem, bi])\n",
    "    \n"
   ]
  },
  {
   "cell_type": "code",
   "execution_count": 43,
   "id": "9eca9a1a",
   "metadata": {},
   "outputs": [
    {
     "data": {
      "text/html": [
       "<div>\n",
       "<style scoped>\n",
       "    .dataframe tbody tr th:only-of-type {\n",
       "        vertical-align: middle;\n",
       "    }\n",
       "\n",
       "    .dataframe tbody tr th {\n",
       "        vertical-align: top;\n",
       "    }\n",
       "\n",
       "    .dataframe thead th {\n",
       "        text-align: right;\n",
       "    }\n",
       "</style>\n",
       "<table border=\"1\" class=\"dataframe\">\n",
       "  <thead>\n",
       "    <tr style=\"text-align: right;\">\n",
       "      <th></th>\n",
       "      <th>userID</th>\n",
       "      <th>libraryItemID</th>\n",
       "      <th>dueDate</th>\n",
       "      <th>returnDate</th>\n",
       "    </tr>\n",
       "  </thead>\n",
       "  <tbody>\n",
       "    <tr>\n",
       "      <th>0</th>\n",
       "      <td>9</td>\n",
       "      <td>20</td>\n",
       "      <td>2023-07-25 17:00:00</td>\n",
       "      <td>2023-07-22 17:00:00</td>\n",
       "    </tr>\n",
       "    <tr>\n",
       "      <th>0</th>\n",
       "      <td>12</td>\n",
       "      <td>13</td>\n",
       "      <td>2023-07-26 17:00:00</td>\n",
       "      <td>2023-07-25 17:00:00</td>\n",
       "    </tr>\n",
       "    <tr>\n",
       "      <th>0</th>\n",
       "      <td>3</td>\n",
       "      <td>17</td>\n",
       "      <td>2023-07-27 17:00:00</td>\n",
       "      <td>2023-07-24 17:00:00</td>\n",
       "    </tr>\n",
       "    <tr>\n",
       "      <th>0</th>\n",
       "      <td>23</td>\n",
       "      <td>11</td>\n",
       "      <td>2023-07-28 17:00:00</td>\n",
       "      <td>2023-07-27 17:00:00</td>\n",
       "    </tr>\n",
       "    <tr>\n",
       "      <th>0</th>\n",
       "      <td>1</td>\n",
       "      <td>14</td>\n",
       "      <td>2023-07-29 17:00:00</td>\n",
       "      <td>2023-07-25 17:00:00</td>\n",
       "    </tr>\n",
       "    <tr>\n",
       "      <th>0</th>\n",
       "      <td>25</td>\n",
       "      <td>4</td>\n",
       "      <td>2023-07-30 17:00:00</td>\n",
       "      <td>2023-07-21 17:00:00</td>\n",
       "    </tr>\n",
       "    <tr>\n",
       "      <th>0</th>\n",
       "      <td>4</td>\n",
       "      <td>21</td>\n",
       "      <td>2023-07-31 17:00:00</td>\n",
       "      <td>2023-07-28 17:00:00</td>\n",
       "    </tr>\n",
       "    <tr>\n",
       "      <th>0</th>\n",
       "      <td>11</td>\n",
       "      <td>18</td>\n",
       "      <td>2023-08-01 17:00:00</td>\n",
       "      <td>2023-07-30 17:00:00</td>\n",
       "    </tr>\n",
       "    <tr>\n",
       "      <th>0</th>\n",
       "      <td>27</td>\n",
       "      <td>14</td>\n",
       "      <td>2023-08-02 17:00:00</td>\n",
       "      <td>2023-07-28 17:00:00</td>\n",
       "    </tr>\n",
       "    <tr>\n",
       "      <th>0</th>\n",
       "      <td>28</td>\n",
       "      <td>10</td>\n",
       "      <td>2023-08-03 17:00:00</td>\n",
       "      <td>2023-07-27 17:00:00</td>\n",
       "    </tr>\n",
       "  </tbody>\n",
       "</table>\n",
       "</div>"
      ],
      "text/plain": [
       "  userID libraryItemID             dueDate          returnDate\n",
       "0      9            20 2023-07-25 17:00:00 2023-07-22 17:00:00\n",
       "0     12            13 2023-07-26 17:00:00 2023-07-25 17:00:00\n",
       "0      3            17 2023-07-27 17:00:00 2023-07-24 17:00:00\n",
       "0     23            11 2023-07-28 17:00:00 2023-07-27 17:00:00\n",
       "0      1            14 2023-07-29 17:00:00 2023-07-25 17:00:00\n",
       "0     25             4 2023-07-30 17:00:00 2023-07-21 17:00:00\n",
       "0      4            21 2023-07-31 17:00:00 2023-07-28 17:00:00\n",
       "0     11            18 2023-08-01 17:00:00 2023-07-30 17:00:00\n",
       "0     27            14 2023-08-02 17:00:00 2023-07-28 17:00:00\n",
       "0     28            10 2023-08-03 17:00:00 2023-07-27 17:00:00"
      ]
     },
     "execution_count": 43,
     "metadata": {},
     "output_type": "execute_result"
    }
   ],
   "source": [
    "BorrowedItem"
   ]
  },
  {
   "cell_type": "code",
   "execution_count": 44,
   "id": "62b3c26f",
   "metadata": {},
   "outputs": [],
   "source": [
    "BorrowedItem.to_csv('..//data/BorrowedItem.csv')"
   ]
  },
  {
   "cell_type": "code",
   "execution_count": null,
   "id": "e738be2c",
   "metadata": {},
   "outputs": [],
   "source": []
  },
  {
   "cell_type": "markdown",
   "id": "5b4e6dd8",
   "metadata": {},
   "source": [
    "## Event and Registration"
   ]
  },
  {
   "cell_type": "code",
   "execution_count": 14,
   "id": "2422fff6",
   "metadata": {},
   "outputs": [],
   "source": [
    "Item = pd.read_csv('..//data/Item.csv')\n",
    "LibraryItem = pd.read_csv('..//data/LibraryItem.csv')\n",
    "Librarian = pd.read_csv('..//data/Librarian.csv')\n",
    "User = pd.read_csv('..//data/User.csv')\n",
    "Event = pd.read_csv('..//data/Event.csv')\n",
    "EventRegistration = pd.read_csv('..//data/EventRegistration.csv')\n",
    "BorrowedItem  = pd.read_csv('..//data/BorrowedItem.csv')"
   ]
  },
  {
   "cell_type": "code",
   "execution_count": 15,
   "id": "7c786324",
   "metadata": {},
   "outputs": [
    {
     "data": {
      "text/html": [
       "<div>\n",
       "<style scoped>\n",
       "    .dataframe tbody tr th:only-of-type {\n",
       "        vertical-align: middle;\n",
       "    }\n",
       "\n",
       "    .dataframe tbody tr th {\n",
       "        vertical-align: top;\n",
       "    }\n",
       "\n",
       "    .dataframe thead th {\n",
       "        text-align: right;\n",
       "    }\n",
       "</style>\n",
       "<table border=\"1\" class=\"dataframe\">\n",
       "  <thead>\n",
       "    <tr style=\"text-align: right;\">\n",
       "      <th></th>\n",
       "      <th>userID</th>\n",
       "      <th>libraryItemID</th>\n",
       "      <th>dueDate</th>\n",
       "      <th>returnedDate</th>\n",
       "    </tr>\n",
       "  </thead>\n",
       "  <tbody>\n",
       "    <tr>\n",
       "      <th>0</th>\n",
       "      <td>9</td>\n",
       "      <td>20</td>\n",
       "      <td>2023-07-25 17:00</td>\n",
       "      <td>2023-07-22 17:00</td>\n",
       "    </tr>\n",
       "    <tr>\n",
       "      <th>1</th>\n",
       "      <td>12</td>\n",
       "      <td>13</td>\n",
       "      <td>2023-07-26 17:00</td>\n",
       "      <td>2023-07-25 17:00</td>\n",
       "    </tr>\n",
       "    <tr>\n",
       "      <th>2</th>\n",
       "      <td>3</td>\n",
       "      <td>17</td>\n",
       "      <td>2023-07-27 17:00</td>\n",
       "      <td>2023-07-24 17:00</td>\n",
       "    </tr>\n",
       "    <tr>\n",
       "      <th>3</th>\n",
       "      <td>23</td>\n",
       "      <td>11</td>\n",
       "      <td>2023-07-28 17:00</td>\n",
       "      <td>2023-07-27 17:00</td>\n",
       "    </tr>\n",
       "    <tr>\n",
       "      <th>4</th>\n",
       "      <td>1</td>\n",
       "      <td>14</td>\n",
       "      <td>2023-07-29 17:00</td>\n",
       "      <td>2023-07-25 17:00</td>\n",
       "    </tr>\n",
       "    <tr>\n",
       "      <th>5</th>\n",
       "      <td>25</td>\n",
       "      <td>4</td>\n",
       "      <td>2023-07-30 17:00</td>\n",
       "      <td>2023-07-21 17:00</td>\n",
       "    </tr>\n",
       "    <tr>\n",
       "      <th>6</th>\n",
       "      <td>4</td>\n",
       "      <td>21</td>\n",
       "      <td>2023-07-31 17:00</td>\n",
       "      <td>NaN</td>\n",
       "    </tr>\n",
       "    <tr>\n",
       "      <th>7</th>\n",
       "      <td>11</td>\n",
       "      <td>18</td>\n",
       "      <td>2023-08-01 17:00</td>\n",
       "      <td>2023-07-30 17:00</td>\n",
       "    </tr>\n",
       "    <tr>\n",
       "      <th>8</th>\n",
       "      <td>27</td>\n",
       "      <td>14</td>\n",
       "      <td>2023-08-07 17:00</td>\n",
       "      <td>NaN</td>\n",
       "    </tr>\n",
       "    <tr>\n",
       "      <th>9</th>\n",
       "      <td>28</td>\n",
       "      <td>10</td>\n",
       "      <td>2023-08-07 17:00</td>\n",
       "      <td>NaN</td>\n",
       "    </tr>\n",
       "  </tbody>\n",
       "</table>\n",
       "</div>"
      ],
      "text/plain": [
       "   userID  libraryItemID           dueDate      returnedDate\n",
       "0       9             20  2023-07-25 17:00  2023-07-22 17:00\n",
       "1      12             13  2023-07-26 17:00  2023-07-25 17:00\n",
       "2       3             17  2023-07-27 17:00  2023-07-24 17:00\n",
       "3      23             11  2023-07-28 17:00  2023-07-27 17:00\n",
       "4       1             14  2023-07-29 17:00  2023-07-25 17:00\n",
       "5      25              4  2023-07-30 17:00  2023-07-21 17:00\n",
       "6       4             21  2023-07-31 17:00               NaN\n",
       "7      11             18  2023-08-01 17:00  2023-07-30 17:00\n",
       "8      27             14  2023-08-07 17:00               NaN\n",
       "9      28             10  2023-08-07 17:00               NaN"
      ]
     },
     "execution_count": 15,
     "metadata": {},
     "output_type": "execute_result"
    }
   ],
   "source": [
    "BorrowedItem"
   ]
  },
  {
   "cell_type": "code",
   "execution_count": 16,
   "id": "846699b3",
   "metadata": {},
   "outputs": [],
   "source": [
    "Event.sort_values(by=['startTS','room'], inplace=True),\n",
    "EventRegistration.sort_values(by=['startTS','room', 'userID'], inplace=True)"
   ]
  },
  {
   "cell_type": "code",
   "execution_count": 17,
   "id": "d4fef0fc",
   "metadata": {},
   "outputs": [
    {
     "data": {
      "text/plain": [
       "9"
      ]
     },
     "execution_count": 17,
     "metadata": {},
     "output_type": "execute_result"
    }
   ],
   "source": [
    "engine = create_engine('sqlite:///library.db', echo=False)\n",
    "Item.to_sql('Item', con=engine, if_exists='append', index=False)\n",
    "LibraryItem.to_sql('LibraryItem', con=engine, if_exists='append', index=False)\n",
    "Librarian.to_sql('Librarian', con=engine, if_exists='append', index=False)\n",
    "User.to_sql('User', con=engine, if_exists='append', index=False)\n",
    "BorrowedItem.to_sql('BorrowedItem', con=engine, if_exists='append', index=False)\n",
    "Event.to_sql('Event', con=engine, if_exists='append', index=False)\n",
    "EventRegistration.to_sql('EventRegistration', con=engine, if_exists='append', index=False)\n"
   ]
  },
  {
   "cell_type": "code",
   "execution_count": 19,
   "id": "ff3e7340",
   "metadata": {},
   "outputs": [
    {
     "name": "stdout",
     "output_type": "stream",
     "text": [
      " * sqlite:///library.db\n",
      "Done.\n"
     ]
    },
    {
     "data": {
      "text/html": [
       "<table>\n",
       "    <thead>\n",
       "        <tr>\n",
       "            <th>userID</th>\n",
       "            <th>libraryItemID</th>\n",
       "            <th>dueDate</th>\n",
       "            <th>returnedDate</th>\n",
       "        </tr>\n",
       "    </thead>\n",
       "    <tbody>\n",
       "        <tr>\n",
       "            <td>9</td>\n",
       "            <td>20</td>\n",
       "            <td>2023-07-25 17:00</td>\n",
       "            <td>2023-07-22 17:00</td>\n",
       "        </tr>\n",
       "        <tr>\n",
       "            <td>12</td>\n",
       "            <td>13</td>\n",
       "            <td>2023-07-26 17:00</td>\n",
       "            <td>2023-07-25 17:00</td>\n",
       "        </tr>\n",
       "        <tr>\n",
       "            <td>3</td>\n",
       "            <td>17</td>\n",
       "            <td>2023-07-27 17:00</td>\n",
       "            <td>2023-07-24 17:00</td>\n",
       "        </tr>\n",
       "        <tr>\n",
       "            <td>23</td>\n",
       "            <td>11</td>\n",
       "            <td>2023-07-28 17:00</td>\n",
       "            <td>2023-07-27 17:00</td>\n",
       "        </tr>\n",
       "        <tr>\n",
       "            <td>1</td>\n",
       "            <td>14</td>\n",
       "            <td>2023-07-29 17:00</td>\n",
       "            <td>2023-07-25 17:00</td>\n",
       "        </tr>\n",
       "        <tr>\n",
       "            <td>25</td>\n",
       "            <td>4</td>\n",
       "            <td>2023-07-30 17:00</td>\n",
       "            <td>2023-07-21 17:00</td>\n",
       "        </tr>\n",
       "        <tr>\n",
       "            <td>4</td>\n",
       "            <td>21</td>\n",
       "            <td>2023-07-31 17:00</td>\n",
       "            <td>None</td>\n",
       "        </tr>\n",
       "        <tr>\n",
       "            <td>11</td>\n",
       "            <td>18</td>\n",
       "            <td>2023-08-01 17:00</td>\n",
       "            <td>2023-07-30 17:00</td>\n",
       "        </tr>\n",
       "        <tr>\n",
       "            <td>27</td>\n",
       "            <td>14</td>\n",
       "            <td>2023-08-07 17:00</td>\n",
       "            <td>None</td>\n",
       "        </tr>\n",
       "        <tr>\n",
       "            <td>28</td>\n",
       "            <td>10</td>\n",
       "            <td>2023-08-07 17:00</td>\n",
       "            <td>None</td>\n",
       "        </tr>\n",
       "    </tbody>\n",
       "</table>"
      ],
      "text/plain": [
       "[(9, 20, '2023-07-25 17:00', '2023-07-22 17:00'),\n",
       " (12, 13, '2023-07-26 17:00', '2023-07-25 17:00'),\n",
       " (3, 17, '2023-07-27 17:00', '2023-07-24 17:00'),\n",
       " (23, 11, '2023-07-28 17:00', '2023-07-27 17:00'),\n",
       " (1, 14, '2023-07-29 17:00', '2023-07-25 17:00'),\n",
       " (25, 4, '2023-07-30 17:00', '2023-07-21 17:00'),\n",
       " (4, 21, '2023-07-31 17:00', None),\n",
       " (11, 18, '2023-08-01 17:00', '2023-07-30 17:00'),\n",
       " (27, 14, '2023-08-07 17:00', None),\n",
       " (28, 10, '2023-08-07 17:00', None)]"
      ]
     },
     "execution_count": 19,
     "metadata": {},
     "output_type": "execute_result"
    }
   ],
   "source": [
    "%%sql\n",
    "SELECT * FROM BorrowedItem"
   ]
  },
  {
   "cell_type": "code",
   "execution_count": 158,
   "id": "297a271b",
   "metadata": {},
   "outputs": [
    {
     "name": "stdout",
     "output_type": "stream",
     "text": [
      " * sqlite:///library.db\n",
      "Done.\n"
     ]
    },
    {
     "data": {
      "text/html": [
       "<table>\n",
       "    <thead>\n",
       "        <tr>\n",
       "            <th>userID</th>\n",
       "            <th>libraryItemID</th>\n",
       "            <th>dueDate</th>\n",
       "            <th>returnedDate</th>\n",
       "        </tr>\n",
       "    </thead>\n",
       "    <tbody>\n",
       "        <tr>\n",
       "            <td>9</td>\n",
       "            <td>20</td>\n",
       "            <td>2023-07-25 17:00</td>\n",
       "            <td>2023-07-22 17:00:00</td>\n",
       "        </tr>\n",
       "        <tr>\n",
       "            <td>12</td>\n",
       "            <td>13</td>\n",
       "            <td>2023-07-26 17:00</td>\n",
       "            <td>2023-07-25 17:00:00</td>\n",
       "        </tr>\n",
       "        <tr>\n",
       "            <td>3</td>\n",
       "            <td>17</td>\n",
       "            <td>2023-07-27 17:00</td>\n",
       "            <td>2023-07-24 17:00:00</td>\n",
       "        </tr>\n",
       "        <tr>\n",
       "            <td>23</td>\n",
       "            <td>11</td>\n",
       "            <td>2023-07-28 17:00</td>\n",
       "            <td>2023-07-27 17:00:00</td>\n",
       "        </tr>\n",
       "        <tr>\n",
       "            <td>1</td>\n",
       "            <td>14</td>\n",
       "            <td>2023-07-29 17:00</td>\n",
       "            <td>2023-07-25 17:00:00</td>\n",
       "        </tr>\n",
       "        <tr>\n",
       "            <td>25</td>\n",
       "            <td>4</td>\n",
       "            <td>2023-07-30 17:00</td>\n",
       "            <td>2023-07-21 17:00:00</td>\n",
       "        </tr>\n",
       "        <tr>\n",
       "            <td>4</td>\n",
       "            <td>21</td>\n",
       "            <td>2023-07-31 17:00</td>\n",
       "            <td>None</td>\n",
       "        </tr>\n",
       "        <tr>\n",
       "            <td>11</td>\n",
       "            <td>18</td>\n",
       "            <td>2023-08-01 17:00</td>\n",
       "            <td>2023-07-30 17:00:00</td>\n",
       "        </tr>\n",
       "        <tr>\n",
       "            <td>27</td>\n",
       "            <td>14</td>\n",
       "            <td>2023-08-07 17:00</td>\n",
       "            <td>None</td>\n",
       "        </tr>\n",
       "        <tr>\n",
       "            <td>28</td>\n",
       "            <td>10</td>\n",
       "            <td>2023-08-07 17:00</td>\n",
       "            <td>None</td>\n",
       "        </tr>\n",
       "    </tbody>\n",
       "</table>"
      ],
      "text/plain": [
       "[(9, 20, '2023-07-25 17:00', '2023-07-22 17:00:00'),\n",
       " (12, 13, '2023-07-26 17:00', '2023-07-25 17:00:00'),\n",
       " (3, 17, '2023-07-27 17:00', '2023-07-24 17:00:00'),\n",
       " (23, 11, '2023-07-28 17:00', '2023-07-27 17:00:00'),\n",
       " (1, 14, '2023-07-29 17:00', '2023-07-25 17:00:00'),\n",
       " (25, 4, '2023-07-30 17:00', '2023-07-21 17:00:00'),\n",
       " (4, 21, '2023-07-31 17:00', None),\n",
       " (11, 18, '2023-08-01 17:00', '2023-07-30 17:00:00'),\n",
       " (27, 14, '2023-08-07 17:00', None),\n",
       " (28, 10, '2023-08-07 17:00', None)]"
      ]
     },
     "execution_count": 158,
     "metadata": {},
     "output_type": "execute_result"
    }
   ],
   "source": [
    "%%sql\n",
    "SELECT * FROM BorrowedItem;"
   ]
  },
  {
   "cell_type": "code",
   "execution_count": 150,
   "id": "925b3fbe",
   "metadata": {},
   "outputs": [
    {
     "name": "stdout",
     "output_type": "stream",
     "text": [
      " * sqlite:///library.db\n",
      "10 rows affected.\n"
     ]
    },
    {
     "data": {
      "text/plain": [
       "[]"
      ]
     },
     "execution_count": 150,
     "metadata": {},
     "output_type": "execute_result"
    }
   ],
   "source": [
    "%%sql\n",
    "INSERT INTO BorrowedItem(userID, libraryItemID, dueDate, returnedDate)\n",
    "VALUES(9,20,'2023-07-25 17:00','2023-07-22 17:00:00'),\n",
    "    (12,13,'2023-07-26 17:00','2023-07-25 17:00:00'),\n",
    "    (3,17,'2023-07-27 17:00','2023-07-24 17:00:00'),\n",
    "    (23,11,'2023-07-28 17:00','2023-07-27 17:00:00'),\n",
    "    (1,14,'2023-07-29 17:00','2023-07-25 17:00:00'),\n",
    "    (25,4,'2023-07-30 17:00','2023-07-21 17:00:00'),\n",
    "    (4,21,'2023-07-31 17:00',NULL),\n",
    "    (11,18,'2023-08-01 17:00','2023-07-30 17:00:00'),\n",
    "    (27,14,'2023-08-07 17:00',NULL),\n",
    "    (28,10,'2023-08-07 17:00',NULL);\n"
   ]
  },
  {
   "cell_type": "markdown",
   "id": "6f1c49f7",
   "metadata": {},
   "source": [
    "## Table: User"
   ]
  },
  {
   "cell_type": "code",
   "execution_count": 138,
   "id": "7cd81ab6",
   "metadata": {},
   "outputs": [
    {
     "name": "stdout",
     "output_type": "stream",
     "text": [
      " * sqlite:///library.db\n",
      "Done.\n"
     ]
    },
    {
     "data": {
      "text/plain": [
       "[]"
      ]
     },
     "execution_count": 138,
     "metadata": {},
     "output_type": "execute_result"
    }
   ],
   "source": [
    "%%sql\n",
    "DROP TABLE mytable"
   ]
  },
  {
   "cell_type": "code",
   "execution_count": 128,
   "id": "8056ac87",
   "metadata": {},
   "outputs": [
    {
     "name": "stdout",
     "output_type": "stream",
     "text": [
      " * sqlite:///library.db\n",
      "Done.\n",
      "Done.\n",
      "Done.\n",
      "Done.\n",
      "Done.\n",
      "Done.\n",
      "Done.\n"
     ]
    },
    {
     "data": {
      "text/plain": [
       "[]"
      ]
     },
     "execution_count": 128,
     "metadata": {},
     "output_type": "execute_result"
    }
   ],
   "source": [
    "%%sql\n",
    "\n",
    "DROP TABLE Item;\n",
    "DROP TABLE User;\n",
    "DROP TABLE Librarian;\n",
    "DROP TABLE LibraryItem;\n",
    "DROP TABLE BorrowedItem;\n",
    "DROP TABLE Event;\n",
    "DROP TABLE EventRegistration;"
   ]
  },
  {
   "cell_type": "code",
   "execution_count": 52,
   "id": "35e12b16",
   "metadata": {},
   "outputs": [
    {
     "name": "stdout",
     "output_type": "stream",
     "text": [
      " * sqlite:///library.db\n",
      "Done.\n"
     ]
    },
    {
     "data": {
      "text/plain": [
       "[]"
      ]
     },
     "execution_count": 52,
     "metadata": {},
     "output_type": "execute_result"
    }
   ],
   "source": [
    "%%sql\n",
    "\n",
    "DROP TRIGGER prevent_past_event_registration;"
   ]
  },
  {
   "cell_type": "code",
   "execution_count": 37,
   "id": "c3c580c3",
   "metadata": {},
   "outputs": [],
   "source": [
    "queryList = []"
   ]
  },
  {
   "cell_type": "code",
   "execution_count": 39,
   "id": "9e52bcf6",
   "metadata": {},
   "outputs": [],
   "source": [
    "queryList.append(\"s\")\n",
    "queryList.append()"
   ]
  },
  {
   "cell_type": "code",
   "execution_count": 40,
   "id": "a8aaa1eb",
   "metadata": {},
   "outputs": [
    {
     "data": {
      "text/plain": [
       "['s']"
      ]
     },
     "execution_count": 40,
     "metadata": {},
     "output_type": "execute_result"
    }
   ],
   "source": [
    "queryList"
   ]
  },
  {
   "cell_type": "code",
   "execution_count": 50,
   "id": "b1c3a66c",
   "metadata": {},
   "outputs": [],
   "source": [
    "import sqlite3\n",
    "from os import path\n",
    "\n",
    "conn = sqlite3.connect(\"library.db\")\n",
    "eventQuery = \"SELECT * FROM Event\"\n",
    "# Get rows\n",
    "with conn:\n",
    "    cur = conn.cursor()\n",
    "    try:\n",
    "        cur.execute(eventQuery)\n",
    "    except:\n",
    "        print(\"Unable to execute query\")"
   ]
  },
  {
   "cell_type": "code",
   "execution_count": 51,
   "id": "b019081d",
   "metadata": {},
   "outputs": [],
   "source": [
    "rows = cur.fetchall()"
   ]
  },
  {
   "cell_type": "code",
   "execution_count": 57,
   "id": "5e5ac970",
   "metadata": {},
   "outputs": [
    {
     "data": {
      "text/plain": [
       "'A1'"
      ]
     },
     "execution_count": 57,
     "metadata": {},
     "output_type": "execute_result"
    }
   ],
   "source": [
    "rows[0][2]"
   ]
  },
  {
   "cell_type": "code",
   "execution_count": null,
   "id": "7b1490e5",
   "metadata": {},
   "outputs": [],
   "source": []
  }
 ],
 "metadata": {
  "kernelspec": {
   "display_name": "Python 3 (ipykernel)",
   "language": "python",
   "name": "python3"
  },
  "language_info": {
   "codemirror_mode": {
    "name": "ipython",
    "version": 3
   },
   "file_extension": ".py",
   "mimetype": "text/x-python",
   "name": "python",
   "nbconvert_exporter": "python",
   "pygments_lexer": "ipython3",
   "version": "3.9.12"
  },
  "toc": {
   "base_numbering": 1,
   "nav_menu": {},
   "number_sections": true,
   "sideBar": true,
   "skip_h1_title": false,
   "title_cell": "Table of Contents",
   "title_sidebar": "Contents",
   "toc_cell": false,
   "toc_position": {},
   "toc_section_display": true,
   "toc_window_display": false
  },
  "varInspector": {
   "cols": {
    "lenName": 16,
    "lenType": 16,
    "lenVar": 40
   },
   "kernels_config": {
    "python": {
     "delete_cmd_postfix": "",
     "delete_cmd_prefix": "del ",
     "library": "var_list.py",
     "varRefreshCmd": "print(var_dic_list())"
    },
    "r": {
     "delete_cmd_postfix": ") ",
     "delete_cmd_prefix": "rm(",
     "library": "var_list.r",
     "varRefreshCmd": "cat(var_dic_list()) "
    }
   },
   "types_to_exclude": [
    "module",
    "function",
    "builtin_function_or_method",
    "instance",
    "_Feature"
   ],
   "window_display": false
  }
 },
 "nbformat": 4,
 "nbformat_minor": 5
}
