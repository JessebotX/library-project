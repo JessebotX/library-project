{
 "cells": [
  {
   "cell_type": "code",
   "execution_count": 1,
   "id": "c594a217",
   "metadata": {},
   "outputs": [
    {
     "data": {
      "text/html": [
       "<style>.container { width:100% !important; }</style>"
      ],
      "text/plain": [
       "<IPython.core.display.HTML object>"
      ]
     },
     "metadata": {},
     "output_type": "display_data"
    }
   ],
   "source": [
    "import pandas as pd\n",
    "import numpy as np\n",
    "import names\n",
    "import datetime\n",
    "from IPython.display import display, HTML\n",
    "from sqlalchemy import create_engine\n",
    "\n",
    "display(HTML(\"<style>.container { width:100% !important; }</style>\"))"
   ]
  },
  {
   "cell_type": "markdown",
   "id": "6c0735fe",
   "metadata": {},
   "source": [
    "# Creating a db"
   ]
  },
  {
   "cell_type": "code",
   "execution_count": 2,
   "id": "fc19b1e4",
   "metadata": {},
   "outputs": [],
   "source": [
    "%load_ext sql"
   ]
  },
  {
   "cell_type": "code",
   "execution_count": 3,
   "id": "50408cc4",
   "metadata": {},
   "outputs": [
    {
     "data": {
      "text/plain": [
       "'Connected: @library.db'"
      ]
     },
     "execution_count": 3,
     "metadata": {},
     "output_type": "execute_result"
    }
   ],
   "source": [
    "%sql sqlite:///library.db"
   ]
  },
  {
   "cell_type": "markdown",
   "id": "41d19221",
   "metadata": {},
   "source": [
    "# Creating tables"
   ]
  },
  {
   "cell_type": "code",
   "execution_count": 129,
   "id": "c59a3130",
   "metadata": {},
   "outputs": [
    {
     "name": "stdout",
     "output_type": "stream",
     "text": [
      " * sqlite:///library.db\n",
      "Done.\n"
     ]
    },
    {
     "data": {
      "text/plain": [
       "[]"
      ]
     },
     "execution_count": 129,
     "metadata": {},
     "output_type": "execute_result"
    }
   ],
   "source": [
    "%%sql\n",
    "CREATE TABLE User(\n",
    "    userID INTEGER PRIMARY KEY,\n",
    "    firstName VARCHAR(30) NOT NULL,\n",
    "    lastName VARCHAR(30) NOT NULL,\n",
    "    age INTEGER NOT NULL,\n",
    "    fines NUMERIC(5,2) DEFAULT 0,\n",
    "    CHECK (age >= 7),\n",
    "    CHECK (fines >= 0)\n",
    ");"
   ]
  },
  {
   "cell_type": "code",
   "execution_count": 130,
   "id": "03ba5524",
   "metadata": {},
   "outputs": [
    {
     "name": "stdout",
     "output_type": "stream",
     "text": [
      " * sqlite:///library.db\n",
      "Done.\n"
     ]
    },
    {
     "data": {
      "text/plain": [
       "[]"
      ]
     },
     "execution_count": 130,
     "metadata": {},
     "output_type": "execute_result"
    }
   ],
   "source": [
    "%%sql\n",
    "CREATE TABLE Librarian(\n",
    "    librarianID INTEGER PRIMARY KEY,\n",
    "    firstName VARCHAR(30) NOT NULL,\n",
    "    lastName VARCHAR(30) NOT NULL,\n",
    "    salary NUMERIC(6,2) DEFAULT 0,\n",
    "    department VARCHAR(20) NOT NULL,\n",
    "    CHECK (salary >= 0)\n",
    ");"
   ]
  },
  {
   "cell_type": "code",
   "execution_count": 134,
   "id": "eebcd375",
   "metadata": {},
   "outputs": [
    {
     "name": "stdout",
     "output_type": "stream",
     "text": [
      " * sqlite:///library.db\n",
      "Done.\n"
     ]
    },
    {
     "data": {
      "text/plain": [
       "[]"
      ]
     },
     "execution_count": 134,
     "metadata": {},
     "output_type": "execute_result"
    }
   ],
   "source": [
    "%%sql\n",
    "CREATE TABLE BorrowedItem(\n",
    "    userID REFERENCES User(userID) NOT NULL,\n",
    "    libraryItemID REFERENCES LibraryItem(libraryItemID) NOT NULL,\n",
    "    dueDate DATETIME DEFAULT (date(CURRENT_TIMESTAMP, '+14 day')) NOT NULL,\n",
    "    returnedDate DATETIME DEFAULT NULL,\n",
    "    PRIMARY KEY (userID,libraryItemID,dueDate)\n",
    ");"
   ]
  },
  {
   "cell_type": "code",
   "execution_count": 132,
   "id": "b0394a73",
   "metadata": {},
   "outputs": [
    {
     "name": "stdout",
     "output_type": "stream",
     "text": [
      " * sqlite:///library.db\n",
      "Done.\n"
     ]
    },
    {
     "data": {
      "text/plain": [
       "[]"
      ]
     },
     "execution_count": 132,
     "metadata": {},
     "output_type": "execute_result"
    }
   ],
   "source": [
    "%%sql\n",
    "CREATE TABLE LibraryItem(\n",
    "    libraryItemID INTEGER PRIMARY KEY,\n",
    "    itemID REFERENCES Item(itemID) NOT NULL,\n",
    "    toBeAdded BOOLEAN\n",
    ");"
   ]
  },
  {
   "cell_type": "code",
   "execution_count": 133,
   "id": "33c89757",
   "metadata": {},
   "outputs": [
    {
     "name": "stdout",
     "output_type": "stream",
     "text": [
      " * sqlite:///library.db\n",
      "Done.\n"
     ]
    },
    {
     "data": {
      "text/plain": [
       "[]"
      ]
     },
     "execution_count": 133,
     "metadata": {},
     "output_type": "execute_result"
    }
   ],
   "source": [
    "%%sql\n",
    "CREATE TABLE Item(\n",
    "    itemID INTEGER PRIMARY KEY,\n",
    "    author VARCHAR(30),\n",
    "    itemName VARCHAR(30) NOT NULL,\n",
    "    type VARCHAR(15) NOT NULL\n",
    ");"
   ]
  },
  {
   "cell_type": "code",
   "execution_count": 135,
   "id": "77fc8fac",
   "metadata": {},
   "outputs": [
    {
     "name": "stdout",
     "output_type": "stream",
     "text": [
      " * sqlite:///library.db\n",
      "Done.\n"
     ]
    },
    {
     "data": {
      "text/plain": [
       "[]"
      ]
     },
     "execution_count": 135,
     "metadata": {},
     "output_type": "execute_result"
    }
   ],
   "source": [
    "%%sql\n",
    "CREATE TABLE Event(\n",
    "    startTS DATETIME NOT NULL,\n",
    "    endTS DATETIME NOT NULL,\n",
    "    room VARCHAR(10) NOT NULL,\n",
    "    eventName VARCHAR(30) NOT NULL,\n",
    "    audience VARCHAR(20),\n",
    "    maxRegistrations INTEGER DEFAULT 0,\n",
    "    artist VARCHAR(30),\n",
    "    itemID REFERENCES Item(itemID),\n",
    "    PRIMARY KEY (startTS, room),\n",
    "    CHECK (maxRegistrations >= 0)\n",
    ");"
   ]
  },
  {
   "cell_type": "code",
   "execution_count": 136,
   "id": "41799755",
   "metadata": {},
   "outputs": [
    {
     "name": "stdout",
     "output_type": "stream",
     "text": [
      " * sqlite:///library.db\n",
      "Done.\n"
     ]
    },
    {
     "data": {
      "text/plain": [
       "[]"
      ]
     },
     "execution_count": 136,
     "metadata": {},
     "output_type": "execute_result"
    }
   ],
   "source": [
    "%%sql\n",
    "CREATE TABLE EventRegistration(\n",
    "    startTS REFERENCES Event(startTS) NOT NULL,\n",
    "    room REFERENCES Event(room) NOT NULL,\n",
    "    userID REFERENCES User(userID) NOT NULL,\n",
    "    PRIMARY KEY (startTS, room, userID)\n",
    ");"
   ]
  },
  {
   "cell_type": "markdown",
   "id": "fc64bc76",
   "metadata": {},
   "source": [
    "# ASSERTIONS AND TRIGGERS"
   ]
  },
  {
   "cell_type": "markdown",
   "id": "1d22d6c7",
   "metadata": {},
   "source": [
    "## List of Assertions\n",
    "\n",
    " - Maximum possible users <= some constant\n",
    " - Maximum employee salary <= budget"
   ]
  },
  {
   "cell_type": "markdown",
   "id": "f64db765",
   "metadata": {},
   "source": [
    "## List of Triggers\n",
    "\n",
    " - Users with fines cannot borrow items\n",
    " - Users cannot take items that are already checked out\n",
    " - Users cannot return items that have already been returned\n",
    " - Users cannot register for events at max capacity\n",
    " - Users cannot register multiple times for the same event\n",
    " - Users cannot register for past events"
   ]
  },
  {
   "cell_type": "code",
   "execution_count": 162,
   "id": "8696fdd0",
   "metadata": {},
   "outputs": [
    {
     "name": "stdout",
     "output_type": "stream",
     "text": [
      " * sqlite:///library.db\n",
      "Done.\n"
     ]
    },
    {
     "data": {
      "text/plain": [
       "[]"
      ]
     },
     "execution_count": 162,
     "metadata": {},
     "output_type": "execute_result"
    }
   ],
   "source": [
    "%%sql\n",
    "CREATE TRIGGER prevent_multiple_returns\n",
    "BEFORE UPDATE OF returnedDate ON BorrowedItem\n",
    "FOR EACH ROW\n",
    "WHEN NEW.returnedDate IS NOT NULL AND OLD.returnedDate IS NOT NULL\n",
    "BEGIN\n",
    "    SELECT RAISE(ABORT, 'The item has already been returned.');\n",
    "END;"
   ]
  },
  {
   "cell_type": "code",
   "execution_count": 163,
   "id": "b9b09904",
   "metadata": {},
   "outputs": [
    {
     "name": "stdout",
     "output_type": "stream",
     "text": [
      " * sqlite:///library.db\n",
      "Done.\n"
     ]
    },
    {
     "data": {
      "text/plain": [
       "[]"
      ]
     },
     "execution_count": 163,
     "metadata": {},
     "output_type": "execute_result"
    }
   ],
   "source": [
    "%%sql\n",
    "CREATE TRIGGER prevent_max_registrations\n",
    "BEFORE INSERT ON EventRegistration\n",
    "FOR EACH ROW\n",
    "WHEN (\n",
    "    SELECT COUNT(*) FROM EventRegistration WHERE startTS = NEW.startTS AND room = NEW.room\n",
    ") >= (\n",
    "    SELECT maxRegistrations FROM Event WHERE startTS = NEW.startTS AND room = NEW.room\n",
    ")\n",
    "BEGIN\n",
    "    SELECT RAISE(ABORT, 'Event is at max capacity.');\n",
    "END;"
   ]
  },
  {
   "cell_type": "code",
   "execution_count": 164,
   "id": "b854e341",
   "metadata": {},
   "outputs": [
    {
     "name": "stdout",
     "output_type": "stream",
     "text": [
      " * sqlite:///library.db\n",
      "Done.\n"
     ]
    },
    {
     "data": {
      "text/plain": [
       "[]"
      ]
     },
     "execution_count": 164,
     "metadata": {},
     "output_type": "execute_result"
    }
   ],
   "source": [
    "%%sql\n",
    "CREATE TRIGGER prevent_duplicate_event_registration\n",
    "BEFORE INSERT ON EventRegistration\n",
    "FOR EACH ROW\n",
    "WHEN (\n",
    "    SELECT COUNT(*) FROM EventRegistration\n",
    "    WHERE startTS = NEW.startTS AND room = NEW.room AND userID = NEW.userID\n",
    ") > 0\n",
    "BEGIN\n",
    "    SELECT RAISE(ABORT, 'The user has already registered for this event.');\n",
    "END;"
   ]
  },
  {
   "cell_type": "code",
   "execution_count": 165,
   "id": "dbe58ce8",
   "metadata": {},
   "outputs": [
    {
     "name": "stdout",
     "output_type": "stream",
     "text": [
      " * sqlite:///library.db\n",
      "Done.\n"
     ]
    },
    {
     "data": {
      "text/plain": [
       "[]"
      ]
     },
     "execution_count": 165,
     "metadata": {},
     "output_type": "execute_result"
    }
   ],
   "source": [
    "%%sql\n",
    "CREATE TRIGGER prevent_past_event_registration\n",
    "BEFORE INSERT ON EventRegistration\n",
    "FOR EACH ROW\n",
    "WHEN (\n",
    "    SELECT datetime(startTS) FROM Event WHERE startTS = NEW.startTS AND room = NEW.room\n",
    ") < datetime('now')\n",
    "BEGIN\n",
    "    SELECT RAISE(ABORT, 'Cannot register for past events.');\n",
    "END;"
   ]
  },
  {
   "cell_type": "code",
   "execution_count": 166,
   "id": "487fd6fc",
   "metadata": {},
   "outputs": [
    {
     "name": "stdout",
     "output_type": "stream",
     "text": [
      " * sqlite:///library.db\n",
      "Done.\n"
     ]
    },
    {
     "data": {
      "text/plain": [
       "[]"
      ]
     },
     "execution_count": 166,
     "metadata": {},
     "output_type": "execute_result"
    }
   ],
   "source": [
    "%%sql\n",
    "CREATE TRIGGER prevent_borrow_unavailable_item\n",
    "BEFORE INSERT ON BorrowedItem\n",
    "FOR EACH ROW\n",
    "WHEN (\n",
    "    SELECT COUNT(*) FROM BorrowedItem \n",
    "    WHERE libraryItemID = NEW.libraryItemID \n",
    "    AND returnedDate IS NULL\n",
    ") > 0\n",
    "BEGIN\n",
    "    SELECT RAISE(ABORT, 'The item is not available for borrowing.');\n",
    "END;"
   ]
  },
  {
   "cell_type": "code",
   "execution_count": 167,
   "id": "e1d3df05",
   "metadata": {},
   "outputs": [
    {
     "name": "stdout",
     "output_type": "stream",
     "text": [
      " * sqlite:///library.db\n",
      "Done.\n"
     ]
    },
    {
     "data": {
      "text/plain": [
       "[]"
      ]
     },
     "execution_count": 167,
     "metadata": {},
     "output_type": "execute_result"
    }
   ],
   "source": [
    "%%sql\n",
    "CREATE TRIGGER prevent_borrow_unavailable_item_tba\n",
    "BEFORE INSERT ON BorrowedItem\n",
    "FOR EACH ROW\n",
    "WHEN (\n",
    "    SELECT toBeAdded FROM LibraryItem WHERE libraryItemID = NEW.libraryItemID\n",
    ") = 1\n",
    "BEGIN\n",
    "    SELECT RAISE(ABORT, 'The item is not available for borrowing.');\n",
    "END;"
   ]
  },
  {
   "cell_type": "code",
   "execution_count": 168,
   "id": "bb978130",
   "metadata": {},
   "outputs": [
    {
     "name": "stdout",
     "output_type": "stream",
     "text": [
      " * sqlite:///library.db\n",
      "Done.\n"
     ]
    },
    {
     "data": {
      "text/plain": [
       "[]"
      ]
     },
     "execution_count": 168,
     "metadata": {},
     "output_type": "execute_result"
    }
   ],
   "source": [
    "%%sql\n",
    "CREATE TRIGGER prevent_excessive_borrowing\n",
    "BEFORE INSERT ON BorrowedItem\n",
    "FOR EACH ROW\n",
    "WHEN (\n",
    "    SELECT COUNT(*) FROM BorrowedItem WHERE userID = NEW.userID AND returnedDate IS NULL\n",
    ") >= 3\n",
    "BEGIN\n",
    "    SELECT RAISE(ABORT, 'Cannot borrow more than three items.');\n",
    "END;"
   ]
  },
  {
   "cell_type": "code",
   "execution_count": 169,
   "id": "4d1c4b5e",
   "metadata": {},
   "outputs": [
    {
     "name": "stdout",
     "output_type": "stream",
     "text": [
      " * sqlite:///library.db\n",
      "Done.\n"
     ]
    },
    {
     "data": {
      "text/html": [
       "<table>\n",
       "    <thead>\n",
       "        <tr>\n",
       "            <th>type</th>\n",
       "            <th>name</th>\n",
       "            <th>tbl_name</th>\n",
       "            <th>rootpage</th>\n",
       "            <th>sql</th>\n",
       "        </tr>\n",
       "    </thead>\n",
       "    <tbody>\n",
       "        <tr>\n",
       "            <td>trigger</td>\n",
       "            <td>prevent_multiple_returns</td>\n",
       "            <td>BorrowedItem</td>\n",
       "            <td>0</td>\n",
       "            <td>CREATE TRIGGER prevent_multiple_returns<br>BEFORE UPDATE OF returnedDate ON BorrowedItem<br>FOR EACH ROW<br>WHEN NEW.returnedDate IS NOT NULL AND OLD.returnedDate IS NOT NULL<br>BEGIN<br>    SELECT RAISE(ABORT, &#x27;The item has already been returned.&#x27;);<br>END</td>\n",
       "        </tr>\n",
       "        <tr>\n",
       "            <td>trigger</td>\n",
       "            <td>prevent_max_registrations</td>\n",
       "            <td>EventRegistration</td>\n",
       "            <td>0</td>\n",
       "            <td>CREATE TRIGGER prevent_max_registrations<br>BEFORE INSERT ON EventRegistration<br>FOR EACH ROW<br>WHEN (<br>    SELECT COUNT(*) FROM EventRegistration WHERE startTS = NEW.startTS AND room = NEW.room<br>) &gt;= (<br>    SELECT maxRegistrations FROM Event WHERE startTS = NEW.startTS AND room = NEW.room<br>)<br>BEGIN<br>    SELECT RAISE(ABORT, &#x27;Event is at max capacity.&#x27;);<br>END</td>\n",
       "        </tr>\n",
       "        <tr>\n",
       "            <td>trigger</td>\n",
       "            <td>prevent_duplicate_event_registration</td>\n",
       "            <td>EventRegistration</td>\n",
       "            <td>0</td>\n",
       "            <td>CREATE TRIGGER prevent_duplicate_event_registration<br>BEFORE INSERT ON EventRegistration<br>FOR EACH ROW<br>WHEN (<br>    SELECT COUNT(*) FROM EventRegistration<br>    WHERE startTS = NEW.startTS AND room = NEW.room AND userID = NEW.userID<br>) &gt; 0<br>BEGIN<br>    SELECT RAISE(ABORT, &#x27;The user has already registered for this event.&#x27;);<br>END</td>\n",
       "        </tr>\n",
       "        <tr>\n",
       "            <td>trigger</td>\n",
       "            <td>prevent_past_event_registration</td>\n",
       "            <td>EventRegistration</td>\n",
       "            <td>0</td>\n",
       "            <td>CREATE TRIGGER prevent_past_event_registration<br>BEFORE INSERT ON EventRegistration<br>FOR EACH ROW<br>WHEN (<br>    SELECT datetime(startTS) FROM Event WHERE startTS = NEW.startTS AND room = NEW.room<br>) &lt; datetime(&#x27;now&#x27;)<br>BEGIN<br>    SELECT RAISE(ABORT, &#x27;Cannot register for past events.&#x27;);<br>END</td>\n",
       "        </tr>\n",
       "        <tr>\n",
       "            <td>trigger</td>\n",
       "            <td>prevent_borrow_unavailable_item</td>\n",
       "            <td>BorrowedItem</td>\n",
       "            <td>0</td>\n",
       "            <td>CREATE TRIGGER prevent_borrow_unavailable_item<br>BEFORE INSERT ON BorrowedItem<br>FOR EACH ROW<br>WHEN (<br>    SELECT COUNT(*) FROM BorrowedItem <br>    WHERE libraryItemID = NEW.libraryItemID <br>    AND returnedDate IS NULL<br>) &gt; 0<br>BEGIN<br>    SELECT RAISE(ABORT, &#x27;The item is not available for borrowing.&#x27;);<br>END</td>\n",
       "        </tr>\n",
       "        <tr>\n",
       "            <td>trigger</td>\n",
       "            <td>prevent_borrow_unavailable_item_tba</td>\n",
       "            <td>BorrowedItem</td>\n",
       "            <td>0</td>\n",
       "            <td>CREATE TRIGGER prevent_borrow_unavailable_item_tba<br>BEFORE INSERT ON BorrowedItem<br>FOR EACH ROW<br>WHEN (<br>    SELECT toBeAdded FROM LibraryItem WHERE libraryItemID = NEW.libraryItemID<br>) = 1<br>BEGIN<br>    SELECT RAISE(ABORT, &#x27;The item is not available for borrowing.&#x27;);<br>END</td>\n",
       "        </tr>\n",
       "        <tr>\n",
       "            <td>trigger</td>\n",
       "            <td>prevent_excessive_borrowing</td>\n",
       "            <td>BorrowedItem</td>\n",
       "            <td>0</td>\n",
       "            <td>CREATE TRIGGER prevent_excessive_borrowing<br>BEFORE INSERT ON BorrowedItem<br>FOR EACH ROW<br>WHEN (<br>    SELECT COUNT(*) FROM BorrowedItem WHERE userID = NEW.userID AND returnedDate IS NULL<br>) &gt;= 3<br>BEGIN<br>    SELECT RAISE(ABORT, &#x27;Cannot borrow more than three items.&#x27;);<br>END</td>\n",
       "        </tr>\n",
       "    </tbody>\n",
       "</table>"
      ],
      "text/plain": [
       "[('trigger', 'prevent_multiple_returns', 'BorrowedItem', 0, \"CREATE TRIGGER prevent_multiple_returns\\nBEFORE UPDATE OF returnedDate ON BorrowedItem\\nFOR EACH ROW\\nWHEN NEW.returnedDate IS NOT NULL AND OLD.returnedDate IS NOT NULL\\nBEGIN\\n    SELECT RAISE(ABORT, 'The item has already been returned.');\\nEND\"),\n",
       " ('trigger', 'prevent_max_registrations', 'EventRegistration', 0, \"CREATE TRIGGER prevent_max_registrations\\nBEFORE INSERT ON EventRegistration\\nFOR EACH ROW\\nWHEN (\\n    SELECT COUNT(*) FROM EventRegistration WHERE  ... (58 characters truncated) ... ECT maxRegistrations FROM Event WHERE startTS = NEW.startTS AND room = NEW.room\\n)\\nBEGIN\\n    SELECT RAISE(ABORT, 'Event is at max capacity.');\\nEND\"),\n",
       " ('trigger', 'prevent_duplicate_event_registration', 'EventRegistration', 0, \"CREATE TRIGGER prevent_duplicate_event_registration\\nBEFORE INSERT ON EventRegistration\\nFOR EACH ROW\\nWHEN (\\n    SELECT COUNT(*) FROM EventRegistra ... (28 characters truncated) ... W.startTS AND room = NEW.room AND userID = NEW.userID\\n) > 0\\nBEGIN\\n    SELECT RAISE(ABORT, 'The user has already registered for this event.');\\nEND\"),\n",
       " ('trigger', 'prevent_past_event_registration', 'EventRegistration', 0, \"CREATE TRIGGER prevent_past_event_registration\\nBEFORE INSERT ON EventRegistration\\nFOR EACH ROW\\nWHEN (\\n    SELECT datetime(startTS) FROM Event WHERE startTS = NEW.startTS AND room = NEW.room\\n) < datetime('now')\\nBEGIN\\n    SELECT RAISE(ABORT, 'Cannot register for past events.');\\nEND\"),\n",
       " ('trigger', 'prevent_borrow_unavailable_item', 'BorrowedItem', 0, \"CREATE TRIGGER prevent_borrow_unavailable_item\\nBEFORE INSERT ON BorrowedItem\\nFOR EACH ROW\\nWHEN (\\n    SELECT COUNT(*) FROM BorrowedItem \\n    WHER ... (6 characters truncated) ... aryItemID = NEW.libraryItemID \\n    AND returnedDate IS NULL\\n) > 0\\nBEGIN\\n    SELECT RAISE(ABORT, 'The item is not available for borrowing.');\\nEND\"),\n",
       " ('trigger', 'prevent_borrow_unavailable_item_tba', 'BorrowedItem', 0, \"CREATE TRIGGER prevent_borrow_unavailable_item_tba\\nBEFORE INSERT ON BorrowedItem\\nFOR EACH ROW\\nWHEN (\\n    SELECT toBeAdded FROM LibraryItem WHERE libraryItemID = NEW.libraryItemID\\n) = 1\\nBEGIN\\n    SELECT RAISE(ABORT, 'The item is not available for borrowing.');\\nEND\"),\n",
       " ('trigger', 'prevent_excessive_borrowing', 'BorrowedItem', 0, \"CREATE TRIGGER prevent_excessive_borrowing\\nBEFORE INSERT ON BorrowedItem\\nFOR EACH ROW\\nWHEN (\\n    SELECT COUNT(*) FROM BorrowedItem WHERE userID = NEW.userID AND returnedDate IS NULL\\n) >= 3\\nBEGIN\\n    SELECT RAISE(ABORT, 'Cannot borrow more than three items.');\\nEND\")]"
      ]
     },
     "execution_count": 169,
     "metadata": {},
     "output_type": "execute_result"
    }
   ],
   "source": [
    "%%sql\n",
    "SELECT * FROM sqlite_master WHERE type = 'trigger'; "
   ]
  },
  {
   "cell_type": "markdown",
   "id": "859f9dc8",
   "metadata": {},
   "source": [
    "# INDEXING"
   ]
  },
  {
   "cell_type": "code",
   "execution_count": 160,
   "id": "2a45e8c5",
   "metadata": {},
   "outputs": [
    {
     "name": "stdout",
     "output_type": "stream",
     "text": [
      " * sqlite:///library.db\n",
      "Done.\n"
     ]
    },
    {
     "data": {
      "text/html": [
       "<table>\n",
       "    <thead>\n",
       "        <tr>\n",
       "            <th>type</th>\n",
       "            <th>name</th>\n",
       "            <th>tbl_name</th>\n",
       "            <th>rootpage</th>\n",
       "            <th>sql</th>\n",
       "        </tr>\n",
       "    </thead>\n",
       "    <tbody>\n",
       "        <tr>\n",
       "            <td>index</td>\n",
       "            <td>sqlite_autoindex_BorrowedItem_1</td>\n",
       "            <td>BorrowedItem</td>\n",
       "            <td>8</td>\n",
       "            <td>None</td>\n",
       "        </tr>\n",
       "        <tr>\n",
       "            <td>index</td>\n",
       "            <td>sqlite_autoindex_Event_1</td>\n",
       "            <td>Event</td>\n",
       "            <td>10</td>\n",
       "            <td>None</td>\n",
       "        </tr>\n",
       "        <tr>\n",
       "            <td>index</td>\n",
       "            <td>sqlite_autoindex_EventRegistration_1</td>\n",
       "            <td>EventRegistration</td>\n",
       "            <td>12</td>\n",
       "            <td>None</td>\n",
       "        </tr>\n",
       "    </tbody>\n",
       "</table>"
      ],
      "text/plain": [
       "[('index', 'sqlite_autoindex_BorrowedItem_1', 'BorrowedItem', 8, None),\n",
       " ('index', 'sqlite_autoindex_Event_1', 'Event', 10, None),\n",
       " ('index', 'sqlite_autoindex_EventRegistration_1', 'EventRegistration', 12, None)]"
      ]
     },
     "execution_count": 160,
     "metadata": {},
     "output_type": "execute_result"
    }
   ],
   "source": [
    "%%sql\n",
    "SELECT * FROM sqlite_master WHERE type = 'index'; "
   ]
  },
  {
   "cell_type": "code",
   "execution_count": 161,
   "id": "19f402b6",
   "metadata": {},
   "outputs": [
    {
     "name": "stdout",
     "output_type": "stream",
     "text": [
      " * sqlite:///library.db\n",
      "Done.\n",
      "Done.\n",
      "Done.\n"
     ]
    },
    {
     "data": {
      "text/plain": [
       "[]"
      ]
     },
     "execution_count": 161,
     "metadata": {},
     "output_type": "execute_result"
    }
   ],
   "source": [
    "%%sql\n",
    "--CREATE INDEX pk_user_id ON User(userID);\n",
    "--CREATE INDEX pk_librarian_id ON Librarian(librarianID);\n",
    "--CREATE INDEX pk_libraryitem_id ON LibraryItem(libraryItemID);\n",
    "--CREATE INDEX pk_item_id ON Item(itemID);\n",
    "CREATE INDEX ck_libraryitem_id ON LibraryItem(itemID);\n",
    "CREATE INDEX ck_event_room ON Event(room);\n",
    "CREATE INDEX ck_eventregistration_userid ON EventRegistration(userID);\n"
   ]
  },
  {
   "cell_type": "markdown",
   "id": "dc13d22a",
   "metadata": {},
   "source": [
    "# Populating tables"
   ]
  },
  {
   "cell_type": "markdown",
   "id": "7f0bd186",
   "metadata": {},
   "source": [
    "## Table: Item"
   ]
  },
  {
   "cell_type": "markdown",
   "id": "94db1a9e",
   "metadata": {},
   "source": [
    "### Books"
   ]
  },
  {
   "cell_type": "code",
   "execution_count": 22,
   "id": "a820d735",
   "metadata": {},
   "outputs": [
    {
     "data": {
      "text/html": [
       "<div>\n",
       "<style scoped>\n",
       "    .dataframe tbody tr th:only-of-type {\n",
       "        vertical-align: middle;\n",
       "    }\n",
       "\n",
       "    .dataframe tbody tr th {\n",
       "        vertical-align: top;\n",
       "    }\n",
       "\n",
       "    .dataframe thead th {\n",
       "        text-align: right;\n",
       "    }\n",
       "</style>\n",
       "<table border=\"1\" class=\"dataframe\">\n",
       "  <thead>\n",
       "    <tr style=\"text-align: right;\">\n",
       "      <th></th>\n",
       "      <th>author</th>\n",
       "      <th>itemName</th>\n",
       "      <th>type</th>\n",
       "    </tr>\n",
       "  </thead>\n",
       "  <tbody>\n",
       "    <tr>\n",
       "      <th>0</th>\n",
       "      <td>Suzanne Collins</td>\n",
       "      <td>The Hunger Games</td>\n",
       "      <td>book</td>\n",
       "    </tr>\n",
       "    <tr>\n",
       "      <th>1</th>\n",
       "      <td>J.K. Rowling, Mary GrandPré (Illustrator)</td>\n",
       "      <td>Harry Potter and the Order of the Phoenix</td>\n",
       "      <td>book</td>\n",
       "    </tr>\n",
       "    <tr>\n",
       "      <th>2</th>\n",
       "      <td>Harper Lee</td>\n",
       "      <td>To Kill a Mockingbird</td>\n",
       "      <td>book</td>\n",
       "    </tr>\n",
       "    <tr>\n",
       "      <th>3</th>\n",
       "      <td>Jane Austen, Anna Quindlen (Introduction)</td>\n",
       "      <td>Pride and Prejudice</td>\n",
       "      <td>book</td>\n",
       "    </tr>\n",
       "    <tr>\n",
       "      <th>4</th>\n",
       "      <td>Stephenie Meyer</td>\n",
       "      <td>Twilight</td>\n",
       "      <td>book</td>\n",
       "    </tr>\n",
       "  </tbody>\n",
       "</table>\n",
       "</div>"
      ],
      "text/plain": [
       "                                      author  \\\n",
       "0                            Suzanne Collins   \n",
       "1  J.K. Rowling, Mary GrandPré (Illustrator)   \n",
       "2                                 Harper Lee   \n",
       "3  Jane Austen, Anna Quindlen (Introduction)   \n",
       "4                            Stephenie Meyer   \n",
       "\n",
       "                                    itemName  type  \n",
       "0                           The Hunger Games  book  \n",
       "1  Harry Potter and the Order of the Phoenix  book  \n",
       "2                      To Kill a Mockingbird  book  \n",
       "3                        Pride and Prejudice  book  \n",
       "4                                   Twilight  book  "
      ]
     },
     "execution_count": 22,
     "metadata": {},
     "output_type": "execute_result"
    }
   ],
   "source": [
    "books = pd.read_csv('..//data//books2.csv').iloc[:10]\n",
    "books = books[['author', 'title']]\n",
    "books.rename(columns={'title':'itemName'}, inplace=True)\n",
    "books.loc[:,'type'] = 'book'\n",
    "books.drop_duplicates(subset=['itemName'], inplace=True)\n",
    "books.head(5)"
   ]
  },
  {
   "cell_type": "markdown",
   "id": "a4144328",
   "metadata": {},
   "source": [
    "### Movies"
   ]
  },
  {
   "cell_type": "code",
   "execution_count": 23,
   "id": "52e24ed8",
   "metadata": {},
   "outputs": [
    {
     "data": {
      "text/html": [
       "<div>\n",
       "<style scoped>\n",
       "    .dataframe tbody tr th:only-of-type {\n",
       "        vertical-align: middle;\n",
       "    }\n",
       "\n",
       "    .dataframe tbody tr th {\n",
       "        vertical-align: top;\n",
       "    }\n",
       "\n",
       "    .dataframe thead th {\n",
       "        text-align: right;\n",
       "    }\n",
       "</style>\n",
       "<table border=\"1\" class=\"dataframe\">\n",
       "  <thead>\n",
       "    <tr style=\"text-align: right;\">\n",
       "      <th></th>\n",
       "      <th>itemName</th>\n",
       "      <th>type</th>\n",
       "      <th>author</th>\n",
       "    </tr>\n",
       "  </thead>\n",
       "  <tbody>\n",
       "    <tr>\n",
       "      <th>0</th>\n",
       "      <td>Toy Story</td>\n",
       "      <td>movie</td>\n",
       "      <td>nan</td>\n",
       "    </tr>\n",
       "    <tr>\n",
       "      <th>1</th>\n",
       "      <td>Jumanji</td>\n",
       "      <td>movie</td>\n",
       "      <td>nan</td>\n",
       "    </tr>\n",
       "    <tr>\n",
       "      <th>2</th>\n",
       "      <td>Grumpier Old Men</td>\n",
       "      <td>movie</td>\n",
       "      <td>nan</td>\n",
       "    </tr>\n",
       "    <tr>\n",
       "      <th>3</th>\n",
       "      <td>Waiting to Exhale</td>\n",
       "      <td>movie</td>\n",
       "      <td>nan</td>\n",
       "    </tr>\n",
       "    <tr>\n",
       "      <th>4</th>\n",
       "      <td>Father of the Bride Part II</td>\n",
       "      <td>movie</td>\n",
       "      <td>nan</td>\n",
       "    </tr>\n",
       "  </tbody>\n",
       "</table>\n",
       "</div>"
      ],
      "text/plain": [
       "                      itemName   type author\n",
       "0                    Toy Story  movie    nan\n",
       "1                      Jumanji  movie    nan\n",
       "2             Grumpier Old Men  movie    nan\n",
       "3            Waiting to Exhale  movie    nan\n",
       "4  Father of the Bride Part II  movie    nan"
      ]
     },
     "execution_count": 23,
     "metadata": {},
     "output_type": "execute_result"
    }
   ],
   "source": [
    "movies = pd.read_csv('..//data/movies.csv')[:5]\n",
    "movies.rename(columns={'title':'itemName'}, inplace=True)\n",
    "for row in range(0,len(movies)):\n",
    "    movies.loc[row,'itemName'] = movies.iloc[row]['itemName'][:-7]\n",
    "movies.loc[:, 'type'] = 'movie'\n",
    "movies.loc[:, 'author'] = 'nan'\n",
    "movies.drop(columns=['movieId', 'genres'], inplace=True)\n",
    "movies.head(5)"
   ]
  },
  {
   "cell_type": "markdown",
   "id": "c65f41ac",
   "metadata": {},
   "source": [
    "### Songs"
   ]
  },
  {
   "cell_type": "code",
   "execution_count": 24,
   "id": "cf3efbba",
   "metadata": {},
   "outputs": [
    {
     "data": {
      "text/html": [
       "<div>\n",
       "<style scoped>\n",
       "    .dataframe tbody tr th:only-of-type {\n",
       "        vertical-align: middle;\n",
       "    }\n",
       "\n",
       "    .dataframe tbody tr th {\n",
       "        vertical-align: top;\n",
       "    }\n",
       "\n",
       "    .dataframe thead th {\n",
       "        text-align: right;\n",
       "    }\n",
       "</style>\n",
       "<table border=\"1\" class=\"dataframe\">\n",
       "  <thead>\n",
       "    <tr style=\"text-align: right;\">\n",
       "      <th></th>\n",
       "      <th>author</th>\n",
       "      <th>itemName</th>\n",
       "      <th>type</th>\n",
       "    </tr>\n",
       "  </thead>\n",
       "  <tbody>\n",
       "    <tr>\n",
       "      <th>56959</th>\n",
       "      <td>XTC</td>\n",
       "      <td>Funk Pop A Roll</td>\n",
       "      <td>song</td>\n",
       "    </tr>\n",
       "    <tr>\n",
       "      <th>30238</th>\n",
       "      <td>Doobie Brothers</td>\n",
       "      <td>Daughters Of The Sea</td>\n",
       "      <td>song</td>\n",
       "    </tr>\n",
       "    <tr>\n",
       "      <th>37033</th>\n",
       "      <td>INXS</td>\n",
       "      <td>Black And White</td>\n",
       "      <td>song</td>\n",
       "    </tr>\n",
       "    <tr>\n",
       "      <th>10586</th>\n",
       "      <td>King Crimson</td>\n",
       "      <td>Exiles</td>\n",
       "      <td>song</td>\n",
       "    </tr>\n",
       "    <tr>\n",
       "      <th>56802</th>\n",
       "      <td>Wyclef Jean</td>\n",
       "      <td>Low Income</td>\n",
       "      <td>song</td>\n",
       "    </tr>\n",
       "  </tbody>\n",
       "</table>\n",
       "</div>"
      ],
      "text/plain": [
       "                author              itemName  type\n",
       "56959              XTC       Funk Pop A Roll  song\n",
       "30238  Doobie Brothers  Daughters Of The Sea  song\n",
       "37033             INXS       Black And White  song\n",
       "10586     King Crimson                Exiles  song\n",
       "56802      Wyclef Jean            Low Income  song"
      ]
     },
     "execution_count": 24,
     "metadata": {},
     "output_type": "execute_result"
    }
   ],
   "source": [
    "songs_full = pd.read_csv('..//data/songs.csv')\n",
    "songs_full.rename(columns={'song':'itemName','artist':'author'}, inplace=True)\n",
    "songs = pd.DataFrame()\n",
    "for row in range(0,5):\n",
    "    random_song = songs_full.sample()\n",
    "    songs = pd.concat([songs,random_song])\n",
    "songs.loc[:,'type'] = 'song'\n",
    "songs.drop(columns=['link', 'text'], inplace=True)\n",
    "songs.head(5)"
   ]
  },
  {
   "cell_type": "markdown",
   "id": "1b47e9af",
   "metadata": {},
   "source": [
    "### Papers"
   ]
  },
  {
   "cell_type": "code",
   "execution_count": 25,
   "id": "aad84c51",
   "metadata": {},
   "outputs": [
    {
     "data": {
      "text/html": [
       "<div>\n",
       "<style scoped>\n",
       "    .dataframe tbody tr th:only-of-type {\n",
       "        vertical-align: middle;\n",
       "    }\n",
       "\n",
       "    .dataframe tbody tr th {\n",
       "        vertical-align: top;\n",
       "    }\n",
       "\n",
       "    .dataframe thead th {\n",
       "        text-align: right;\n",
       "    }\n",
       "</style>\n",
       "<table border=\"1\" class=\"dataframe\">\n",
       "  <thead>\n",
       "    <tr style=\"text-align: right;\">\n",
       "      <th></th>\n",
       "      <th>author</th>\n",
       "      <th>itemName</th>\n",
       "      <th>type</th>\n",
       "    </tr>\n",
       "  </thead>\n",
       "  <tbody>\n",
       "    <tr>\n",
       "      <th>0</th>\n",
       "      <td>Abigail See</td>\n",
       "      <td>A Discourse-Aware Attention Model for Abstract...</td>\n",
       "      <td>paper</td>\n",
       "    </tr>\n",
       "    <tr>\n",
       "      <th>0</th>\n",
       "      <td>Martin Ester</td>\n",
       "      <td>A Density-Based Algorithm for Discovering Clus...</td>\n",
       "      <td>paper</td>\n",
       "    </tr>\n",
       "  </tbody>\n",
       "</table>\n",
       "</div>"
      ],
      "text/plain": [
       "         author                                           itemName   type\n",
       "0   Abigail See  A Discourse-Aware Attention Model for Abstract...  paper\n",
       "0  Martin Ester  A Density-Based Algorithm for Discovering Clus...  paper"
      ]
     },
     "execution_count": 25,
     "metadata": {},
     "output_type": "execute_result"
    }
   ],
   "source": [
    "paper1 = pd.DataFrame(pd.Series({'author':'Abigail See', 'itemName':'A Discourse-Aware Attention Model for Abstractive Summarization of Long Documents', 'type':'paper'})).transpose()\n",
    "paper2 = pd.DataFrame(pd.Series({'author':'Martin Ester', 'itemName':'A Density-Based Algorithm for Discovering Clusters in Large Spatial Databases with Noise ', 'type':'paper'})).transpose()\n",
    "papers = pd.concat([paper1, paper2])\n",
    "papers"
   ]
  },
  {
   "cell_type": "code",
   "execution_count": 26,
   "id": "489839dc",
   "metadata": {},
   "outputs": [],
   "source": [
    "Item = pd.concat([books, movies, songs, papers])\n",
    "Item.reset_index(drop=True, inplace=True)\n",
    "Item.index.names = ['itemID']"
   ]
  },
  {
   "cell_type": "code",
   "execution_count": 27,
   "id": "0f372e02",
   "metadata": {},
   "outputs": [],
   "source": [
    "for row in range(0,len(Item)):\n",
    "    itemName = Item.iloc[row]['author']\n",
    "    comma_index = itemName.find(',')\n",
    "    if (comma_index>1):\n",
    "        author_solo = itemName[0:comma_index]\n",
    "        Item.loc[row,'author'] = author_solo\n"
   ]
  },
  {
   "cell_type": "code",
   "execution_count": 28,
   "id": "cfc3781b",
   "metadata": {},
   "outputs": [
    {
     "data": {
      "text/html": [
       "<div>\n",
       "<style scoped>\n",
       "    .dataframe tbody tr th:only-of-type {\n",
       "        vertical-align: middle;\n",
       "    }\n",
       "\n",
       "    .dataframe tbody tr th {\n",
       "        vertical-align: top;\n",
       "    }\n",
       "\n",
       "    .dataframe thead th {\n",
       "        text-align: right;\n",
       "    }\n",
       "</style>\n",
       "<table border=\"1\" class=\"dataframe\">\n",
       "  <thead>\n",
       "    <tr style=\"text-align: right;\">\n",
       "      <th></th>\n",
       "      <th>author</th>\n",
       "      <th>itemName</th>\n",
       "      <th>type</th>\n",
       "    </tr>\n",
       "    <tr>\n",
       "      <th>itemID</th>\n",
       "      <th></th>\n",
       "      <th></th>\n",
       "      <th></th>\n",
       "    </tr>\n",
       "  </thead>\n",
       "  <tbody>\n",
       "    <tr>\n",
       "      <th>0</th>\n",
       "      <td>Suzanne Collins</td>\n",
       "      <td>The Hunger Games</td>\n",
       "      <td>book</td>\n",
       "    </tr>\n",
       "    <tr>\n",
       "      <th>1</th>\n",
       "      <td>J.K. Rowling</td>\n",
       "      <td>Harry Potter and the Order of the Phoenix</td>\n",
       "      <td>book</td>\n",
       "    </tr>\n",
       "    <tr>\n",
       "      <th>2</th>\n",
       "      <td>Harper Lee</td>\n",
       "      <td>To Kill a Mockingbird</td>\n",
       "      <td>book</td>\n",
       "    </tr>\n",
       "    <tr>\n",
       "      <th>3</th>\n",
       "      <td>Jane Austen</td>\n",
       "      <td>Pride and Prejudice</td>\n",
       "      <td>book</td>\n",
       "    </tr>\n",
       "    <tr>\n",
       "      <th>4</th>\n",
       "      <td>Stephenie Meyer</td>\n",
       "      <td>Twilight</td>\n",
       "      <td>book</td>\n",
       "    </tr>\n",
       "    <tr>\n",
       "      <th>5</th>\n",
       "      <td>Markus Zusak (Goodreads Author)</td>\n",
       "      <td>The Book Thief</td>\n",
       "      <td>book</td>\n",
       "    </tr>\n",
       "    <tr>\n",
       "      <th>6</th>\n",
       "      <td>George Orwell</td>\n",
       "      <td>Animal Farm</td>\n",
       "      <td>book</td>\n",
       "    </tr>\n",
       "    <tr>\n",
       "      <th>7</th>\n",
       "      <td>C.S. Lewis</td>\n",
       "      <td>The Chronicles of Narnia</td>\n",
       "      <td>book</td>\n",
       "    </tr>\n",
       "    <tr>\n",
       "      <th>8</th>\n",
       "      <td>J.R.R. Tolkien</td>\n",
       "      <td>J.R.R. Tolkien 4-Book Boxed Set: The Hobbit an...</td>\n",
       "      <td>book</td>\n",
       "    </tr>\n",
       "    <tr>\n",
       "      <th>9</th>\n",
       "      <td>Margaret Mitchell</td>\n",
       "      <td>Gone with the Wind</td>\n",
       "      <td>book</td>\n",
       "    </tr>\n",
       "    <tr>\n",
       "      <th>10</th>\n",
       "      <td>nan</td>\n",
       "      <td>Toy Story</td>\n",
       "      <td>movie</td>\n",
       "    </tr>\n",
       "    <tr>\n",
       "      <th>11</th>\n",
       "      <td>nan</td>\n",
       "      <td>Jumanji</td>\n",
       "      <td>movie</td>\n",
       "    </tr>\n",
       "    <tr>\n",
       "      <th>12</th>\n",
       "      <td>nan</td>\n",
       "      <td>Grumpier Old Men</td>\n",
       "      <td>movie</td>\n",
       "    </tr>\n",
       "    <tr>\n",
       "      <th>13</th>\n",
       "      <td>nan</td>\n",
       "      <td>Waiting to Exhale</td>\n",
       "      <td>movie</td>\n",
       "    </tr>\n",
       "    <tr>\n",
       "      <th>14</th>\n",
       "      <td>nan</td>\n",
       "      <td>Father of the Bride Part II</td>\n",
       "      <td>movie</td>\n",
       "    </tr>\n",
       "    <tr>\n",
       "      <th>15</th>\n",
       "      <td>XTC</td>\n",
       "      <td>Funk Pop A Roll</td>\n",
       "      <td>song</td>\n",
       "    </tr>\n",
       "    <tr>\n",
       "      <th>16</th>\n",
       "      <td>Doobie Brothers</td>\n",
       "      <td>Daughters Of The Sea</td>\n",
       "      <td>song</td>\n",
       "    </tr>\n",
       "    <tr>\n",
       "      <th>17</th>\n",
       "      <td>INXS</td>\n",
       "      <td>Black And White</td>\n",
       "      <td>song</td>\n",
       "    </tr>\n",
       "    <tr>\n",
       "      <th>18</th>\n",
       "      <td>King Crimson</td>\n",
       "      <td>Exiles</td>\n",
       "      <td>song</td>\n",
       "    </tr>\n",
       "    <tr>\n",
       "      <th>19</th>\n",
       "      <td>Wyclef Jean</td>\n",
       "      <td>Low Income</td>\n",
       "      <td>song</td>\n",
       "    </tr>\n",
       "    <tr>\n",
       "      <th>20</th>\n",
       "      <td>Abigail See</td>\n",
       "      <td>A Discourse-Aware Attention Model for Abstract...</td>\n",
       "      <td>paper</td>\n",
       "    </tr>\n",
       "    <tr>\n",
       "      <th>21</th>\n",
       "      <td>Martin Ester</td>\n",
       "      <td>A Density-Based Algorithm for Discovering Clus...</td>\n",
       "      <td>paper</td>\n",
       "    </tr>\n",
       "  </tbody>\n",
       "</table>\n",
       "</div>"
      ],
      "text/plain": [
       "                                 author  \\\n",
       "itemID                                    \n",
       "0                       Suzanne Collins   \n",
       "1                          J.K. Rowling   \n",
       "2                            Harper Lee   \n",
       "3                           Jane Austen   \n",
       "4                       Stephenie Meyer   \n",
       "5       Markus Zusak (Goodreads Author)   \n",
       "6                         George Orwell   \n",
       "7                            C.S. Lewis   \n",
       "8                        J.R.R. Tolkien   \n",
       "9                     Margaret Mitchell   \n",
       "10                                  nan   \n",
       "11                                  nan   \n",
       "12                                  nan   \n",
       "13                                  nan   \n",
       "14                                  nan   \n",
       "15                                  XTC   \n",
       "16                      Doobie Brothers   \n",
       "17                                 INXS   \n",
       "18                         King Crimson   \n",
       "19                          Wyclef Jean   \n",
       "20                          Abigail See   \n",
       "21                         Martin Ester   \n",
       "\n",
       "                                                 itemName   type  \n",
       "itemID                                                            \n",
       "0                                        The Hunger Games   book  \n",
       "1               Harry Potter and the Order of the Phoenix   book  \n",
       "2                                   To Kill a Mockingbird   book  \n",
       "3                                     Pride and Prejudice   book  \n",
       "4                                                Twilight   book  \n",
       "5                                          The Book Thief   book  \n",
       "6                                             Animal Farm   book  \n",
       "7                                The Chronicles of Narnia   book  \n",
       "8       J.R.R. Tolkien 4-Book Boxed Set: The Hobbit an...   book  \n",
       "9                                      Gone with the Wind   book  \n",
       "10                                              Toy Story  movie  \n",
       "11                                                Jumanji  movie  \n",
       "12                                       Grumpier Old Men  movie  \n",
       "13                                      Waiting to Exhale  movie  \n",
       "14                            Father of the Bride Part II  movie  \n",
       "15                                        Funk Pop A Roll   song  \n",
       "16                                   Daughters Of The Sea   song  \n",
       "17                                        Black And White   song  \n",
       "18                                                 Exiles   song  \n",
       "19                                             Low Income   song  \n",
       "20      A Discourse-Aware Attention Model for Abstract...  paper  \n",
       "21      A Density-Based Algorithm for Discovering Clus...  paper  "
      ]
     },
     "execution_count": 28,
     "metadata": {},
     "output_type": "execute_result"
    }
   ],
   "source": [
    "Item"
   ]
  },
  {
   "cell_type": "code",
   "execution_count": 29,
   "id": "bfc9184a",
   "metadata": {},
   "outputs": [],
   "source": [
    "Item.to_csv('..//data//Item.csv')"
   ]
  },
  {
   "cell_type": "markdown",
   "id": "641ee799",
   "metadata": {},
   "source": [
    "## LibraryItem"
   ]
  },
  {
   "cell_type": "code",
   "execution_count": 30,
   "id": "eb21503c",
   "metadata": {},
   "outputs": [],
   "source": [
    "num_copy = 8\n",
    "LibraryItem = Item.copy()\n",
    "for i in range(num_copy):\n",
    "    item_copy = Item.sample()\n",
    "    LibraryItem = pd.concat([LibraryItem, item_copy])\n"
   ]
  },
  {
   "cell_type": "code",
   "execution_count": 31,
   "id": "ba9ff4c6",
   "metadata": {},
   "outputs": [],
   "source": [
    "LibraryItem.reset_index(inplace=True)\n",
    "LibraryItem.index.names = ['libraryItemID']\n",
    "LibraryItem.drop(columns=['author','itemName','type'], inplace=True)\n",
    "LibraryItem['toBeAdded'] = None"
   ]
  },
  {
   "cell_type": "code",
   "execution_count": 32,
   "id": "996f2363",
   "metadata": {},
   "outputs": [],
   "source": [
    "LibraryItem.loc[12,'toBeAdded'] = True"
   ]
  },
  {
   "cell_type": "code",
   "execution_count": 33,
   "id": "b3c6bf79",
   "metadata": {},
   "outputs": [],
   "source": [
    "LibraryItem.to_csv('..//data//LibraryItem.csv')"
   ]
  },
  {
   "cell_type": "markdown",
   "id": "71cd06f3",
   "metadata": {},
   "source": [
    "## Librarian"
   ]
  },
  {
   "cell_type": "code",
   "execution_count": 35,
   "id": "0cce0f85",
   "metadata": {},
   "outputs": [],
   "source": [
    "numLibrarians = 10\n",
    "departments = ['admin', 'catalog', 'circulation', 'infotech']\n",
    "Librarian = pd.DataFrame()\n",
    "for librarianID in range(1,numLibrarians+1):\n",
    "    firstName = names.get_first_name()\n",
    "    lastName = names.get_last_name()\n",
    "    department = np.random.choice(departments)\n",
    "\n",
    "    salary = np.random.randint(40000,90000)\n",
    "    salary = round(salary, -3)\n",
    "        \n",
    "    librarian = pd.DataFrame(pd.Series({'firstName':firstName, 'lastName':lastName, 'department':department, 'salary':salary})).transpose()\n",
    "    Librarian = pd.concat([Librarian, librarian])\n",
    "    \n",
    "\n",
    "librarian = pd.DataFrame(pd.Series({'firstName':'Joe', 'lastName':'Black', 'department':'volunteer', 'salary':0})).transpose()\n",
    "Librarian = pd.concat([Librarian, librarian])\n",
    "    \n",
    "Librarian.dropna(inplace=True)\n"
   ]
  },
  {
   "cell_type": "code",
   "execution_count": 36,
   "id": "0cafc536",
   "metadata": {},
   "outputs": [
    {
     "data": {
      "text/html": [
       "<div>\n",
       "<style scoped>\n",
       "    .dataframe tbody tr th:only-of-type {\n",
       "        vertical-align: middle;\n",
       "    }\n",
       "\n",
       "    .dataframe tbody tr th {\n",
       "        vertical-align: top;\n",
       "    }\n",
       "\n",
       "    .dataframe thead th {\n",
       "        text-align: right;\n",
       "    }\n",
       "</style>\n",
       "<table border=\"1\" class=\"dataframe\">\n",
       "  <thead>\n",
       "    <tr style=\"text-align: right;\">\n",
       "      <th></th>\n",
       "      <th>firstName</th>\n",
       "      <th>lastName</th>\n",
       "      <th>department</th>\n",
       "      <th>salary</th>\n",
       "    </tr>\n",
       "    <tr>\n",
       "      <th>librarianID</th>\n",
       "      <th></th>\n",
       "      <th></th>\n",
       "      <th></th>\n",
       "      <th></th>\n",
       "    </tr>\n",
       "  </thead>\n",
       "  <tbody>\n",
       "    <tr>\n",
       "      <th>0</th>\n",
       "      <td>Barbara</td>\n",
       "      <td>Fortner</td>\n",
       "      <td>infotech</td>\n",
       "      <td>46000</td>\n",
       "    </tr>\n",
       "    <tr>\n",
       "      <th>1</th>\n",
       "      <td>Eugenia</td>\n",
       "      <td>King</td>\n",
       "      <td>admin</td>\n",
       "      <td>61000</td>\n",
       "    </tr>\n",
       "    <tr>\n",
       "      <th>2</th>\n",
       "      <td>Joseph</td>\n",
       "      <td>Taylor</td>\n",
       "      <td>circulation</td>\n",
       "      <td>52000</td>\n",
       "    </tr>\n",
       "    <tr>\n",
       "      <th>3</th>\n",
       "      <td>Robert</td>\n",
       "      <td>Grays</td>\n",
       "      <td>admin</td>\n",
       "      <td>48000</td>\n",
       "    </tr>\n",
       "    <tr>\n",
       "      <th>4</th>\n",
       "      <td>Lucy</td>\n",
       "      <td>Johnson</td>\n",
       "      <td>catalog</td>\n",
       "      <td>71000</td>\n",
       "    </tr>\n",
       "    <tr>\n",
       "      <th>5</th>\n",
       "      <td>Amy</td>\n",
       "      <td>Espada</td>\n",
       "      <td>catalog</td>\n",
       "      <td>52000</td>\n",
       "    </tr>\n",
       "    <tr>\n",
       "      <th>6</th>\n",
       "      <td>Joseph</td>\n",
       "      <td>Barrier</td>\n",
       "      <td>admin</td>\n",
       "      <td>90000</td>\n",
       "    </tr>\n",
       "    <tr>\n",
       "      <th>7</th>\n",
       "      <td>Linda</td>\n",
       "      <td>Lamb</td>\n",
       "      <td>admin</td>\n",
       "      <td>74000</td>\n",
       "    </tr>\n",
       "    <tr>\n",
       "      <th>8</th>\n",
       "      <td>Luella</td>\n",
       "      <td>Holiday</td>\n",
       "      <td>admin</td>\n",
       "      <td>76000</td>\n",
       "    </tr>\n",
       "    <tr>\n",
       "      <th>9</th>\n",
       "      <td>Todd</td>\n",
       "      <td>Norris</td>\n",
       "      <td>circulation</td>\n",
       "      <td>55000</td>\n",
       "    </tr>\n",
       "    <tr>\n",
       "      <th>10</th>\n",
       "      <td>Joe</td>\n",
       "      <td>Black</td>\n",
       "      <td>volunteer</td>\n",
       "      <td>0</td>\n",
       "    </tr>\n",
       "  </tbody>\n",
       "</table>\n",
       "</div>"
      ],
      "text/plain": [
       "            firstName lastName   department salary\n",
       "librarianID                                       \n",
       "0             Barbara  Fortner     infotech  46000\n",
       "1             Eugenia     King        admin  61000\n",
       "2              Joseph   Taylor  circulation  52000\n",
       "3              Robert    Grays        admin  48000\n",
       "4                Lucy  Johnson      catalog  71000\n",
       "5                 Amy   Espada      catalog  52000\n",
       "6              Joseph  Barrier        admin  90000\n",
       "7               Linda     Lamb        admin  74000\n",
       "8              Luella  Holiday        admin  76000\n",
       "9                Todd   Norris  circulation  55000\n",
       "10                Joe    Black    volunteer      0"
      ]
     },
     "execution_count": 36,
     "metadata": {},
     "output_type": "execute_result"
    }
   ],
   "source": [
    "Librarian.reset_index(drop=True, inplace=True)\n",
    "Librarian.index.names = ['librarianID']\n",
    "Librarian"
   ]
  },
  {
   "cell_type": "code",
   "execution_count": 37,
   "id": "4ae2daa6",
   "metadata": {},
   "outputs": [],
   "source": [
    "Librarian.to_csv('..//data//Librarian.csv')"
   ]
  },
  {
   "cell_type": "markdown",
   "id": "c86c6738",
   "metadata": {},
   "source": [
    "## User"
   ]
  },
  {
   "cell_type": "code",
   "execution_count": 38,
   "id": "4f8db7ad",
   "metadata": {},
   "outputs": [],
   "source": [
    "numUsers = 30\n",
    "User = pd.DataFrame()\n",
    "for librarianID in range(numUsers):\n",
    "    firstName = names.get_first_name()\n",
    "    lastName = names.get_last_name()\n",
    "    age = np.random.randint(7,75)\n",
    "        \n",
    "    user = pd.DataFrame(pd.Series({'firstName':firstName, 'lastName':lastName, 'age':age, 'fines': 0.00})).transpose()\n",
    "    User = pd.concat([User, user])\n",
    "    "
   ]
  },
  {
   "cell_type": "code",
   "execution_count": 39,
   "id": "52c6c217",
   "metadata": {
    "scrolled": true
   },
   "outputs": [
    {
     "data": {
      "text/html": [
       "<div>\n",
       "<style scoped>\n",
       "    .dataframe tbody tr th:only-of-type {\n",
       "        vertical-align: middle;\n",
       "    }\n",
       "\n",
       "    .dataframe tbody tr th {\n",
       "        vertical-align: top;\n",
       "    }\n",
       "\n",
       "    .dataframe thead th {\n",
       "        text-align: right;\n",
       "    }\n",
       "</style>\n",
       "<table border=\"1\" class=\"dataframe\">\n",
       "  <thead>\n",
       "    <tr style=\"text-align: right;\">\n",
       "      <th></th>\n",
       "      <th>firstName</th>\n",
       "      <th>lastName</th>\n",
       "      <th>age</th>\n",
       "      <th>fines</th>\n",
       "    </tr>\n",
       "    <tr>\n",
       "      <th>userID</th>\n",
       "      <th></th>\n",
       "      <th></th>\n",
       "      <th></th>\n",
       "      <th></th>\n",
       "    </tr>\n",
       "  </thead>\n",
       "  <tbody>\n",
       "    <tr>\n",
       "      <th>0</th>\n",
       "      <td>Arthur</td>\n",
       "      <td>Thompson</td>\n",
       "      <td>64</td>\n",
       "      <td>0.0</td>\n",
       "    </tr>\n",
       "    <tr>\n",
       "      <th>1</th>\n",
       "      <td>Della</td>\n",
       "      <td>Mcentire</td>\n",
       "      <td>53</td>\n",
       "      <td>0.0</td>\n",
       "    </tr>\n",
       "    <tr>\n",
       "      <th>2</th>\n",
       "      <td>Danny</td>\n",
       "      <td>Garcia</td>\n",
       "      <td>43</td>\n",
       "      <td>0.0</td>\n",
       "    </tr>\n",
       "    <tr>\n",
       "      <th>3</th>\n",
       "      <td>Carolina</td>\n",
       "      <td>Smith</td>\n",
       "      <td>27</td>\n",
       "      <td>0.0</td>\n",
       "    </tr>\n",
       "    <tr>\n",
       "      <th>4</th>\n",
       "      <td>Janet</td>\n",
       "      <td>Conzemius</td>\n",
       "      <td>11</td>\n",
       "      <td>0.0</td>\n",
       "    </tr>\n",
       "    <tr>\n",
       "      <th>5</th>\n",
       "      <td>Travis</td>\n",
       "      <td>Rodney</td>\n",
       "      <td>25</td>\n",
       "      <td>0.0</td>\n",
       "    </tr>\n",
       "    <tr>\n",
       "      <th>6</th>\n",
       "      <td>Ira</td>\n",
       "      <td>Smith</td>\n",
       "      <td>9</td>\n",
       "      <td>0.0</td>\n",
       "    </tr>\n",
       "    <tr>\n",
       "      <th>7</th>\n",
       "      <td>Christy</td>\n",
       "      <td>Sweitzer</td>\n",
       "      <td>69</td>\n",
       "      <td>0.0</td>\n",
       "    </tr>\n",
       "    <tr>\n",
       "      <th>8</th>\n",
       "      <td>Wendell</td>\n",
       "      <td>Smith</td>\n",
       "      <td>42</td>\n",
       "      <td>0.0</td>\n",
       "    </tr>\n",
       "    <tr>\n",
       "      <th>9</th>\n",
       "      <td>Theresa</td>\n",
       "      <td>Robbins</td>\n",
       "      <td>26</td>\n",
       "      <td>0.0</td>\n",
       "    </tr>\n",
       "    <tr>\n",
       "      <th>10</th>\n",
       "      <td>Maria</td>\n",
       "      <td>Karn</td>\n",
       "      <td>19</td>\n",
       "      <td>0.0</td>\n",
       "    </tr>\n",
       "    <tr>\n",
       "      <th>11</th>\n",
       "      <td>Norma</td>\n",
       "      <td>Pina</td>\n",
       "      <td>19</td>\n",
       "      <td>0.0</td>\n",
       "    </tr>\n",
       "    <tr>\n",
       "      <th>12</th>\n",
       "      <td>Jose</td>\n",
       "      <td>Reyes</td>\n",
       "      <td>28</td>\n",
       "      <td>0.0</td>\n",
       "    </tr>\n",
       "    <tr>\n",
       "      <th>13</th>\n",
       "      <td>Robert</td>\n",
       "      <td>Setchell</td>\n",
       "      <td>37</td>\n",
       "      <td>0.0</td>\n",
       "    </tr>\n",
       "    <tr>\n",
       "      <th>14</th>\n",
       "      <td>Margaret</td>\n",
       "      <td>Sandidge</td>\n",
       "      <td>22</td>\n",
       "      <td>3.0</td>\n",
       "    </tr>\n",
       "    <tr>\n",
       "      <th>15</th>\n",
       "      <td>John</td>\n",
       "      <td>Hernandez</td>\n",
       "      <td>17</td>\n",
       "      <td>0.0</td>\n",
       "    </tr>\n",
       "    <tr>\n",
       "      <th>16</th>\n",
       "      <td>Gregory</td>\n",
       "      <td>Coutts</td>\n",
       "      <td>42</td>\n",
       "      <td>0.0</td>\n",
       "    </tr>\n",
       "    <tr>\n",
       "      <th>17</th>\n",
       "      <td>Harry</td>\n",
       "      <td>Jennrich</td>\n",
       "      <td>42</td>\n",
       "      <td>0.0</td>\n",
       "    </tr>\n",
       "    <tr>\n",
       "      <th>18</th>\n",
       "      <td>Jon</td>\n",
       "      <td>Ferguson</td>\n",
       "      <td>14</td>\n",
       "      <td>0.0</td>\n",
       "    </tr>\n",
       "    <tr>\n",
       "      <th>19</th>\n",
       "      <td>Marjory</td>\n",
       "      <td>Rangel</td>\n",
       "      <td>46</td>\n",
       "      <td>0.0</td>\n",
       "    </tr>\n",
       "    <tr>\n",
       "      <th>20</th>\n",
       "      <td>Kenneth</td>\n",
       "      <td>Broussard</td>\n",
       "      <td>46</td>\n",
       "      <td>0.0</td>\n",
       "    </tr>\n",
       "    <tr>\n",
       "      <th>21</th>\n",
       "      <td>Antoine</td>\n",
       "      <td>Kramer</td>\n",
       "      <td>63</td>\n",
       "      <td>0.0</td>\n",
       "    </tr>\n",
       "    <tr>\n",
       "      <th>22</th>\n",
       "      <td>Betty</td>\n",
       "      <td>Rider</td>\n",
       "      <td>34</td>\n",
       "      <td>0.0</td>\n",
       "    </tr>\n",
       "    <tr>\n",
       "      <th>23</th>\n",
       "      <td>Karen</td>\n",
       "      <td>Packwood</td>\n",
       "      <td>70</td>\n",
       "      <td>0.0</td>\n",
       "    </tr>\n",
       "    <tr>\n",
       "      <th>24</th>\n",
       "      <td>Bernice</td>\n",
       "      <td>Pal</td>\n",
       "      <td>10</td>\n",
       "      <td>0.0</td>\n",
       "    </tr>\n",
       "    <tr>\n",
       "      <th>25</th>\n",
       "      <td>Norris</td>\n",
       "      <td>Cotner</td>\n",
       "      <td>12</td>\n",
       "      <td>0.0</td>\n",
       "    </tr>\n",
       "    <tr>\n",
       "      <th>26</th>\n",
       "      <td>Bryan</td>\n",
       "      <td>Ojeda</td>\n",
       "      <td>44</td>\n",
       "      <td>0.0</td>\n",
       "    </tr>\n",
       "    <tr>\n",
       "      <th>27</th>\n",
       "      <td>Rocco</td>\n",
       "      <td>Avila</td>\n",
       "      <td>30</td>\n",
       "      <td>0.0</td>\n",
       "    </tr>\n",
       "    <tr>\n",
       "      <th>28</th>\n",
       "      <td>James</td>\n",
       "      <td>Stone</td>\n",
       "      <td>43</td>\n",
       "      <td>3.0</td>\n",
       "    </tr>\n",
       "    <tr>\n",
       "      <th>29</th>\n",
       "      <td>Brent</td>\n",
       "      <td>Powell</td>\n",
       "      <td>72</td>\n",
       "      <td>0.0</td>\n",
       "    </tr>\n",
       "  </tbody>\n",
       "</table>\n",
       "</div>"
      ],
      "text/plain": [
       "       firstName   lastName age fines\n",
       "userID                               \n",
       "0         Arthur   Thompson  64   0.0\n",
       "1          Della   Mcentire  53   0.0\n",
       "2          Danny     Garcia  43   0.0\n",
       "3       Carolina      Smith  27   0.0\n",
       "4          Janet  Conzemius  11   0.0\n",
       "5         Travis     Rodney  25   0.0\n",
       "6            Ira      Smith   9   0.0\n",
       "7        Christy   Sweitzer  69   0.0\n",
       "8        Wendell      Smith  42   0.0\n",
       "9        Theresa    Robbins  26   0.0\n",
       "10         Maria       Karn  19   0.0\n",
       "11         Norma       Pina  19   0.0\n",
       "12          Jose      Reyes  28   0.0\n",
       "13        Robert   Setchell  37   0.0\n",
       "14      Margaret   Sandidge  22   3.0\n",
       "15          John  Hernandez  17   0.0\n",
       "16       Gregory     Coutts  42   0.0\n",
       "17         Harry   Jennrich  42   0.0\n",
       "18           Jon   Ferguson  14   0.0\n",
       "19       Marjory     Rangel  46   0.0\n",
       "20       Kenneth  Broussard  46   0.0\n",
       "21       Antoine     Kramer  63   0.0\n",
       "22         Betty      Rider  34   0.0\n",
       "23         Karen   Packwood  70   0.0\n",
       "24       Bernice        Pal  10   0.0\n",
       "25        Norris     Cotner  12   0.0\n",
       "26         Bryan      Ojeda  44   0.0\n",
       "27         Rocco      Avila  30   0.0\n",
       "28         James      Stone  43   3.0\n",
       "29         Brent     Powell  72   0.0"
      ]
     },
     "execution_count": 39,
     "metadata": {},
     "output_type": "execute_result"
    }
   ],
   "source": [
    "User.reset_index(drop=True, inplace=True)\n",
    "User.index.names = ['userID']\n",
    "User.loc[14,'fines'] = 3.00\n",
    "User.loc[28,'fines'] = 3.00\n",
    "User"
   ]
  },
  {
   "cell_type": "code",
   "execution_count": 40,
   "id": "2faf3f11",
   "metadata": {},
   "outputs": [],
   "source": [
    "User.to_csv('..//data//User.csv')"
   ]
  },
  {
   "cell_type": "markdown",
   "id": "d0bf5979",
   "metadata": {},
   "source": [
    "## BorrowedItem"
   ]
  },
  {
   "cell_type": "code",
   "execution_count": 28,
   "id": "feb72a70",
   "metadata": {},
   "outputs": [],
   "source": [
    "User = pd.read_csv('..//data//User.csv')\n",
    "LibraryItem = pd.read_csv('..//data//LibraryItem.csv')"
   ]
  },
  {
   "cell_type": "code",
   "execution_count": 42,
   "id": "594151e8",
   "metadata": {},
   "outputs": [],
   "source": [
    "numBorrowedItem = 10\n",
    "BorrowedItem = pd.DataFrame()\n",
    "itemList = []\n",
    "\n",
    "for i in range(numBorrowedItem):\n",
    "    userID = np.random.choice(User.reset_index()['userID'])\n",
    "    dueDate = datetime.datetime(2023,7,25,17) + datetime.timedelta(days=i)\n",
    "    returnedDay = np.random.randint(0,10)\n",
    "    returnedDate = dueDate - datetime.timedelta(days=returnedDay)\n",
    "    libraryItemID = np.random.choice(LibraryItem.reset_index()['libraryItemID'])\n",
    "    while(libraryItemID in itemList):\n",
    "        libraryItemID = np.random.choice(LibraryItem.reset_index()['libraryItemID'])\n",
    "    \n",
    "    bi = pd.DataFrame(pd.Series({'userID':userID, 'libraryItemID':libraryItemID, 'dueDate':dueDate, 'returnDate':returnedDate})).transpose()\n",
    "    BorrowedItem = pd.concat([BorrowedItem, bi])\n",
    "    \n"
   ]
  },
  {
   "cell_type": "code",
   "execution_count": 43,
   "id": "0a096df9",
   "metadata": {},
   "outputs": [
    {
     "data": {
      "text/html": [
       "<div>\n",
       "<style scoped>\n",
       "    .dataframe tbody tr th:only-of-type {\n",
       "        vertical-align: middle;\n",
       "    }\n",
       "\n",
       "    .dataframe tbody tr th {\n",
       "        vertical-align: top;\n",
       "    }\n",
       "\n",
       "    .dataframe thead th {\n",
       "        text-align: right;\n",
       "    }\n",
       "</style>\n",
       "<table border=\"1\" class=\"dataframe\">\n",
       "  <thead>\n",
       "    <tr style=\"text-align: right;\">\n",
       "      <th></th>\n",
       "      <th>userID</th>\n",
       "      <th>libraryItemID</th>\n",
       "      <th>dueDate</th>\n",
       "      <th>returnDate</th>\n",
       "    </tr>\n",
       "  </thead>\n",
       "  <tbody>\n",
       "    <tr>\n",
       "      <th>0</th>\n",
       "      <td>9</td>\n",
       "      <td>20</td>\n",
       "      <td>2023-07-25 17:00:00</td>\n",
       "      <td>2023-07-22 17:00:00</td>\n",
       "    </tr>\n",
       "    <tr>\n",
       "      <th>0</th>\n",
       "      <td>12</td>\n",
       "      <td>13</td>\n",
       "      <td>2023-07-26 17:00:00</td>\n",
       "      <td>2023-07-25 17:00:00</td>\n",
       "    </tr>\n",
       "    <tr>\n",
       "      <th>0</th>\n",
       "      <td>3</td>\n",
       "      <td>17</td>\n",
       "      <td>2023-07-27 17:00:00</td>\n",
       "      <td>2023-07-24 17:00:00</td>\n",
       "    </tr>\n",
       "    <tr>\n",
       "      <th>0</th>\n",
       "      <td>23</td>\n",
       "      <td>11</td>\n",
       "      <td>2023-07-28 17:00:00</td>\n",
       "      <td>2023-07-27 17:00:00</td>\n",
       "    </tr>\n",
       "    <tr>\n",
       "      <th>0</th>\n",
       "      <td>1</td>\n",
       "      <td>14</td>\n",
       "      <td>2023-07-29 17:00:00</td>\n",
       "      <td>2023-07-25 17:00:00</td>\n",
       "    </tr>\n",
       "    <tr>\n",
       "      <th>0</th>\n",
       "      <td>25</td>\n",
       "      <td>4</td>\n",
       "      <td>2023-07-30 17:00:00</td>\n",
       "      <td>2023-07-21 17:00:00</td>\n",
       "    </tr>\n",
       "    <tr>\n",
       "      <th>0</th>\n",
       "      <td>4</td>\n",
       "      <td>21</td>\n",
       "      <td>2023-07-31 17:00:00</td>\n",
       "      <td>2023-07-28 17:00:00</td>\n",
       "    </tr>\n",
       "    <tr>\n",
       "      <th>0</th>\n",
       "      <td>11</td>\n",
       "      <td>18</td>\n",
       "      <td>2023-08-01 17:00:00</td>\n",
       "      <td>2023-07-30 17:00:00</td>\n",
       "    </tr>\n",
       "    <tr>\n",
       "      <th>0</th>\n",
       "      <td>27</td>\n",
       "      <td>14</td>\n",
       "      <td>2023-08-02 17:00:00</td>\n",
       "      <td>2023-07-28 17:00:00</td>\n",
       "    </tr>\n",
       "    <tr>\n",
       "      <th>0</th>\n",
       "      <td>28</td>\n",
       "      <td>10</td>\n",
       "      <td>2023-08-03 17:00:00</td>\n",
       "      <td>2023-07-27 17:00:00</td>\n",
       "    </tr>\n",
       "  </tbody>\n",
       "</table>\n",
       "</div>"
      ],
      "text/plain": [
       "  userID libraryItemID             dueDate          returnDate\n",
       "0      9            20 2023-07-25 17:00:00 2023-07-22 17:00:00\n",
       "0     12            13 2023-07-26 17:00:00 2023-07-25 17:00:00\n",
       "0      3            17 2023-07-27 17:00:00 2023-07-24 17:00:00\n",
       "0     23            11 2023-07-28 17:00:00 2023-07-27 17:00:00\n",
       "0      1            14 2023-07-29 17:00:00 2023-07-25 17:00:00\n",
       "0     25             4 2023-07-30 17:00:00 2023-07-21 17:00:00\n",
       "0      4            21 2023-07-31 17:00:00 2023-07-28 17:00:00\n",
       "0     11            18 2023-08-01 17:00:00 2023-07-30 17:00:00\n",
       "0     27            14 2023-08-02 17:00:00 2023-07-28 17:00:00\n",
       "0     28            10 2023-08-03 17:00:00 2023-07-27 17:00:00"
      ]
     },
     "execution_count": 43,
     "metadata": {},
     "output_type": "execute_result"
    }
   ],
   "source": [
    "BorrowedItem"
   ]
  },
  {
   "cell_type": "code",
   "execution_count": 44,
   "id": "2993b2a4",
   "metadata": {},
   "outputs": [],
   "source": [
    "BorrowedItem.to_csv('..//data/BorrowedItem.csv')"
   ]
  },
  {
   "cell_type": "code",
   "execution_count": null,
   "id": "f563465a",
   "metadata": {},
   "outputs": [],
   "source": []
  },
  {
   "cell_type": "markdown",
   "id": "dea73100",
   "metadata": {},
   "source": [
    "## Event and Registration"
   ]
  },
  {
   "cell_type": "code",
   "execution_count": 145,
   "id": "7c7caebe",
   "metadata": {},
   "outputs": [],
   "source": [
    "Event = pd.read_csv('..//data/Event.csv')\n",
    "EventRegistration = pd.read_csv('..//data/EventRegistration.csv')\n",
    "BorrowedItem  = pd.read_csv('..//data/BorrowedItem.csv')"
   ]
  },
  {
   "cell_type": "code",
   "execution_count": 146,
   "id": "21196d65",
   "metadata": {},
   "outputs": [],
   "source": [
    "Event.sort_values(by=['startTS','room'], inplace=True),\n",
    "EventRegistration.sort_values(by=['startTS','room', 'userID'], inplace=True)"
   ]
  },
  {
   "cell_type": "code",
   "execution_count": 147,
   "id": "acbbf561",
   "metadata": {},
   "outputs": [
    {
     "data": {
      "text/html": [
       "<div>\n",
       "<style scoped>\n",
       "    .dataframe tbody tr th:only-of-type {\n",
       "        vertical-align: middle;\n",
       "    }\n",
       "\n",
       "    .dataframe tbody tr th {\n",
       "        vertical-align: top;\n",
       "    }\n",
       "\n",
       "    .dataframe thead th {\n",
       "        text-align: right;\n",
       "    }\n",
       "</style>\n",
       "<table border=\"1\" class=\"dataframe\">\n",
       "  <thead>\n",
       "    <tr style=\"text-align: right;\">\n",
       "      <th></th>\n",
       "      <th>startTS</th>\n",
       "      <th>endTS</th>\n",
       "      <th>room</th>\n",
       "      <th>eventName</th>\n",
       "      <th>audience</th>\n",
       "      <th>maxRegistrations</th>\n",
       "      <th>artist</th>\n",
       "      <th>itemID</th>\n",
       "    </tr>\n",
       "  </thead>\n",
       "  <tbody>\n",
       "    <tr>\n",
       "      <th>3</th>\n",
       "      <td>2023-06-18 12:00</td>\n",
       "      <td>2023-06-18 13:00</td>\n",
       "      <td>A1</td>\n",
       "      <td>Pizza Day</td>\n",
       "      <td>all</td>\n",
       "      <td>5</td>\n",
       "      <td>NaN</td>\n",
       "      <td>NaN</td>\n",
       "    </tr>\n",
       "    <tr>\n",
       "      <th>0</th>\n",
       "      <td>2023-06-25 12:00</td>\n",
       "      <td>2023-06-25 13:00</td>\n",
       "      <td>A1</td>\n",
       "      <td>Pizza Day</td>\n",
       "      <td>all</td>\n",
       "      <td>5</td>\n",
       "      <td>NaN</td>\n",
       "      <td>NaN</td>\n",
       "    </tr>\n",
       "    <tr>\n",
       "      <th>5</th>\n",
       "      <td>2023-07-14 12:00</td>\n",
       "      <td>2023-07-14 14:00</td>\n",
       "      <td>A2</td>\n",
       "      <td>Annual Safety Meeting</td>\n",
       "      <td>NaN</td>\n",
       "      <td>0</td>\n",
       "      <td>NaN</td>\n",
       "      <td>NaN</td>\n",
       "    </tr>\n",
       "    <tr>\n",
       "      <th>4</th>\n",
       "      <td>2023-07-25 12:00</td>\n",
       "      <td>2023-07-25 13:00</td>\n",
       "      <td>A4</td>\n",
       "      <td>Pizza Day</td>\n",
       "      <td>all</td>\n",
       "      <td>5</td>\n",
       "      <td>NaN</td>\n",
       "      <td>NaN</td>\n",
       "    </tr>\n",
       "    <tr>\n",
       "      <th>8</th>\n",
       "      <td>2023-08-01 09:00</td>\n",
       "      <td>2023-08-01 10:00</td>\n",
       "      <td>A3</td>\n",
       "      <td>Book bike storytime</td>\n",
       "      <td>NaN</td>\n",
       "      <td>15</td>\n",
       "      <td>NaN</td>\n",
       "      <td>8.0</td>\n",
       "    </tr>\n",
       "    <tr>\n",
       "      <th>2</th>\n",
       "      <td>2023-08-01 10:00</td>\n",
       "      <td>2023-08-01 11:00</td>\n",
       "      <td>A2</td>\n",
       "      <td>Book Club</td>\n",
       "      <td>young adults</td>\n",
       "      <td>10</td>\n",
       "      <td>NaN</td>\n",
       "      <td>2.0</td>\n",
       "    </tr>\n",
       "    <tr>\n",
       "      <th>7</th>\n",
       "      <td>2023-08-05 09:00</td>\n",
       "      <td>2023-08-05 10:00</td>\n",
       "      <td>A3</td>\n",
       "      <td>Book bike storytime</td>\n",
       "      <td>NaN</td>\n",
       "      <td>15</td>\n",
       "      <td>NaN</td>\n",
       "      <td>8.0</td>\n",
       "    </tr>\n",
       "    <tr>\n",
       "      <th>6</th>\n",
       "      <td>2023-08-09 09:00</td>\n",
       "      <td>2023-08-09 01:00</td>\n",
       "      <td>A3</td>\n",
       "      <td>Book bike storytime</td>\n",
       "      <td>NaN</td>\n",
       "      <td>15</td>\n",
       "      <td>NaN</td>\n",
       "      <td>8.0</td>\n",
       "    </tr>\n",
       "    <tr>\n",
       "      <th>1</th>\n",
       "      <td>2023-08-09 10:00</td>\n",
       "      <td>2023-08-09 11:00</td>\n",
       "      <td>A2</td>\n",
       "      <td>Pizza Day</td>\n",
       "      <td>young adults</td>\n",
       "      <td>10</td>\n",
       "      <td>NaN</td>\n",
       "      <td>1.0</td>\n",
       "    </tr>\n",
       "  </tbody>\n",
       "</table>\n",
       "</div>"
      ],
      "text/plain": [
       "            startTS             endTS room              eventName  \\\n",
       "3  2023-06-18 12:00  2023-06-18 13:00   A1              Pizza Day   \n",
       "0  2023-06-25 12:00  2023-06-25 13:00   A1              Pizza Day   \n",
       "5  2023-07-14 12:00  2023-07-14 14:00   A2  Annual Safety Meeting   \n",
       "4  2023-07-25 12:00  2023-07-25 13:00   A4              Pizza Day   \n",
       "8  2023-08-01 09:00  2023-08-01 10:00   A3    Book bike storytime   \n",
       "2  2023-08-01 10:00  2023-08-01 11:00   A2              Book Club   \n",
       "7  2023-08-05 09:00  2023-08-05 10:00   A3    Book bike storytime   \n",
       "6  2023-08-09 09:00  2023-08-09 01:00   A3    Book bike storytime   \n",
       "1  2023-08-09 10:00  2023-08-09 11:00   A2              Pizza Day   \n",
       "\n",
       "       audience  maxRegistrations  artist  itemID  \n",
       "3           all                 5     NaN     NaN  \n",
       "0           all                 5     NaN     NaN  \n",
       "5           NaN                 0     NaN     NaN  \n",
       "4           all                 5     NaN     NaN  \n",
       "8           NaN                15     NaN     8.0  \n",
       "2  young adults                10     NaN     2.0  \n",
       "7           NaN                15     NaN     8.0  \n",
       "6           NaN                15     NaN     8.0  \n",
       "1  young adults                10     NaN     1.0  "
      ]
     },
     "execution_count": 147,
     "metadata": {},
     "output_type": "execute_result"
    }
   ],
   "source": [
    "Event"
   ]
  },
  {
   "cell_type": "code",
   "execution_count": 137,
   "id": "d4fef0fc",
   "metadata": {},
   "outputs": [
    {
     "data": {
      "text/plain": [
       "9"
      ]
     },
     "execution_count": 137,
     "metadata": {},
     "output_type": "execute_result"
    }
   ],
   "source": [
    "engine = create_engine('sqlite:///library.db', echo=False)\n",
    "Item.reset_index().to_sql('Item', con=engine, if_exists='append', index=False)\n",
    "LibraryItem.reset_index().to_sql('LibraryItem', con=engine, if_exists='append', index=False)\n",
    "Librarian.reset_index().to_sql('Librarian', con=engine, if_exists='append', index=False)\n",
    "User.reset_index().to_sql('User', con=engine, if_exists='append', index=False)\n",
    "BorrowedItem.to_sql('BorrwedItem', con=engine, if_exists='append', index=False)\n",
    "Event.to_sql('Event', con=engine, if_exists='append', index=False)\n",
    "EventRegistration.to_sql('EventRegistration', con=engine, if_exists='append', index=False)\n"
   ]
  },
  {
   "cell_type": "code",
   "execution_count": 143,
   "id": "d04a3746",
   "metadata": {},
   "outputs": [
    {
     "name": "stdout",
     "output_type": "stream",
     "text": [
      " * sqlite:///library.db\n",
      "1 rows affected.\n"
     ]
    },
    {
     "data": {
      "text/plain": [
       "[]"
      ]
     },
     "execution_count": 143,
     "metadata": {},
     "output_type": "execute_result"
    }
   ],
   "source": [
    "%%sql\n",
    "Delete from BorrowedItem where rowid IN (Select rowid from BorrowedItem limit 100);\n"
   ]
  },
  {
   "cell_type": "code",
   "execution_count": 158,
   "id": "297a271b",
   "metadata": {},
   "outputs": [
    {
     "name": "stdout",
     "output_type": "stream",
     "text": [
      " * sqlite:///library.db\n",
      "Done.\n"
     ]
    },
    {
     "data": {
      "text/html": [
       "<table>\n",
       "    <thead>\n",
       "        <tr>\n",
       "            <th>userID</th>\n",
       "            <th>libraryItemID</th>\n",
       "            <th>dueDate</th>\n",
       "            <th>returnedDate</th>\n",
       "        </tr>\n",
       "    </thead>\n",
       "    <tbody>\n",
       "        <tr>\n",
       "            <td>9</td>\n",
       "            <td>20</td>\n",
       "            <td>2023-07-25 17:00</td>\n",
       "            <td>2023-07-22 17:00:00</td>\n",
       "        </tr>\n",
       "        <tr>\n",
       "            <td>12</td>\n",
       "            <td>13</td>\n",
       "            <td>2023-07-26 17:00</td>\n",
       "            <td>2023-07-25 17:00:00</td>\n",
       "        </tr>\n",
       "        <tr>\n",
       "            <td>3</td>\n",
       "            <td>17</td>\n",
       "            <td>2023-07-27 17:00</td>\n",
       "            <td>2023-07-24 17:00:00</td>\n",
       "        </tr>\n",
       "        <tr>\n",
       "            <td>23</td>\n",
       "            <td>11</td>\n",
       "            <td>2023-07-28 17:00</td>\n",
       "            <td>2023-07-27 17:00:00</td>\n",
       "        </tr>\n",
       "        <tr>\n",
       "            <td>1</td>\n",
       "            <td>14</td>\n",
       "            <td>2023-07-29 17:00</td>\n",
       "            <td>2023-07-25 17:00:00</td>\n",
       "        </tr>\n",
       "        <tr>\n",
       "            <td>25</td>\n",
       "            <td>4</td>\n",
       "            <td>2023-07-30 17:00</td>\n",
       "            <td>2023-07-21 17:00:00</td>\n",
       "        </tr>\n",
       "        <tr>\n",
       "            <td>4</td>\n",
       "            <td>21</td>\n",
       "            <td>2023-07-31 17:00</td>\n",
       "            <td>None</td>\n",
       "        </tr>\n",
       "        <tr>\n",
       "            <td>11</td>\n",
       "            <td>18</td>\n",
       "            <td>2023-08-01 17:00</td>\n",
       "            <td>2023-07-30 17:00:00</td>\n",
       "        </tr>\n",
       "        <tr>\n",
       "            <td>27</td>\n",
       "            <td>14</td>\n",
       "            <td>2023-08-07 17:00</td>\n",
       "            <td>None</td>\n",
       "        </tr>\n",
       "        <tr>\n",
       "            <td>28</td>\n",
       "            <td>10</td>\n",
       "            <td>2023-08-07 17:00</td>\n",
       "            <td>None</td>\n",
       "        </tr>\n",
       "    </tbody>\n",
       "</table>"
      ],
      "text/plain": [
       "[(9, 20, '2023-07-25 17:00', '2023-07-22 17:00:00'),\n",
       " (12, 13, '2023-07-26 17:00', '2023-07-25 17:00:00'),\n",
       " (3, 17, '2023-07-27 17:00', '2023-07-24 17:00:00'),\n",
       " (23, 11, '2023-07-28 17:00', '2023-07-27 17:00:00'),\n",
       " (1, 14, '2023-07-29 17:00', '2023-07-25 17:00:00'),\n",
       " (25, 4, '2023-07-30 17:00', '2023-07-21 17:00:00'),\n",
       " (4, 21, '2023-07-31 17:00', None),\n",
       " (11, 18, '2023-08-01 17:00', '2023-07-30 17:00:00'),\n",
       " (27, 14, '2023-08-07 17:00', None),\n",
       " (28, 10, '2023-08-07 17:00', None)]"
      ]
     },
     "execution_count": 158,
     "metadata": {},
     "output_type": "execute_result"
    }
   ],
   "source": [
    "%%sql\n",
    "SELECT * FROM BorrowedItem;"
   ]
  },
  {
   "cell_type": "code",
   "execution_count": 150,
   "id": "1003d927",
   "metadata": {},
   "outputs": [
    {
     "name": "stdout",
     "output_type": "stream",
     "text": [
      " * sqlite:///library.db\n",
      "10 rows affected.\n"
     ]
    },
    {
     "data": {
      "text/plain": [
       "[]"
      ]
     },
     "execution_count": 150,
     "metadata": {},
     "output_type": "execute_result"
    }
   ],
   "source": [
    "%%sql\n",
    "INSERT INTO BorrowedItem(userID, libraryItemID, dueDate, returnedDate)\n",
    "VALUES(9,20,'2023-07-25 17:00','2023-07-22 17:00:00'),\n",
    "    (12,13,'2023-07-26 17:00','2023-07-25 17:00:00'),\n",
    "    (3,17,'2023-07-27 17:00','2023-07-24 17:00:00'),\n",
    "    (23,11,'2023-07-28 17:00','2023-07-27 17:00:00'),\n",
    "    (1,14,'2023-07-29 17:00','2023-07-25 17:00:00'),\n",
    "    (25,4,'2023-07-30 17:00','2023-07-21 17:00:00'),\n",
    "    (4,21,'2023-07-31 17:00',NULL),\n",
    "    (11,18,'2023-08-01 17:00','2023-07-30 17:00:00'),\n",
    "    (27,14,'2023-08-07 17:00',NULL),\n",
    "    (28,10,'2023-08-07 17:00',NULL);\n"
   ]
  },
  {
   "cell_type": "code",
   "execution_count": 148,
   "id": "48da605e",
   "metadata": {},
   "outputs": [
    {
     "data": {
      "text/html": [
       "<div>\n",
       "<style scoped>\n",
       "    .dataframe tbody tr th:only-of-type {\n",
       "        vertical-align: middle;\n",
       "    }\n",
       "\n",
       "    .dataframe tbody tr th {\n",
       "        vertical-align: top;\n",
       "    }\n",
       "\n",
       "    .dataframe thead th {\n",
       "        text-align: right;\n",
       "    }\n",
       "</style>\n",
       "<table border=\"1\" class=\"dataframe\">\n",
       "  <thead>\n",
       "    <tr style=\"text-align: right;\">\n",
       "      <th></th>\n",
       "      <th>Unnamed: 0</th>\n",
       "      <th>userID</th>\n",
       "      <th>libraryItemID</th>\n",
       "      <th>dueDate</th>\n",
       "      <th>returnDate</th>\n",
       "    </tr>\n",
       "  </thead>\n",
       "  <tbody>\n",
       "    <tr>\n",
       "      <th>0</th>\n",
       "      <td>0</td>\n",
       "      <td>9</td>\n",
       "      <td>20</td>\n",
       "      <td>2023-07-25 17:00</td>\n",
       "      <td>2023-07-22 17:00</td>\n",
       "    </tr>\n",
       "    <tr>\n",
       "      <th>1</th>\n",
       "      <td>0</td>\n",
       "      <td>12</td>\n",
       "      <td>13</td>\n",
       "      <td>2023-07-26 17:00</td>\n",
       "      <td>2023-07-25 17:00</td>\n",
       "    </tr>\n",
       "    <tr>\n",
       "      <th>2</th>\n",
       "      <td>0</td>\n",
       "      <td>3</td>\n",
       "      <td>17</td>\n",
       "      <td>2023-07-27 17:00</td>\n",
       "      <td>2023-07-24 17:00</td>\n",
       "    </tr>\n",
       "    <tr>\n",
       "      <th>3</th>\n",
       "      <td>0</td>\n",
       "      <td>23</td>\n",
       "      <td>11</td>\n",
       "      <td>2023-07-28 17:00</td>\n",
       "      <td>2023-07-27 17:00</td>\n",
       "    </tr>\n",
       "    <tr>\n",
       "      <th>4</th>\n",
       "      <td>0</td>\n",
       "      <td>1</td>\n",
       "      <td>14</td>\n",
       "      <td>2023-07-29 17:00</td>\n",
       "      <td>2023-07-25 17:00</td>\n",
       "    </tr>\n",
       "    <tr>\n",
       "      <th>5</th>\n",
       "      <td>0</td>\n",
       "      <td>25</td>\n",
       "      <td>4</td>\n",
       "      <td>2023-07-30 17:00</td>\n",
       "      <td>2023-07-21 17:00</td>\n",
       "    </tr>\n",
       "    <tr>\n",
       "      <th>6</th>\n",
       "      <td>0</td>\n",
       "      <td>4</td>\n",
       "      <td>21</td>\n",
       "      <td>2023-07-31 17:00</td>\n",
       "      <td>NaN</td>\n",
       "    </tr>\n",
       "    <tr>\n",
       "      <th>7</th>\n",
       "      <td>0</td>\n",
       "      <td>11</td>\n",
       "      <td>18</td>\n",
       "      <td>2023-08-01 17:00</td>\n",
       "      <td>2023-07-30 17:00</td>\n",
       "    </tr>\n",
       "    <tr>\n",
       "      <th>8</th>\n",
       "      <td>0</td>\n",
       "      <td>27</td>\n",
       "      <td>14</td>\n",
       "      <td>2023-08-07 17:00</td>\n",
       "      <td>NaN</td>\n",
       "    </tr>\n",
       "    <tr>\n",
       "      <th>9</th>\n",
       "      <td>0</td>\n",
       "      <td>28</td>\n",
       "      <td>10</td>\n",
       "      <td>2023-08-07 17:00</td>\n",
       "      <td>NaN</td>\n",
       "    </tr>\n",
       "  </tbody>\n",
       "</table>\n",
       "</div>"
      ],
      "text/plain": [
       "   Unnamed: 0  userID  libraryItemID           dueDate        returnDate\n",
       "0           0       9             20  2023-07-25 17:00  2023-07-22 17:00\n",
       "1           0      12             13  2023-07-26 17:00  2023-07-25 17:00\n",
       "2           0       3             17  2023-07-27 17:00  2023-07-24 17:00\n",
       "3           0      23             11  2023-07-28 17:00  2023-07-27 17:00\n",
       "4           0       1             14  2023-07-29 17:00  2023-07-25 17:00\n",
       "5           0      25              4  2023-07-30 17:00  2023-07-21 17:00\n",
       "6           0       4             21  2023-07-31 17:00               NaN\n",
       "7           0      11             18  2023-08-01 17:00  2023-07-30 17:00\n",
       "8           0      27             14  2023-08-07 17:00               NaN\n",
       "9           0      28             10  2023-08-07 17:00               NaN"
      ]
     },
     "execution_count": 148,
     "metadata": {},
     "output_type": "execute_result"
    }
   ],
   "source": [
    "BorrowedItem"
   ]
  },
  {
   "cell_type": "markdown",
   "id": "6f1c49f7",
   "metadata": {},
   "source": [
    "## Table: User"
   ]
  },
  {
   "cell_type": "code",
   "execution_count": 138,
   "id": "7cd81ab6",
   "metadata": {},
   "outputs": [
    {
     "name": "stdout",
     "output_type": "stream",
     "text": [
      " * sqlite:///library.db\n",
      "Done.\n"
     ]
    },
    {
     "data": {
      "text/plain": [
       "[]"
      ]
     },
     "execution_count": 138,
     "metadata": {},
     "output_type": "execute_result"
    }
   ],
   "source": [
    "%%sql\n",
    "DROP TABLE mytable"
   ]
  },
  {
   "cell_type": "code",
   "execution_count": 128,
   "id": "8056ac87",
   "metadata": {},
   "outputs": [
    {
     "name": "stdout",
     "output_type": "stream",
     "text": [
      " * sqlite:///library.db\n",
      "Done.\n",
      "Done.\n",
      "Done.\n",
      "Done.\n",
      "Done.\n",
      "Done.\n",
      "Done.\n"
     ]
    },
    {
     "data": {
      "text/plain": [
       "[]"
      ]
     },
     "execution_count": 128,
     "metadata": {},
     "output_type": "execute_result"
    }
   ],
   "source": [
    "%%sql\n",
    "\n",
    "DROP TABLE Item;\n",
    "DROP TABLE User;\n",
    "DROP TABLE Librarian;\n",
    "DROP TABLE LibraryItem;\n",
    "DROP TABLE BorrowedItem;\n",
    "DROP TABLE Event;\n",
    "DROP TABLE EventRegistration;"
   ]
  },
  {
   "cell_type": "code",
   "execution_count": 52,
   "id": "c77a8052",
   "metadata": {},
   "outputs": [
    {
     "name": "stdout",
     "output_type": "stream",
     "text": [
      " * sqlite:///library.db\n",
      "Done.\n"
     ]
    },
    {
     "data": {
      "text/plain": [
       "[]"
      ]
     },
     "execution_count": 52,
     "metadata": {},
     "output_type": "execute_result"
    }
   ],
   "source": [
    "%%sql\n",
    "\n",
    "DROP TRIGGER prevent_past_event_registration;"
   ]
  },
  {
   "cell_type": "code",
   "execution_count": null,
   "id": "e0064dbe",
   "metadata": {},
   "outputs": [],
   "source": []
  }
 ],
 "metadata": {
  "kernelspec": {
   "display_name": "Python 3 (ipykernel)",
   "language": "python",
   "name": "python3"
  },
  "language_info": {
   "codemirror_mode": {
    "name": "ipython",
    "version": 3
   },
   "file_extension": ".py",
   "mimetype": "text/x-python",
   "name": "python",
   "nbconvert_exporter": "python",
   "pygments_lexer": "ipython3",
   "version": "3.9.12"
  },
  "toc": {
   "base_numbering": 1,
   "nav_menu": {},
   "number_sections": true,
   "sideBar": true,
   "skip_h1_title": false,
   "title_cell": "Table of Contents",
   "title_sidebar": "Contents",
   "toc_cell": false,
   "toc_position": {},
   "toc_section_display": true,
   "toc_window_display": false
  },
  "varInspector": {
   "cols": {
    "lenName": 16,
    "lenType": 16,
    "lenVar": 40
   },
   "kernels_config": {
    "python": {
     "delete_cmd_postfix": "",
     "delete_cmd_prefix": "del ",
     "library": "var_list.py",
     "varRefreshCmd": "print(var_dic_list())"
    },
    "r": {
     "delete_cmd_postfix": ") ",
     "delete_cmd_prefix": "rm(",
     "library": "var_list.r",
     "varRefreshCmd": "cat(var_dic_list()) "
    }
   },
   "types_to_exclude": [
    "module",
    "function",
    "builtin_function_or_method",
    "instance",
    "_Feature"
   ],
   "window_display": false
  }
 },
 "nbformat": 4,
 "nbformat_minor": 5
}
