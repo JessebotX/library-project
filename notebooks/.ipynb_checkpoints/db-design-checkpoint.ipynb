{
 "cells": [
  {
   "cell_type": "code",
   "execution_count": 1,
   "id": "b6d0c086",
   "metadata": {},
   "outputs": [
    {
     "data": {
      "text/html": [
       "<style>.container { width:100% !important; }</style>"
      ],
      "text/plain": [
       "<IPython.core.display.HTML object>"
      ]
     },
     "metadata": {},
     "output_type": "display_data"
    }
   ],
   "source": [
    "from IPython.display import display, HTML\n",
    "display(HTML(\"<style>.container { width:100% !important; }</style>\"))"
   ]
  },
  {
   "cell_type": "markdown",
   "id": "d0aced06",
   "metadata": {},
   "source": [
    "# Creating a db"
   ]
  },
  {
   "cell_type": "code",
   "execution_count": 2,
   "id": "fc19b1e4",
   "metadata": {},
   "outputs": [],
   "source": [
    "%load_ext sql"
   ]
  },
  {
   "cell_type": "code",
   "execution_count": 3,
   "id": "aec66b35",
   "metadata": {},
   "outputs": [
    {
     "data": {
      "text/plain": [
       "'Connected: @library.db'"
      ]
     },
     "execution_count": 3,
     "metadata": {},
     "output_type": "execute_result"
    }
   ],
   "source": [
    "%sql sqlite:///library.db"
   ]
  },
  {
   "cell_type": "markdown",
   "id": "cf01a13e",
   "metadata": {},
   "source": [
    "# Creating tables"
   ]
  },
  {
   "cell_type": "code",
   "execution_count": 92,
   "id": "5f6f4f5d",
   "metadata": {},
   "outputs": [
    {
     "name": "stdout",
     "output_type": "stream",
     "text": [
      " * sqlite:///library.db\n",
      "Done.\n"
     ]
    },
    {
     "data": {
      "text/plain": [
       "[]"
      ]
     },
     "execution_count": 92,
     "metadata": {},
     "output_type": "execute_result"
    }
   ],
   "source": [
    "%%sql\n",
    "CREATE TABLE User(\n",
    "    userID INTEGER PRIMARY KEY,\n",
    "    firstName VARCHAR(30) NOT NULL,\n",
    "    lastName VARCHAR(30) NOT NULL,\n",
    "    age INTEGER NOT NULL,\n",
    "    fines NUMERIC(5,2) DEFAULT 0,\n",
    "    CHECK (age >= 7),\n",
    "    CHECK (fines >= 0)\n",
    ");"
   ]
  },
  {
   "cell_type": "code",
   "execution_count": 93,
   "id": "c1095c23",
   "metadata": {},
   "outputs": [
    {
     "name": "stdout",
     "output_type": "stream",
     "text": [
      " * sqlite:///library.db\n",
      "Done.\n"
     ]
    },
    {
     "data": {
      "text/plain": [
       "[]"
      ]
     },
     "execution_count": 93,
     "metadata": {},
     "output_type": "execute_result"
    }
   ],
   "source": [
    "%%sql\n",
    "CREATE TABLE Librarian(\n",
    "    librarianID INTEGER PRIMARY KEY,\n",
    "    firstName VARCHAR(30) NOT NULL,\n",
    "    lastName VARCHAR(30) NOT NULL,\n",
    "    salary NUMERIC(6,2) DEFAULT 0,\n",
    "    section VARCHAR(4) NOT NULL,\n",
    "    CHECK (salary >= 0)\n",
    ");"
   ]
  },
  {
   "cell_type": "code",
   "execution_count": 94,
   "id": "cda2da03",
   "metadata": {},
   "outputs": [
    {
     "name": "stdout",
     "output_type": "stream",
     "text": [
      " * sqlite:///library.db\n",
      "Done.\n"
     ]
    },
    {
     "data": {
      "text/plain": [
       "[]"
      ]
     },
     "execution_count": 94,
     "metadata": {},
     "output_type": "execute_result"
    }
   ],
   "source": [
    "%%sql\n",
    "CREATE TABLE LibraryItem(\n",
    "    libraryItemID INTEGER PRIMARY KEY,\n",
    "    author REFERENCES Item(author),\n",
    "    itemName REFERENCES Item(itemName) NOT NULL,\n",
    "    toBeAdded BOOLEAN\n",
    ");"
   ]
  },
  {
   "cell_type": "code",
   "execution_count": 95,
   "id": "4be4a47a",
   "metadata": {},
   "outputs": [
    {
     "name": "stdout",
     "output_type": "stream",
     "text": [
      " * sqlite:///library.db\n",
      "Done.\n"
     ]
    },
    {
     "data": {
      "text/plain": [
       "[]"
      ]
     },
     "execution_count": 95,
     "metadata": {},
     "output_type": "execute_result"
    }
   ],
   "source": [
    "%%sql\n",
    "CREATE TABLE Item(\n",
    "    author VARCHAR(30),\n",
    "    itemName VARCHAR(30) NOT NULL,\n",
    "    type VARCHAR(15) NOT NULL,\n",
    "    PRIMARY KEY (author, itemName)\n",
    ");"
   ]
  },
  {
   "cell_type": "code",
   "execution_count": 96,
   "id": "f2e4b7ce",
   "metadata": {},
   "outputs": [
    {
     "name": "stdout",
     "output_type": "stream",
     "text": [
      " * sqlite:///library.db\n",
      "Done.\n"
     ]
    },
    {
     "data": {
      "text/plain": [
       "[]"
      ]
     },
     "execution_count": 96,
     "metadata": {},
     "output_type": "execute_result"
    }
   ],
   "source": [
    "%%sql\n",
    "CREATE TABLE BorrowedItem(\n",
    "    userID REFERENCES User(userID) NOT NULL,\n",
    "    libraryItemID REFERENCES LibraryItem(libraryItemID) NOT NULL,\n",
    "    dueDate DATETIME DEFAULT (date(CURRENT_TIMESTAMP, '+14 day')) NOT NULL,\n",
    "    PRIMARY KEY (userID, libraryItemID, dueDate)\n",
    ");"
   ]
  },
  {
   "cell_type": "code",
   "execution_count": 97,
   "id": "4f3be898",
   "metadata": {},
   "outputs": [
    {
     "name": "stdout",
     "output_type": "stream",
     "text": [
      " * sqlite:///library.db\n",
      "Done.\n"
     ]
    },
    {
     "data": {
      "text/plain": [
       "[]"
      ]
     },
     "execution_count": 97,
     "metadata": {},
     "output_type": "execute_result"
    }
   ],
   "source": [
    "%%sql\n",
    "CREATE TABLE Event(\n",
    "    startTS DATETIME NOT NULL,\n",
    "    endTS DATETIME NOT NULL,\n",
    "    room VARCHAR(10) NOT NULL,\n",
    "    eventName VARCHAR(30) NOT NULL,\n",
    "    audience VARCHAR(20),\n",
    "    maxRegistrations INTEGER DEFAULT 0,\n",
    "    artist VARCHAR(30),\n",
    "    author REFERENCES Item(author),\n",
    "    itemName REFERENCES Item(itemName),\n",
    "    PRIMARY KEY (startTS, room),\n",
    "    CHECK (maxRegistrations >= 0)\n",
    ");"
   ]
  },
  {
   "cell_type": "code",
   "execution_count": 98,
   "id": "a36b1783",
   "metadata": {},
   "outputs": [
    {
     "name": "stdout",
     "output_type": "stream",
     "text": [
      " * sqlite:///library.db\n",
      "Done.\n"
     ]
    },
    {
     "data": {
      "text/plain": [
       "[]"
      ]
     },
     "execution_count": 98,
     "metadata": {},
     "output_type": "execute_result"
    }
   ],
   "source": [
    "%%sql\n",
    "CREATE TABLE EventRegistration(\n",
    "    startTS REFERENCES Event(startTS) NOT NULL,\n",
    "    room REFERENCES Event(room) NOT NULL,\n",
    "    userID REFERENCES User(userID) NOT NULL,\n",
    "    PRIMARY KEY (startTS, room)\n",
    ");"
   ]
  },
  {
   "cell_type": "code",
   "execution_count": 90,
   "id": "50767b99",
   "metadata": {},
   "outputs": [
    {
     "name": "stdout",
     "output_type": "stream",
     "text": [
      " * sqlite:///library.db\n",
      "Done.\n",
      "Done.\n",
      "Done.\n",
      "Done.\n",
      "Done.\n",
      "Done.\n",
      "(sqlite3.OperationalError) near \"EventRegistration\": syntax error\n",
      "[SQL: EventRegistration;]\n",
      "(Background on this error at: https://sqlalche.me/e/14/e3q8)\n"
     ]
    }
   ],
   "source": [
    "%%sql\n",
    "DROP TABLE Item;\n",
    "DROP TABLE User;\n",
    "DROP TABLE Librarian;\n",
    "DROP TABLE LibraryItem;\n",
    "DROP TABLE BorrowedItem;\n",
    "DROP TABLE Event;\n",
    "DROP TABLE EventRegistration;"
   ]
  },
  {
   "cell_type": "code",
   "execution_count": 91,
   "id": "7291fe3f",
   "metadata": {},
   "outputs": [
    {
     "name": "stdout",
     "output_type": "stream",
     "text": [
      " * sqlite:///library.db\n",
      "Done.\n"
     ]
    },
    {
     "data": {
      "text/plain": [
       "[]"
      ]
     },
     "execution_count": 91,
     "metadata": {},
     "output_type": "execute_result"
    }
   ],
   "source": [
    "%%sql\n",
    "DROP TABLE EventRegistration;"
   ]
  },
  {
   "cell_type": "code",
   "execution_count": null,
   "id": "1e4972c3",
   "metadata": {},
   "outputs": [],
   "source": []
  }
 ],
 "metadata": {
  "kernelspec": {
   "display_name": "Python 3 (ipykernel)",
   "language": "python",
   "name": "python3"
  },
  "language_info": {
   "codemirror_mode": {
    "name": "ipython",
    "version": 3
   },
   "file_extension": ".py",
   "mimetype": "text/x-python",
   "name": "python",
   "nbconvert_exporter": "python",
   "pygments_lexer": "ipython3",
   "version": "3.9.12"
  },
  "toc": {
   "base_numbering": 1,
   "nav_menu": {},
   "number_sections": true,
   "sideBar": true,
   "skip_h1_title": false,
   "title_cell": "Table of Contents",
   "title_sidebar": "Contents",
   "toc_cell": false,
   "toc_position": {},
   "toc_section_display": true,
   "toc_window_display": false
  },
  "varInspector": {
   "cols": {
    "lenName": 16,
    "lenType": 16,
    "lenVar": 40
   },
   "kernels_config": {
    "python": {
     "delete_cmd_postfix": "",
     "delete_cmd_prefix": "del ",
     "library": "var_list.py",
     "varRefreshCmd": "print(var_dic_list())"
    },
    "r": {
     "delete_cmd_postfix": ") ",
     "delete_cmd_prefix": "rm(",
     "library": "var_list.r",
     "varRefreshCmd": "cat(var_dic_list()) "
    }
   },
   "types_to_exclude": [
    "module",
    "function",
    "builtin_function_or_method",
    "instance",
    "_Feature"
   ],
   "window_display": false
  }
 },
 "nbformat": 4,
 "nbformat_minor": 5
}
